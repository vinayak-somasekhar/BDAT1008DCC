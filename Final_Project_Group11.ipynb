{
  "nbformat": 4,
  "nbformat_minor": 0,
  "metadata": {
    "colab": {
      "provenance": []
    },
    "kernelspec": {
      "name": "python3",
      "display_name": "Python 3"
    },
    "language_info": {
      "name": "python"
    }
  },
  "cells": [
    {
      "cell_type": "code",
      "execution_count": 1,
      "metadata": {
        "colab": {
          "base_uri": "https://localhost:8080/"
        },
        "id": "GtXmEWqYRVuV",
        "outputId": "4a330ab8-6f98-404b-a081-f6b0f44b9f13"
      },
      "outputs": [
        {
          "output_type": "stream",
          "name": "stdout",
          "text": [
            "Looking in indexes: https://pypi.org/simple, https://us-python.pkg.dev/colab-wheels/public/simple/\n",
            "Collecting pyspark\n",
            "  Downloading pyspark-3.3.1.tar.gz (281.4 MB)\n",
            "\u001b[K     |████████████████████████████████| 281.4 MB 38 kB/s \n",
            "\u001b[?25hCollecting py4j==0.10.9.5\n",
            "  Downloading py4j-0.10.9.5-py2.py3-none-any.whl (199 kB)\n",
            "\u001b[K     |████████████████████████████████| 199 kB 48.8 MB/s \n",
            "\u001b[?25hBuilding wheels for collected packages: pyspark\n",
            "  Building wheel for pyspark (setup.py) ... \u001b[?25l\u001b[?25hdone\n",
            "  Created wheel for pyspark: filename=pyspark-3.3.1-py2.py3-none-any.whl size=281845512 sha256=bc92986bb7a868b92506f9eec101705f2ebd5fce73cbd846c3d00b1dff5573a8\n",
            "  Stored in directory: /root/.cache/pip/wheels/43/dc/11/ec201cd671da62fa9c5cc77078235e40722170ceba231d7598\n",
            "Successfully built pyspark\n",
            "Installing collected packages: py4j, pyspark\n",
            "Successfully installed py4j-0.10.9.5 pyspark-3.3.1\n"
          ]
        }
      ],
      "source": [
        "!pip install pyspark"
      ]
    },
    {
      "cell_type": "code",
      "source": [
        "from pyspark.sql import SparkSession #we are creating a new spark session \n",
        "spark= SparkSession.builder.getOrCreate()\n",
        "from pyspark import SparkContext"
      ],
      "metadata": {
        "id": "UJ-uZDGVRfGD"
      },
      "execution_count": 156,
      "outputs": []
    },
    {
      "cell_type": "code",
      "source": [
        "spark"
      ],
      "metadata": {
        "colab": {
          "base_uri": "https://localhost:8080/",
          "height": 219
        },
        "id": "bMsMQWvuRgf7",
        "outputId": "efc208b6-4a1c-4af3-e150-acca2e6a0673"
      },
      "execution_count": 157,
      "outputs": [
        {
          "output_type": "execute_result",
          "data": {
            "text/plain": [
              "<pyspark.sql.session.SparkSession at 0x7f0799fc3a00>"
            ],
            "text/html": [
              "\n",
              "            <div>\n",
              "                <p><b>SparkSession - in-memory</b></p>\n",
              "                \n",
              "        <div>\n",
              "            <p><b>SparkContext</b></p>\n",
              "\n",
              "            <p><a href=\"http://4afd5c92f687:4040\">Spark UI</a></p>\n",
              "\n",
              "            <dl>\n",
              "              <dt>Version</dt>\n",
              "                <dd><code>v3.3.1</code></dd>\n",
              "              <dt>Master</dt>\n",
              "                <dd><code>local[*]</code></dd>\n",
              "              <dt>AppName</dt>\n",
              "                <dd><code>pyspark-shell</code></dd>\n",
              "            </dl>\n",
              "        </div>\n",
              "        \n",
              "            </div>\n",
              "        "
            ]
          },
          "metadata": {},
          "execution_count": 157
        }
      ]
    },
    {
      "cell_type": "code",
      "source": [
        "from google.colab import auth #authenticating my existing google collab User for connecting to my Google Cloud Storage\n",
        "auth.authenticate_user()"
      ],
      "metadata": {
        "id": "6W9_h1ClRiP4"
      },
      "execution_count": 158,
      "outputs": []
    },
    {
      "cell_type": "code",
      "source": [
        "!echo \"deb http://packages.cloud.google.com/apt gcsfuse-bionic main\" > /etc/apt/sources.list.d/gcsfuse.list\n",
        "!curl https://packages.cloud.google.com/apt/doc/apt-key.gpg | apt-key add -\n",
        "!apt -qq update\n",
        "!apt -qq install gcsfuse"
      ],
      "metadata": {
        "colab": {
          "base_uri": "https://localhost:8080/"
        },
        "id": "azNDpwcfRjs5",
        "outputId": "dcaf2ba1-11e5-4d46-b4ae-35797b7ac33c"
      },
      "execution_count": 159,
      "outputs": [
        {
          "output_type": "stream",
          "name": "stdout",
          "text": [
            "  % Total    % Received % Xferd  Average Speed   Time    Time     Time  Current\n",
            "                                 Dload  Upload   Total   Spent    Left  Speed\n",
            "\r  0     0    0     0    0     0      0      0 --:--:-- --:--:-- --:--:--     0\r100  2426  100  2426    0     0  67388      0 --:--:-- --:--:-- --:--:-- 67388\n",
            "OK\n",
            "34 packages can be upgraded. Run 'apt list --upgradable' to see them.\n",
            "gcsfuse is already the newest version (0.41.9).\n",
            "The following package was automatically installed and is no longer required:\n",
            "  libnvidia-common-460\n",
            "Use 'apt autoremove' to remove it.\n",
            "0 upgraded, 0 newly installed, 0 to remove and 34 not upgraded.\n"
          ]
        }
      ]
    },
    {
      "cell_type": "code",
      "source": [
        "!mkdir groupbucket\n",
        "!gcsfuse groupbucket groupbucket"
      ],
      "metadata": {
        "colab": {
          "base_uri": "https://localhost:8080/"
        },
        "id": "kBxenldZRlGe",
        "outputId": "4fef8066-8c8e-486c-97df-fda9783d52a6"
      },
      "execution_count": 160,
      "outputs": [
        {
          "output_type": "stream",
          "name": "stdout",
          "text": [
            "mkdir: cannot create directory ‘groupbucket’: File exists\n",
            "2022/12/12 03:52:24.804552 Start gcsfuse/0.41.9 (Go version go1.18.4) for app \"\" using mount point: /content/groupbucket\n",
            "2022/12/12 03:52:24.826874 Opening GCS connection...\n",
            "2022/12/12 03:52:25.505589 Mounting file system \"groupbucket\"...\n",
            "2022/12/12 03:52:25.506097 File system has been successfully mounted.\n"
          ]
        }
      ]
    },
    {
      "cell_type": "code",
      "source": [
        "from pyspark.sql.types import *\n",
        "from pyspark.sql.functions import *"
      ],
      "metadata": {
        "id": "0k6Rbp7YRmyW"
      },
      "execution_count": 161,
      "outputs": []
    },
    {
      "cell_type": "code",
      "source": [
        "path= 'groupbucket/cars.csv'   \n",
        "ordersSchema = StructType([\n",
        "  StructField(\"maker\", StringType(), True),\n",
        "  StructField(\"model\",StringType() , True),\n",
        "  StructField(\"mileage\", IntegerType(), True),\n",
        "  StructField(\"manufacture_year\", IntegerType(), True),\n",
        "  StructField(\"engine_displacement\", IntegerType(), True),\n",
        "  StructField(\"engine_power\", IntegerType(), True),\n",
        "  StructField(\"body_type\", StringType(), True),\n",
        "  StructField(\"color_slug\", StringType(), True),\n",
        "  StructField(\"stk_year\", IntegerType(), True),\n",
        "  StructField(\"transmission\", StringType(), True),\n",
        "  StructField(\"door_count\", IntegerType(), True),\n",
        "  StructField(\"seat_count\", IntegerType(), True),\n",
        "  StructField(\"fuel_type\", StringType(), True),\n",
        "  StructField(\"date_created\", DateType(), True),\n",
        "  StructField(\"date_last_seen\", DateType(), True),\n",
        "  StructField(\"price_eur\", DoubleType(), True)])\n",
        "\n",
        "\n",
        "df1 = spark.read.format(\"csv\") \\\n",
        "      .option(\"header\", True) \\\n",
        "      .schema(ordersSchema) \\\n",
        "      .load(path)"
      ],
      "metadata": {
        "id": "zmbs1HaqRoUu"
      },
      "execution_count": 162,
      "outputs": []
    },
    {
      "cell_type": "code",
      "source": [
        "df1.count()"
      ],
      "metadata": {
        "colab": {
          "base_uri": "https://localhost:8080/"
        },
        "id": "O-RvZ1zsRqI0",
        "outputId": "d24ad6ed-cc42-49c5-bb86-413c1bdeb280"
      },
      "execution_count": 163,
      "outputs": [
        {
          "output_type": "execute_result",
          "data": {
            "text/plain": [
              "3552912"
            ]
          },
          "metadata": {},
          "execution_count": 163
        }
      ]
    },
    {
      "cell_type": "code",
      "source": [
        "df1_copy = df1"
      ],
      "metadata": {
        "id": "TygZ30GLRrvb"
      },
      "execution_count": 164,
      "outputs": []
    },
    {
      "cell_type": "code",
      "source": [
        "df1.describe()"
      ],
      "metadata": {
        "colab": {
          "base_uri": "https://localhost:8080/"
        },
        "id": "BF8ffeWtRtOO",
        "outputId": "04fa747b-837c-4878-f7df-973f46f1f6a4"
      },
      "execution_count": 165,
      "outputs": [
        {
          "output_type": "execute_result",
          "data": {
            "text/plain": [
              "DataFrame[summary: string, maker: string, model: string, mileage: string, manufacture_year: string, engine_displacement: string, engine_power: string, body_type: string, color_slug: string, stk_year: string, transmission: string, door_count: string, seat_count: string, fuel_type: string, price_eur: string]"
            ]
          },
          "metadata": {},
          "execution_count": 165
        }
      ]
    },
    {
      "cell_type": "code",
      "source": [
        "from pyspark.sql.types import IntegerType , DoubleType , cast"
      ],
      "metadata": {
        "id": "59pmC-1zRvPl"
      },
      "execution_count": 166,
      "outputs": []
    },
    {
      "cell_type": "code",
      "source": [
        "df1.withColumn(\"mileage\",col(\"mileage\").cast(DoubleType())) \\\n",
        "    .withColumn(\"manufacture_year\",col(\"manufacture_year\").cast(IntegerType())) \\\n",
        "    .withColumn(\"engine_displacement\",col(\"engine_displacement\").cast(DoubleType())) \\\n",
        "    .withColumn(\"engine_power\",col(\"engine_power\").cast(DoubleType())) \\\n",
        "    .withColumn(\"stk_year\",col(\"stk_year\").cast(IntegerType())) \\\n",
        "    .withColumn(\"door_count\",col(\"door_count\").cast(IntegerType())) \\\n",
        "    .withColumn(\"seat_count\",col(\"seat_count\").cast(IntegerType())) \\\n",
        "    .withColumn(\"price_eur\",col(\"price_eur\").cast(DoubleType())) "
      ],
      "metadata": {
        "colab": {
          "base_uri": "https://localhost:8080/"
        },
        "id": "3XqtuOUvRyre",
        "outputId": "1cddb815-2535-44c8-b6de-6d6dc76f08c9"
      },
      "execution_count": 167,
      "outputs": [
        {
          "output_type": "execute_result",
          "data": {
            "text/plain": [
              "DataFrame[maker: string, model: string, mileage: double, manufacture_year: int, engine_displacement: double, engine_power: double, body_type: string, color_slug: string, stk_year: int, transmission: string, door_count: int, seat_count: int, fuel_type: string, date_created: date, date_last_seen: date, price_eur: double]"
            ]
          },
          "metadata": {},
          "execution_count": 167
        }
      ]
    },
    {
      "cell_type": "code",
      "source": [
        "missing_df =  df1.select([count(when(col(column).isNull(),column)).alias(column) for column in df1.columns])\n"
      ],
      "metadata": {
        "id": "GzSYsDMRR0Qj"
      },
      "execution_count": 168,
      "outputs": []
    },
    {
      "cell_type": "code",
      "source": [
        "missing_df.show()"
      ],
      "metadata": {
        "colab": {
          "base_uri": "https://localhost:8080/"
        },
        "id": "hvU1NsAlR2B2",
        "outputId": "d929d371-8021-483d-c89f-00409c57a4a5"
      },
      "execution_count": 169,
      "outputs": [
        {
          "output_type": "stream",
          "name": "stdout",
          "text": [
            "+------+-------+-------+----------------+-------------------+------------+---------+----------+--------+------------+----------+----------+---------+------------+--------------+---------+\n",
            "| maker|  model|mileage|manufacture_year|engine_displacement|engine_power|body_type|color_slug|stk_year|transmission|door_count|seat_count|fuel_type|date_created|date_last_seen|price_eur|\n",
            "+------+-------+-------+----------------+-------------------+------------+---------+----------+--------+------------+----------+----------+---------+------------+--------------+---------+\n",
            "|518915|1133361| 362584|          370578|             743414|      554877|  1122914|   3343411| 3016807|      741630|   1090066|   1287099|  1847606|           0|             0|        0|\n",
            "+------+-------+-------+----------------+-------------------+------------+---------+----------+--------+------------+----------+----------+---------+------------+--------------+---------+\n",
            "\n"
          ]
        }
      ]
    },
    {
      "cell_type": "code",
      "source": [
        "from os import name\n",
        "pd_missing_df = missing_df.toPandas()\n",
        "pd_missing_df=pd_missing_df.transpose().reset_index().rename(index=str, columns={0: \"Missing_Values_Count\"})\n",
        "pd_missing_df"
      ],
      "metadata": {
        "colab": {
          "base_uri": "https://localhost:8080/",
          "height": 551
        },
        "id": "ZRItPVn3R3iz",
        "outputId": "3cc587aa-2541-47fd-814e-f1e0040e55a8"
      },
      "execution_count": 170,
      "outputs": [
        {
          "output_type": "execute_result",
          "data": {
            "text/plain": [
              "                  index  Missing_Values_Count\n",
              "0                 maker                518915\n",
              "1                 model               1133361\n",
              "2               mileage                362584\n",
              "3      manufacture_year                370578\n",
              "4   engine_displacement                743414\n",
              "5          engine_power                554877\n",
              "6             body_type               1122914\n",
              "7            color_slug               3343411\n",
              "8              stk_year               3016807\n",
              "9          transmission                741630\n",
              "10           door_count               1090066\n",
              "11           seat_count               1287099\n",
              "12            fuel_type               1847606\n",
              "13         date_created                     0\n",
              "14       date_last_seen                     0\n",
              "15            price_eur                     0"
            ],
            "text/html": [
              "\n",
              "  <div id=\"df-faee55f5-9621-46ec-9092-fb44f7d39799\">\n",
              "    <div class=\"colab-df-container\">\n",
              "      <div>\n",
              "<style scoped>\n",
              "    .dataframe tbody tr th:only-of-type {\n",
              "        vertical-align: middle;\n",
              "    }\n",
              "\n",
              "    .dataframe tbody tr th {\n",
              "        vertical-align: top;\n",
              "    }\n",
              "\n",
              "    .dataframe thead th {\n",
              "        text-align: right;\n",
              "    }\n",
              "</style>\n",
              "<table border=\"1\" class=\"dataframe\">\n",
              "  <thead>\n",
              "    <tr style=\"text-align: right;\">\n",
              "      <th></th>\n",
              "      <th>index</th>\n",
              "      <th>Missing_Values_Count</th>\n",
              "    </tr>\n",
              "  </thead>\n",
              "  <tbody>\n",
              "    <tr>\n",
              "      <th>0</th>\n",
              "      <td>maker</td>\n",
              "      <td>518915</td>\n",
              "    </tr>\n",
              "    <tr>\n",
              "      <th>1</th>\n",
              "      <td>model</td>\n",
              "      <td>1133361</td>\n",
              "    </tr>\n",
              "    <tr>\n",
              "      <th>2</th>\n",
              "      <td>mileage</td>\n",
              "      <td>362584</td>\n",
              "    </tr>\n",
              "    <tr>\n",
              "      <th>3</th>\n",
              "      <td>manufacture_year</td>\n",
              "      <td>370578</td>\n",
              "    </tr>\n",
              "    <tr>\n",
              "      <th>4</th>\n",
              "      <td>engine_displacement</td>\n",
              "      <td>743414</td>\n",
              "    </tr>\n",
              "    <tr>\n",
              "      <th>5</th>\n",
              "      <td>engine_power</td>\n",
              "      <td>554877</td>\n",
              "    </tr>\n",
              "    <tr>\n",
              "      <th>6</th>\n",
              "      <td>body_type</td>\n",
              "      <td>1122914</td>\n",
              "    </tr>\n",
              "    <tr>\n",
              "      <th>7</th>\n",
              "      <td>color_slug</td>\n",
              "      <td>3343411</td>\n",
              "    </tr>\n",
              "    <tr>\n",
              "      <th>8</th>\n",
              "      <td>stk_year</td>\n",
              "      <td>3016807</td>\n",
              "    </tr>\n",
              "    <tr>\n",
              "      <th>9</th>\n",
              "      <td>transmission</td>\n",
              "      <td>741630</td>\n",
              "    </tr>\n",
              "    <tr>\n",
              "      <th>10</th>\n",
              "      <td>door_count</td>\n",
              "      <td>1090066</td>\n",
              "    </tr>\n",
              "    <tr>\n",
              "      <th>11</th>\n",
              "      <td>seat_count</td>\n",
              "      <td>1287099</td>\n",
              "    </tr>\n",
              "    <tr>\n",
              "      <th>12</th>\n",
              "      <td>fuel_type</td>\n",
              "      <td>1847606</td>\n",
              "    </tr>\n",
              "    <tr>\n",
              "      <th>13</th>\n",
              "      <td>date_created</td>\n",
              "      <td>0</td>\n",
              "    </tr>\n",
              "    <tr>\n",
              "      <th>14</th>\n",
              "      <td>date_last_seen</td>\n",
              "      <td>0</td>\n",
              "    </tr>\n",
              "    <tr>\n",
              "      <th>15</th>\n",
              "      <td>price_eur</td>\n",
              "      <td>0</td>\n",
              "    </tr>\n",
              "  </tbody>\n",
              "</table>\n",
              "</div>\n",
              "      <button class=\"colab-df-convert\" onclick=\"convertToInteractive('df-faee55f5-9621-46ec-9092-fb44f7d39799')\"\n",
              "              title=\"Convert this dataframe to an interactive table.\"\n",
              "              style=\"display:none;\">\n",
              "        \n",
              "  <svg xmlns=\"http://www.w3.org/2000/svg\" height=\"24px\"viewBox=\"0 0 24 24\"\n",
              "       width=\"24px\">\n",
              "    <path d=\"M0 0h24v24H0V0z\" fill=\"none\"/>\n",
              "    <path d=\"M18.56 5.44l.94 2.06.94-2.06 2.06-.94-2.06-.94-.94-2.06-.94 2.06-2.06.94zm-11 1L8.5 8.5l.94-2.06 2.06-.94-2.06-.94L8.5 2.5l-.94 2.06-2.06.94zm10 10l.94 2.06.94-2.06 2.06-.94-2.06-.94-.94-2.06-.94 2.06-2.06.94z\"/><path d=\"M17.41 7.96l-1.37-1.37c-.4-.4-.92-.59-1.43-.59-.52 0-1.04.2-1.43.59L10.3 9.45l-7.72 7.72c-.78.78-.78 2.05 0 2.83L4 21.41c.39.39.9.59 1.41.59.51 0 1.02-.2 1.41-.59l7.78-7.78 2.81-2.81c.8-.78.8-2.07 0-2.86zM5.41 20L4 18.59l7.72-7.72 1.47 1.35L5.41 20z\"/>\n",
              "  </svg>\n",
              "      </button>\n",
              "      \n",
              "  <style>\n",
              "    .colab-df-container {\n",
              "      display:flex;\n",
              "      flex-wrap:wrap;\n",
              "      gap: 12px;\n",
              "    }\n",
              "\n",
              "    .colab-df-convert {\n",
              "      background-color: #E8F0FE;\n",
              "      border: none;\n",
              "      border-radius: 50%;\n",
              "      cursor: pointer;\n",
              "      display: none;\n",
              "      fill: #1967D2;\n",
              "      height: 32px;\n",
              "      padding: 0 0 0 0;\n",
              "      width: 32px;\n",
              "    }\n",
              "\n",
              "    .colab-df-convert:hover {\n",
              "      background-color: #E2EBFA;\n",
              "      box-shadow: 0px 1px 2px rgba(60, 64, 67, 0.3), 0px 1px 3px 1px rgba(60, 64, 67, 0.15);\n",
              "      fill: #174EA6;\n",
              "    }\n",
              "\n",
              "    [theme=dark] .colab-df-convert {\n",
              "      background-color: #3B4455;\n",
              "      fill: #D2E3FC;\n",
              "    }\n",
              "\n",
              "    [theme=dark] .colab-df-convert:hover {\n",
              "      background-color: #434B5C;\n",
              "      box-shadow: 0px 1px 3px 1px rgba(0, 0, 0, 0.15);\n",
              "      filter: drop-shadow(0px 1px 2px rgba(0, 0, 0, 0.3));\n",
              "      fill: #FFFFFF;\n",
              "    }\n",
              "  </style>\n",
              "\n",
              "      <script>\n",
              "        const buttonEl =\n",
              "          document.querySelector('#df-faee55f5-9621-46ec-9092-fb44f7d39799 button.colab-df-convert');\n",
              "        buttonEl.style.display =\n",
              "          google.colab.kernel.accessAllowed ? 'block' : 'none';\n",
              "\n",
              "        async function convertToInteractive(key) {\n",
              "          const element = document.querySelector('#df-faee55f5-9621-46ec-9092-fb44f7d39799');\n",
              "          const dataTable =\n",
              "            await google.colab.kernel.invokeFunction('convertToInteractive',\n",
              "                                                     [key], {});\n",
              "          if (!dataTable) return;\n",
              "\n",
              "          const docLinkHtml = 'Like what you see? Visit the ' +\n",
              "            '<a target=\"_blank\" href=https://colab.research.google.com/notebooks/data_table.ipynb>data table notebook</a>'\n",
              "            + ' to learn more about interactive tables.';\n",
              "          element.innerHTML = '';\n",
              "          dataTable['output_type'] = 'display_data';\n",
              "          await google.colab.output.renderOutput(dataTable, element);\n",
              "          const docLink = document.createElement('div');\n",
              "          docLink.innerHTML = docLinkHtml;\n",
              "          element.appendChild(docLink);\n",
              "        }\n",
              "      </script>\n",
              "    </div>\n",
              "  </div>\n",
              "  "
            ]
          },
          "metadata": {},
          "execution_count": 170
        }
      ]
    },
    {
      "cell_type": "markdown",
      "source": [
        "**Visualization of Number of missing values in each of the attribute**\n",
        "---------------"
      ],
      "metadata": {
        "id": "1gHi_l5pR9Hi"
      }
    },
    {
      "cell_type": "code",
      "source": [
        "import pandas as pd\n",
        "import numpy as np\n",
        "import seaborn as sns\n",
        "import matplotlib.pyplot as plt"
      ],
      "metadata": {
        "id": "B6dG4sylR4_f"
      },
      "execution_count": 171,
      "outputs": []
    },
    {
      "cell_type": "code",
      "source": [
        "print(df1.count())"
      ],
      "metadata": {
        "colab": {
          "base_uri": "https://localhost:8080/"
        },
        "id": "zZ29D4fHR_zf",
        "outputId": "3b65c1e0-79f7-48a6-f3ab-5772a3a68320"
      },
      "execution_count": 172,
      "outputs": [
        {
          "output_type": "stream",
          "name": "stdout",
          "text": [
            "3552912\n"
          ]
        }
      ]
    },
    {
      "cell_type": "code",
      "source": [
        "type(missing_df)"
      ],
      "metadata": {
        "colab": {
          "base_uri": "https://localhost:8080/"
        },
        "id": "h9Kh6IteSBUB",
        "outputId": "e1d4d6f1-4eed-4946-bed5-53924a0dd417"
      },
      "execution_count": 173,
      "outputs": [
        {
          "output_type": "execute_result",
          "data": {
            "text/plain": [
              "pyspark.sql.dataframe.DataFrame"
            ]
          },
          "metadata": {},
          "execution_count": 173
        }
      ]
    },
    {
      "cell_type": "code",
      "source": [
        "plt.figure(figsize=(200,150), facecolor='grey')\n",
        "plotnumber = 1\n",
        "pd_missing_df.plot(x=\"index\", y=\"Missing_Values_Count\", kind=\"bar\",title=\"Missing Values Graph\")\n",
        "\n"
      ],
      "metadata": {
        "colab": {
          "base_uri": "https://localhost:8080/",
          "height": 713
        },
        "id": "S-XLL4R1SCiJ",
        "outputId": "7f5666a4-4b7d-41c1-cb3d-ef947a11d035"
      },
      "execution_count": 174,
      "outputs": [
        {
          "output_type": "execute_result",
          "data": {
            "text/plain": [
              "<matplotlib.axes._subplots.AxesSubplot at 0x7f0788132550>"
            ]
          },
          "metadata": {},
          "execution_count": 174
        },
        {
          "output_type": "display_data",
          "data": {
            "text/plain": [
              "<Figure size 14400x10800 with 0 Axes>"
            ]
          },
          "metadata": {}
        },
        {
          "output_type": "display_data",
          "data": {
            "text/plain": [
              "<Figure size 1130.4x667.44 with 1 Axes>"
            ],
            "image/png": "[encoded data removed]"
          },
          "metadata": {
            "needs_background": "light"
          }
        }
      ]
    },
    {
      "cell_type": "markdown",
      "source": [
        "**Grouping pyspark dataframe by price and counting number of occurences for each of the price**\n",
        "---------------"
      ],
      "metadata": {
        "id": "eff3smklSHnh"
      }
    },
    {
      "cell_type": "code",
      "source": [
        "price_group = df1.groupBy(\"price_eur\").agg(count('price_eur').alias('Count'))"
      ],
      "metadata": {
        "id": "naxscyrWSDxz"
      },
      "execution_count": 175,
      "outputs": []
    },
    {
      "cell_type": "code",
      "source": [
        "price_group_sorted = price_group.orderBy(\"Count\",ascending=[0])"
      ],
      "metadata": {
        "id": "WCGp8uhoSJnl"
      },
      "execution_count": 176,
      "outputs": []
    },
    {
      "cell_type": "code",
      "source": [
        "price_group_sorted.show()"
      ],
      "metadata": {
        "colab": {
          "base_uri": "https://localhost:8080/"
        },
        "id": "2E3f_AbTSKyN",
        "outputId": "cb41aac4-7d5f-4ab8-c9d2-8b35ed06fe4e"
      },
      "execution_count": 177,
      "outputs": [
        {
          "output_type": "stream",
          "name": "stdout",
          "text": [
            "+---------+------+\n",
            "|price_eur| Count|\n",
            "+---------+------+\n",
            "|  1295.34|673623|\n",
            "|   9900.0|  6609|\n",
            "|  10900.0|  6497|\n",
            "|  12900.0|  6274|\n",
            "|  11900.0|  6169|\n",
            "|   8900.0|  5935|\n",
            "|   6900.0|  5657|\n",
            "|  13900.0|  5597|\n",
            "|   4900.0|  5557|\n",
            "|  14900.0|  5556|\n",
            "|   3500.0|  5523|\n",
            "|   4500.0|  5484|\n",
            "|   5500.0|  5335|\n",
            "|   5900.0|  5305|\n",
            "|   555.14|  5300|\n",
            "|   6500.0|  5267|\n",
            "|   2500.0|  5233|\n",
            "|  2035.53|  5103|\n",
            "|   925.24|  4944|\n",
            "|   7900.0|  4915|\n",
            "+---------+------+\n",
            "only showing top 20 rows\n",
            "\n"
          ]
        }
      ]
    },
    {
      "cell_type": "code",
      "source": [
        "price_group_sorted_top= price_group_sorted.limit(10)\n",
        "price_group_sorted_top.show()\n"
      ],
      "metadata": {
        "colab": {
          "base_uri": "https://localhost:8080/"
        },
        "id": "wNFHOlI8SL-3",
        "outputId": "f33e136b-0ae0-4922-bccd-f6470b4ac508"
      },
      "execution_count": 178,
      "outputs": [
        {
          "output_type": "stream",
          "name": "stdout",
          "text": [
            "+---------+------+\n",
            "|price_eur| Count|\n",
            "+---------+------+\n",
            "|  1295.34|673623|\n",
            "|   9900.0|  6609|\n",
            "|  10900.0|  6497|\n",
            "|  12900.0|  6274|\n",
            "|  11900.0|  6169|\n",
            "|   8900.0|  5935|\n",
            "|   6900.0|  5657|\n",
            "|  13900.0|  5597|\n",
            "|   4900.0|  5557|\n",
            "|  14900.0|  5556|\n",
            "+---------+------+\n",
            "\n"
          ]
        }
      ]
    },
    {
      "cell_type": "code",
      "source": [
        "pd_price_group_sorted=price_group_sorted_top.toPandas()\n",
        "pd_price_group_sorted"
      ],
      "metadata": {
        "colab": {
          "base_uri": "https://localhost:8080/",
          "height": 363
        },
        "id": "OM670IhjSNl-",
        "outputId": "623030c0-91e6-4f9f-ad94-31ad0b0c122f"
      },
      "execution_count": 179,
      "outputs": [
        {
          "output_type": "execute_result",
          "data": {
            "text/plain": [
              "   price_eur   Count\n",
              "0    1295.34  673623\n",
              "1    9900.00    6609\n",
              "2   10900.00    6497\n",
              "3   12900.00    6274\n",
              "4   11900.00    6169\n",
              "5    8900.00    5935\n",
              "6    6900.00    5657\n",
              "7   13900.00    5597\n",
              "8    4900.00    5557\n",
              "9   14900.00    5556"
            ],
            "text/html": [
              "\n",
              "  <div id=\"df-e78a2344-ff67-48a7-9752-9f8b72a6bd6f\">\n",
              "    <div class=\"colab-df-container\">\n",
              "      <div>\n",
              "<style scoped>\n",
              "    .dataframe tbody tr th:only-of-type {\n",
              "        vertical-align: middle;\n",
              "    }\n",
              "\n",
              "    .dataframe tbody tr th {\n",
              "        vertical-align: top;\n",
              "    }\n",
              "\n",
              "    .dataframe thead th {\n",
              "        text-align: right;\n",
              "    }\n",
              "</style>\n",
              "<table border=\"1\" class=\"dataframe\">\n",
              "  <thead>\n",
              "    <tr style=\"text-align: right;\">\n",
              "      <th></th>\n",
              "      <th>price_eur</th>\n",
              "      <th>Count</th>\n",
              "    </tr>\n",
              "  </thead>\n",
              "  <tbody>\n",
              "    <tr>\n",
              "      <th>0</th>\n",
              "      <td>1295.34</td>\n",
              "      <td>673623</td>\n",
              "    </tr>\n",
              "    <tr>\n",
              "      <th>1</th>\n",
              "      <td>9900.00</td>\n",
              "      <td>6609</td>\n",
              "    </tr>\n",
              "    <tr>\n",
              "      <th>2</th>\n",
              "      <td>10900.00</td>\n",
              "      <td>6497</td>\n",
              "    </tr>\n",
              "    <tr>\n",
              "      <th>3</th>\n",
              "      <td>12900.00</td>\n",
              "      <td>6274</td>\n",
              "    </tr>\n",
              "    <tr>\n",
              "      <th>4</th>\n",
              "      <td>11900.00</td>\n",
              "      <td>6169</td>\n",
              "    </tr>\n",
              "    <tr>\n",
              "      <th>5</th>\n",
              "      <td>8900.00</td>\n",
              "      <td>5935</td>\n",
              "    </tr>\n",
              "    <tr>\n",
              "      <th>6</th>\n",
              "      <td>6900.00</td>\n",
              "      <td>5657</td>\n",
              "    </tr>\n",
              "    <tr>\n",
              "      <th>7</th>\n",
              "      <td>13900.00</td>\n",
              "      <td>5597</td>\n",
              "    </tr>\n",
              "    <tr>\n",
              "      <th>8</th>\n",
              "      <td>4900.00</td>\n",
              "      <td>5557</td>\n",
              "    </tr>\n",
              "    <tr>\n",
              "      <th>9</th>\n",
              "      <td>14900.00</td>\n",
              "      <td>5556</td>\n",
              "    </tr>\n",
              "  </tbody>\n",
              "</table>\n",
              "</div>\n",
              "      <button class=\"colab-df-convert\" onclick=\"convertToInteractive('df-e78a2344-ff67-48a7-9752-9f8b72a6bd6f')\"\n",
              "              title=\"Convert this dataframe to an interactive table.\"\n",
              "              style=\"display:none;\">\n",
              "        \n",
              "  <svg xmlns=\"http://www.w3.org/2000/svg\" height=\"24px\"viewBox=\"0 0 24 24\"\n",
              "       width=\"24px\">\n",
              "    <path d=\"M0 0h24v24H0V0z\" fill=\"none\"/>\n",
              "    <path d=\"M18.56 5.44l.94 2.06.94-2.06 2.06-.94-2.06-.94-.94-2.06-.94 2.06-2.06.94zm-11 1L8.5 8.5l.94-2.06 2.06-.94-2.06-.94L8.5 2.5l-.94 2.06-2.06.94zm10 10l.94 2.06.94-2.06 2.06-.94-2.06-.94-.94-2.06-.94 2.06-2.06.94z\"/><path d=\"M17.41 7.96l-1.37-1.37c-.4-.4-.92-.59-1.43-.59-.52 0-1.04.2-1.43.59L10.3 9.45l-7.72 7.72c-.78.78-.78 2.05 0 2.83L4 21.41c.39.39.9.59 1.41.59.51 0 1.02-.2 1.41-.59l7.78-7.78 2.81-2.81c.8-.78.8-2.07 0-2.86zM5.41 20L4 18.59l7.72-7.72 1.47 1.35L5.41 20z\"/>\n",
              "  </svg>\n",
              "      </button>\n",
              "      \n",
              "  <style>\n",
              "    .colab-df-container {\n",
              "      display:flex;\n",
              "      flex-wrap:wrap;\n",
              "      gap: 12px;\n",
              "    }\n",
              "\n",
              "    .colab-df-convert {\n",
              "      background-color: #E8F0FE;\n",
              "      border: none;\n",
              "      border-radius: 50%;\n",
              "      cursor: pointer;\n",
              "      display: none;\n",
              "      fill: #1967D2;\n",
              "      height: 32px;\n",
              "      padding: 0 0 0 0;\n",
              "      width: 32px;\n",
              "    }\n",
              "\n",
              "    .colab-df-convert:hover {\n",
              "      background-color: #E2EBFA;\n",
              "      box-shadow: 0px 1px 2px rgba(60, 64, 67, 0.3), 0px 1px 3px 1px rgba(60, 64, 67, 0.15);\n",
              "      fill: #174EA6;\n",
              "    }\n",
              "\n",
              "    [theme=dark] .colab-df-convert {\n",
              "      background-color: #3B4455;\n",
              "      fill: #D2E3FC;\n",
              "    }\n",
              "\n",
              "    [theme=dark] .colab-df-convert:hover {\n",
              "      background-color: #434B5C;\n",
              "      box-shadow: 0px 1px 3px 1px rgba(0, 0, 0, 0.15);\n",
              "      filter: drop-shadow(0px 1px 2px rgba(0, 0, 0, 0.3));\n",
              "      fill: #FFFFFF;\n",
              "    }\n",
              "  </style>\n",
              "\n",
              "      <script>\n",
              "        const buttonEl =\n",
              "          document.querySelector('#df-e78a2344-ff67-48a7-9752-9f8b72a6bd6f button.colab-df-convert');\n",
              "        buttonEl.style.display =\n",
              "          google.colab.kernel.accessAllowed ? 'block' : 'none';\n",
              "\n",
              "        async function convertToInteractive(key) {\n",
              "          const element = document.querySelector('#df-e78a2344-ff67-48a7-9752-9f8b72a6bd6f');\n",
              "          const dataTable =\n",
              "            await google.colab.kernel.invokeFunction('convertToInteractive',\n",
              "                                                     [key], {});\n",
              "          if (!dataTable) return;\n",
              "\n",
              "          const docLinkHtml = 'Like what you see? Visit the ' +\n",
              "            '<a target=\"_blank\" href=https://colab.research.google.com/notebooks/data_table.ipynb>data table notebook</a>'\n",
              "            + ' to learn more about interactive tables.';\n",
              "          element.innerHTML = '';\n",
              "          dataTable['output_type'] = 'display_data';\n",
              "          await google.colab.output.renderOutput(dataTable, element);\n",
              "          const docLink = document.createElement('div');\n",
              "          docLink.innerHTML = docLinkHtml;\n",
              "          element.appendChild(docLink);\n",
              "        }\n",
              "      </script>\n",
              "    </div>\n",
              "  </div>\n",
              "  "
            ]
          },
          "metadata": {},
          "execution_count": 179
        }
      ]
    },
    {
      "cell_type": "code",
      "source": [
        "plt.figure(figsize=(200,150), facecolor='grey')\n",
        "plotnumber = 1\n",
        "pd_price_group_sorted.plot(x=\"price_eur\", y=\"Count\", kind=\"bar\")"
      ],
      "metadata": {
        "colab": {
          "base_uri": "https://localhost:8080/",
          "height": 633
        },
        "id": "0WNh9DG5SPEV",
        "outputId": "fdd30d7e-12ff-46f1-b5ec-01b3825f4889"
      },
      "execution_count": 180,
      "outputs": [
        {
          "output_type": "execute_result",
          "data": {
            "text/plain": [
              "<matplotlib.axes._subplots.AxesSubplot at 0x7f07880cfeb0>"
            ]
          },
          "metadata": {},
          "execution_count": 180
        },
        {
          "output_type": "display_data",
          "data": {
            "text/plain": [
              "<Figure size 14400x10800 with 0 Axes>"
            ]
          },
          "metadata": {}
        },
        {
          "output_type": "display_data",
          "data": {
            "text/plain": [
              "<Figure size 1130.4x667.44 with 1 Axes>"
            ],
            "image/png": "[encoded data removed]"
          },
          "metadata": {
            "needs_background": "light"
          }
        }
      ]
    },
    {
      "cell_type": "markdown",
      "source": [
        "**Finding missing value percentage for each of the columns**\n",
        "-----------------"
      ],
      "metadata": {
        "id": "iOViaV-ISS35"
      }
    },
    {
      "cell_type": "code",
      "source": [
        "missing_df_new= spark.createDataFrame(pd_missing_df)\n",
        "missing_df_new.show()"
      ],
      "metadata": {
        "colab": {
          "base_uri": "https://localhost:8080/"
        },
        "id": "mI-L_qe5SQiB",
        "outputId": "a155cf14-078d-4459-ab8e-7c8337b5470e"
      },
      "execution_count": 181,
      "outputs": [
        {
          "output_type": "stream",
          "name": "stdout",
          "text": [
            "+-------------------+--------------------+\n",
            "|              index|Missing_Values_Count|\n",
            "+-------------------+--------------------+\n",
            "|              maker|              518915|\n",
            "|              model|             1133361|\n",
            "|            mileage|              362584|\n",
            "|   manufacture_year|              370578|\n",
            "|engine_displacement|              743414|\n",
            "|       engine_power|              554877|\n",
            "|          body_type|             1122914|\n",
            "|         color_slug|             3343411|\n",
            "|           stk_year|             3016807|\n",
            "|       transmission|              741630|\n",
            "|         door_count|             1090066|\n",
            "|         seat_count|             1287099|\n",
            "|          fuel_type|             1847606|\n",
            "|       date_created|                   0|\n",
            "|     date_last_seen|                   0|\n",
            "|          price_eur|                   0|\n",
            "+-------------------+--------------------+\n",
            "\n"
          ]
        }
      ]
    },
    {
      "cell_type": "code",
      "source": [
        "row_count= df1.count()"
      ],
      "metadata": {
        "id": "aKrk2RqJSUud"
      },
      "execution_count": 182,
      "outputs": []
    },
    {
      "cell_type": "code",
      "source": [
        "missing_df_new=missing_df_new.withColumn(\"Percent_missing\",round((round((col(\"Missing_Values_Count\")/row_count),2)*100),2))\n",
        "missing_df_copy = missing_df_new\n",
        "missing_df_new.show()\n",
        "missing_df_copy.show()"
      ],
      "metadata": {
        "colab": {
          "base_uri": "https://localhost:8080/"
        },
        "id": "US7h_7wrSWE8",
        "outputId": "690aa061-65a4-4e34-850a-1382bee4f43b"
      },
      "execution_count": 183,
      "outputs": [
        {
          "output_type": "stream",
          "name": "stdout",
          "text": [
            "+-------------------+--------------------+---------------+\n",
            "|              index|Missing_Values_Count|Percent_missing|\n",
            "+-------------------+--------------------+---------------+\n",
            "|              maker|              518915|           15.0|\n",
            "|              model|             1133361|           32.0|\n",
            "|            mileage|              362584|           10.0|\n",
            "|   manufacture_year|              370578|           10.0|\n",
            "|engine_displacement|              743414|           21.0|\n",
            "|       engine_power|              554877|           16.0|\n",
            "|          body_type|             1122914|           32.0|\n",
            "|         color_slug|             3343411|           94.0|\n",
            "|           stk_year|             3016807|           85.0|\n",
            "|       transmission|              741630|           21.0|\n",
            "|         door_count|             1090066|           31.0|\n",
            "|         seat_count|             1287099|           36.0|\n",
            "|          fuel_type|             1847606|           52.0|\n",
            "|       date_created|                   0|            0.0|\n",
            "|     date_last_seen|                   0|            0.0|\n",
            "|          price_eur|                   0|            0.0|\n",
            "+-------------------+--------------------+---------------+\n",
            "\n",
            "+-------------------+--------------------+---------------+\n",
            "|              index|Missing_Values_Count|Percent_missing|\n",
            "+-------------------+--------------------+---------------+\n",
            "|              maker|              518915|           15.0|\n",
            "|              model|             1133361|           32.0|\n",
            "|            mileage|              362584|           10.0|\n",
            "|   manufacture_year|              370578|           10.0|\n",
            "|engine_displacement|              743414|           21.0|\n",
            "|       engine_power|              554877|           16.0|\n",
            "|          body_type|             1122914|           32.0|\n",
            "|         color_slug|             3343411|           94.0|\n",
            "|           stk_year|             3016807|           85.0|\n",
            "|       transmission|              741630|           21.0|\n",
            "|         door_count|             1090066|           31.0|\n",
            "|         seat_count|             1287099|           36.0|\n",
            "|          fuel_type|             1847606|           52.0|\n",
            "|       date_created|                   0|            0.0|\n",
            "|     date_last_seen|                   0|            0.0|\n",
            "|          price_eur|                   0|            0.0|\n",
            "+-------------------+--------------------+---------------+\n",
            "\n"
          ]
        }
      ]
    },
    {
      "cell_type": "markdown",
      "source": [
        "**Dropping columns with more than 50% missing values**\n",
        "---------------"
      ],
      "metadata": {
        "id": "D21TO_83Sbrx"
      }
    },
    {
      "cell_type": "code",
      "source": [
        "drop_columns = missing_df_new.filter(missing_df_new.Percent_missing>50)\n"
      ],
      "metadata": {
        "id": "k8ynBjIuSXiV"
      },
      "execution_count": 184,
      "outputs": []
    },
    {
      "cell_type": "code",
      "source": [
        "\n",
        "drop_col= drop_columns.select(\"index\").toPandas()[\"index\"]\n",
        "drop_list= list(drop_col)\n",
        "drop_list\n"
      ],
      "metadata": {
        "colab": {
          "base_uri": "https://localhost:8080/"
        },
        "id": "vxkBTkikSd2j",
        "outputId": "8f4672cc-d403-4917-abb5-8575120461a0"
      },
      "execution_count": 185,
      "outputs": [
        {
          "output_type": "execute_result",
          "data": {
            "text/plain": [
              "['color_slug', 'stk_year', 'fuel_type']"
            ]
          },
          "metadata": {},
          "execution_count": 185
        }
      ]
    },
    {
      "cell_type": "code",
      "source": [
        "for i in drop_list:\n",
        "  df1_copy=df1_copy.drop(i)"
      ],
      "metadata": {
        "id": "WnpzRGjPSfLq"
      },
      "execution_count": 186,
      "outputs": []
    },
    {
      "cell_type": "code",
      "source": [
        "df1_copy.show()"
      ],
      "metadata": {
        "colab": {
          "base_uri": "https://localhost:8080/"
        },
        "id": "RhGZ67_GShbZ",
        "outputId": "09e13c63-6872-4c52-8949-b07128e0fa1c"
      },
      "execution_count": 187,
      "outputs": [
        {
          "output_type": "stream",
          "name": "stdout",
          "text": [
            "+------+-------+-------+----------------+-------------------+------------+---------+------------+----------+----------+------------+--------------+---------+\n",
            "| maker|  model|mileage|manufacture_year|engine_displacement|engine_power|body_type|transmission|door_count|seat_count|date_created|date_last_seen|price_eur|\n",
            "+------+-------+-------+----------------+-------------------+------------+---------+------------+----------+----------+------------+--------------+---------+\n",
            "|  ford| galaxy| 151000|            2011|               2000|         103|     null|         man|         5|         7|  2015-11-14|    2016-01-27| 10584.75|\n",
            "| skoda|octavia| 143476|            2012|               2000|          81|     null|         man|         5|         5|  2015-11-14|    2016-01-27|  8882.31|\n",
            "|   bmw|   null|  97676|            2010|               1995|          85|     null|         man|         5|         5|  2015-11-14|    2016-01-27| 12065.06|\n",
            "| skoda|  fabia| 111970|            2004|               1200|          47|     null|         man|         5|         5|  2015-11-14|    2016-01-27|  2960.77|\n",
            "| skoda|  fabia| 128886|            2004|               1200|          47|     null|         man|         5|         5|  2015-11-14|    2016-01-27|  2738.71|\n",
            "| skoda|  fabia| 140932|            2003|               1200|          40|     null|         man|         5|         5|  2015-11-14|    2016-01-27|  1628.42|\n",
            "| skoda|  fabia| 167220|            2001|               1400|          74|     null|         man|         5|         5|  2015-11-14|    2016-01-27|  2072.54|\n",
            "|   bmw|   null| 148500|            2009|               2000|         130|     null|        auto|         5|         5|  2015-11-14|    2016-01-27| 10547.74|\n",
            "| skoda|octavia| 105389|            2003|               1900|          81|     null|         man|         5|         5|  2015-11-14|    2016-01-27|  4293.12|\n",
            "|  null|   null| 301381|            2002|               1900|          88|     null|         man|         5|         5|  2015-11-14|    2016-01-27|  1332.35|\n",
            "|  null|   null| 202136|            2002|               1400|          55|     null|         man|         5|         5|  2015-11-14|    2016-01-27|   740.19|\n",
            "|  null|   null| 263840|            1998|               1900|          81|     null|         man|         5|         5|  2015-11-14|    2016-01-27|   999.26|\n",
            "|  null|   null| 105394|            2000|               1360|          55|     null|         man|         3|         5|  2015-11-14|    2016-01-27|  1665.43|\n",
            "| skoda|favorit|  41250|            1990|               1300|          44|     null|         man|         5|         5|  2015-11-14|    2016-01-27|    370.1|\n",
            "|suzuki|  swift| 122100|            2003|               1000|          39|     null|         man|         5|         5|  2015-11-14|    2016-01-27|   999.26|\n",
            "|nissan|x-trail| 149465|            2005|               2500|         121|     null|        auto|         5|         5|  2015-11-14|    2016-01-27|  4811.25|\n",
            "|  null|   null| 115879|            2003|               1900|          88|     null|         man|         5|         5|  2015-11-14|    2016-01-27|  2220.58|\n",
            "|  opel|  astra| 316054|            2005|               1700|          74|     null|         man|         5|         5|  2015-11-14|    2016-01-27|  2331.61|\n",
            "| skoda| superb| 269398|            2005|               1900|          96|     null|         man|         4|         5|  2015-11-14|    2016-01-27|  4663.21|\n",
            "| skoda|  fabia|  87257|            2008|               1200|          44|     null|         man|         5|         5|  2015-11-14|    2016-01-27|   4219.1|\n",
            "+------+-------+-------+----------------+-------------------+------------+---------+------------+----------+----------+------------+--------------+---------+\n",
            "only showing top 20 rows\n",
            "\n"
          ]
        }
      ]
    },
    {
      "cell_type": "markdown",
      "source": [
        "**Removing rows with Count=1 as these are irrelevant for analysis due to low count**\n",
        "--------------"
      ],
      "metadata": {
        "id": "4rAIbjWqSnjd"
      }
    },
    {
      "cell_type": "code",
      "source": [
        "price_group_filter=price_group_sorted.filter(price_group_sorted.Count>1)\n",
        "price_group_filter_new= price_group_filter.drop(\"Count\")\n",
        "\n",
        "price_group_filter_new.show()\n",
        "price_group_filter_new=price_group_filter_new.withColumnRenamed(\"price_eur\",\"price_eur_new\")\n",
        "price_group_filter_new.show()"
      ],
      "metadata": {
        "colab": {
          "base_uri": "https://localhost:8080/"
        },
        "id": "ay5DnceXSi5E",
        "outputId": "cd4cf9c5-cffc-4374-a382-ddf705767029"
      },
      "execution_count": 188,
      "outputs": [
        {
          "output_type": "stream",
          "name": "stdout",
          "text": [
            "+---------+\n",
            "|price_eur|\n",
            "+---------+\n",
            "|  1295.34|\n",
            "|   9900.0|\n",
            "|  10900.0|\n",
            "|  12900.0|\n",
            "|  11900.0|\n",
            "|   8900.0|\n",
            "|   6900.0|\n",
            "|  13900.0|\n",
            "|   4900.0|\n",
            "|  14900.0|\n",
            "|   3500.0|\n",
            "|   4500.0|\n",
            "|   5500.0|\n",
            "|   5900.0|\n",
            "|   555.14|\n",
            "|   6500.0|\n",
            "|   2500.0|\n",
            "|  2035.53|\n",
            "|   925.24|\n",
            "|   7900.0|\n",
            "+---------+\n",
            "only showing top 20 rows\n",
            "\n",
            "+-------------+\n",
            "|price_eur_new|\n",
            "+-------------+\n",
            "|      1295.34|\n",
            "|       9900.0|\n",
            "|      10900.0|\n",
            "|      12900.0|\n",
            "|      11900.0|\n",
            "|       8900.0|\n",
            "|       6900.0|\n",
            "|      13900.0|\n",
            "|       4900.0|\n",
            "|      14900.0|\n",
            "|       3500.0|\n",
            "|       4500.0|\n",
            "|       5500.0|\n",
            "|       5900.0|\n",
            "|       555.14|\n",
            "|       6500.0|\n",
            "|       2500.0|\n",
            "|      2035.53|\n",
            "|       925.24|\n",
            "|       7900.0|\n",
            "+-------------+\n",
            "only showing top 20 rows\n",
            "\n"
          ]
        }
      ]
    },
    {
      "cell_type": "code",
      "source": [
        "joined_df = df1_copy.join(price_group_filter_new,df1_copy.price_eur==price_group_filter_new.price_eur_new,\"inner\")"
      ],
      "metadata": {
        "id": "pf27K_O4SmPd"
      },
      "execution_count": 189,
      "outputs": []
    },
    {
      "cell_type": "code",
      "source": [
        "joined_df.show()"
      ],
      "metadata": {
        "colab": {
          "base_uri": "https://localhost:8080/"
        },
        "id": "uRskh2JCSrjs",
        "outputId": "772159ec-31af-4b9e-8160-c6ee776a7b87"
      },
      "execution_count": 190,
      "outputs": [
        {
          "output_type": "stream",
          "name": "stdout",
          "text": [
            "+-------+-------------+-------+----------------+-------------------+------------+---------+------------+----------+----------+------------+--------------+---------+-------------+\n",
            "|  maker|        model|mileage|manufacture_year|engine_displacement|engine_power|body_type|transmission|door_count|seat_count|date_created|date_last_seen|price_eur|price_eur_new|\n",
            "+-------+-------------+-------+----------------+-------------------+------------+---------+------------+----------+----------+------------+--------------+---------+-------------+\n",
            "|  skoda|        fabia| 111970|            2004|               1200|          47|     null|         man|         5|         5|  2015-11-14|    2016-01-27|  2960.77|      2960.77|\n",
            "|  skoda|        fabia| 130749|            2004|               1200|          47|     null|         man|         5|         5|  2015-11-14|    2016-01-27|  2960.77|      2960.77|\n",
            "|   fiat|        stilo|  63588|            2004|               1600|          76|     null|         man|         5|         5|  2015-11-14|    2016-01-27|  2960.77|      2960.77|\n",
            "|  skoda|        fabia|  79348|            2005|               1200|          47|     null|         man|         5|         5|  2015-11-14|    2016-01-27|  2960.77|      2960.77|\n",
            "|   ford|       mondeo| 137382|            2011|               2000|         103|     null|         man|         5|         5|  2015-11-14|    2016-01-27| 10173.95|     10173.95|\n",
            "|   null|         null| 233723|            2002|               1896|          96|     null|         man|         5|         5|  2015-11-14|    2016-01-27|  3515.54|      3515.54|\n",
            "|  skoda|        fabia| 105849|            2004|               1200|          47|     null|         man|         5|         5|  2015-11-14|    2016-01-27|  2960.77|      2960.77|\n",
            "|   ford|       mondeo| 145198|            2011|               2000|         103|     null|         man|         5|         5|  2015-11-14|    2016-01-27| 10173.95|     10173.95|\n",
            "|  honda|         jazz|  85855|            2005|               1250|          57|     null|         man|         5|         5|  2015-11-14|    2016-01-27|  2960.77|      2960.77|\n",
            "|  dodge|grand-caravan|  38800|            2012|               3605|         211|     null|        auto|         5|         7|  2015-11-14|    2016-01-27| 16653.96|     16653.96|\n",
            "|hyundai|         getz|  22000|            null|               1086|          48|     null|         man|         5|         5|  2015-11-14|    2016-01-27|  4440.78|      4440.78|\n",
            "|   null|         null| 137459|            2004|               1390|          55|     null|         man|         4|         5|  2015-11-14|    2016-01-27|   181.35|       181.35|\n",
            "|   null|         null| 138015|            2005|               1200|          40|     null|         man|         5|         5|  2015-11-14|    2016-01-27|  2960.77|      2960.77|\n",
            "|  mazda|            3| 178902|            2004|               1600|          85|     null|         man|         5|         5|  2015-11-14|    2016-01-27|  2960.77|      2960.77|\n",
            "|  skoda|       superb| 172999|            2011|               2000|         147|     null|        auto|         5|         5|  2015-11-14|    2016-01-27| 12657.29|     12657.29|\n",
            "|   ford|         null| 135000|            1992|               2301|          85|     null|         man|         2|         3|  2015-11-14|    2016-01-27|  2960.77|      2960.77|\n",
            "|   null|         null|      5|            2015|               1197|          96|     null|         man|         5|         5|  2015-11-14|    2016-01-27| 18023.69|     18023.69|\n",
            "|  skoda|        fabia|  82229|            2006|               1200|          40|     null|         man|         5|         5|  2015-11-14|    2016-01-27|  2960.77|      2960.77|\n",
            "|   null|         null|  77500|            2001|               1100|          55|     null|         man|         3|         5|  2015-11-14|    2016-01-27|  1887.49|      1887.49|\n",
            "|  skoda|      octavia| 192569|            2003|               1600|          75|     null|         man|         5|         5|  2015-11-14|    2016-01-27|  2960.77|      2960.77|\n",
            "+-------+-------------+-------+----------------+-------------------+------------+---------+------------+----------+----------+------------+--------------+---------+-------------+\n",
            "only showing top 20 rows\n",
            "\n"
          ]
        }
      ]
    },
    {
      "cell_type": "code",
      "source": [
        "joined_df_new=joined_df.groupBy(\"price_eur\").agg(count(\"price_eur\").alias(\"Count_Value\"))\n"
      ],
      "metadata": {
        "id": "545pCFqHStIo"
      },
      "execution_count": 191,
      "outputs": []
    },
    {
      "cell_type": "code",
      "source": [
        "joined_df_new.show()"
      ],
      "metadata": {
        "colab": {
          "base_uri": "https://localhost:8080/"
        },
        "id": "NLl4hn1-SunP",
        "outputId": "ca86f486-e92c-4f4f-beb5-50d839fda46e"
      },
      "execution_count": 192,
      "outputs": [
        {
          "output_type": "stream",
          "name": "stdout",
          "text": [
            "+---------+-----------+\n",
            "|price_eur|Count_Value|\n",
            "+---------+-----------+\n",
            "|  2960.77|       2250|\n",
            "| 10173.95|         55|\n",
            "|  3515.54|         46|\n",
            "| 16653.96|         59|\n",
            "|  4440.78|        132|\n",
            "|   181.35|        120|\n",
            "| 12657.29|         22|\n",
            "| 18023.69|         24|\n",
            "|  1887.49|        347|\n",
            "|  3993.34|         36|\n",
            "| 33678.76|          8|\n",
            "|   795.71|         66|\n",
            "|     8.51|          9|\n",
            "|   5014.8|         32|\n",
            "|  9045.89|          6|\n",
            "| 32161.36|         31|\n",
            "|    12.32|          5|\n",
            "|  2891.27|         37|\n",
            "|  7498.33|          4|\n",
            "|  7949.41|          6|\n",
            "+---------+-----------+\n",
            "only showing top 20 rows\n",
            "\n"
          ]
        }
      ]
    },
    {
      "cell_type": "code",
      "source": [
        "joined_df_new.filter(joined_df_new.Count_Value<2).show()\n"
      ],
      "metadata": {
        "colab": {
          "base_uri": "https://localhost:8080/"
        },
        "id": "6PQMtgQxSv1k",
        "outputId": "f3e1b03e-228d-4b0b-e65d-da66dde043f2"
      },
      "execution_count": 193,
      "outputs": [
        {
          "output_type": "stream",
          "name": "stdout",
          "text": [
            "+---------+-----------+\n",
            "|price_eur|Count_Value|\n",
            "+---------+-----------+\n",
            "+---------+-----------+\n",
            "\n"
          ]
        }
      ]
    },
    {
      "cell_type": "code",
      "source": [
        "joined_df.count()"
      ],
      "metadata": {
        "colab": {
          "base_uri": "https://localhost:8080/"
        },
        "id": "qV74ZMp_SxMt",
        "outputId": "1328e467-9a20-493e-c62d-a5b106c1566f"
      },
      "execution_count": 194,
      "outputs": [
        {
          "output_type": "execute_result",
          "data": {
            "text/plain": [
              "3446944"
            ]
          },
          "metadata": {},
          "execution_count": 194
        }
      ]
    },
    {
      "cell_type": "markdown",
      "source": [
        "**The final cleaning process involves deleting rows that have missing \"maker\" or \"Model\" attributes as these are useful for our analysis. This ends our cleaning process.**\n",
        "----------------------------"
      ],
      "metadata": {
        "id": "rg7cKDNkS1bF"
      }
    },
    {
      "cell_type": "code",
      "source": [
        "cleaned_data = joined_df.na.drop(subset=[\"maker\",\"model\"])\n",
        "cleaned_data = cleaned_data.drop(\"price_eur_new\")"
      ],
      "metadata": {
        "id": "qkDxdr2_SypU"
      },
      "execution_count": 195,
      "outputs": []
    },
    {
      "cell_type": "code",
      "source": [
        "cleaned_data_missing= cleaned_data.select([count(when(col(column).isNull(),column)).alias(column) for column in cleaned_data.columns])\n"
      ],
      "metadata": {
        "id": "J6gRFMHgS3Qg"
      },
      "execution_count": 196,
      "outputs": []
    },
    {
      "cell_type": "code",
      "source": [
        "cleaned_data_missing.show()"
      ],
      "metadata": {
        "colab": {
          "base_uri": "https://localhost:8080/"
        },
        "id": "LhcM09ebS4ok",
        "outputId": "2d22eeb9-358e-432c-aa12-f6d81ad9fc26"
      },
      "execution_count": 197,
      "outputs": [
        {
          "output_type": "stream",
          "name": "stdout",
          "text": [
            "+-----+-----+-------+----------------+-------------------+------------+---------+------------+----------+----------+------------+--------------+---------+\n",
            "|maker|model|mileage|manufacture_year|engine_displacement|engine_power|body_type|transmission|door_count|seat_count|date_created|date_last_seen|price_eur|\n",
            "+-----+-----+-------+----------------+-------------------+------------+---------+------------+----------+----------+------------+--------------+---------+\n",
            "|    0|    0| 233330|          227799|             445108|      319388|   540626|      492827|    698964|    830442|           0|             0|        0|\n",
            "+-----+-----+-------+----------------+-------------------+------------+---------+------------+----------+----------+------------+--------------+---------+\n",
            "\n"
          ]
        }
      ]
    },
    {
      "cell_type": "code",
      "source": [
        "cleaned_data.count()"
      ],
      "metadata": {
        "colab": {
          "base_uri": "https://localhost:8080/"
        },
        "id": "X7ijomdpS54T",
        "outputId": "a4f9cf4f-c5dd-4438-d0cc-c0a94a4c49ce"
      },
      "execution_count": 198,
      "outputs": [
        {
          "output_type": "execute_result",
          "data": {
            "text/plain": [
              "2358965"
            ]
          },
          "metadata": {},
          "execution_count": 198
        }
      ]
    },
    {
      "cell_type": "markdown",
      "source": [
        "**Introducing a new column \"Segment\" which will indicate wether the car is \"Standard\", \"Executive\" or Luxury based on price**\n",
        "-------------\n",
        "Standard cars: less than 18000 Euro\n",
        "-----------------\n",
        "Executive Cars: 18000 to 300,000 Euro\n",
        "-------------\n",
        "Luxury cars:  more than 300,000 Euro**\n",
        "---------------"
      ],
      "metadata": {
        "id": "7-92PYjCTAPw"
      }
    },
    {
      "cell_type": "code",
      "source": [
        "from pyspark.sql.functions import col,lit,when"
      ],
      "metadata": {
        "id": "l9RGHPdJS7TQ"
      },
      "execution_count": 46,
      "outputs": []
    },
    {
      "cell_type": "code",
      "source": [
        "cleaned_data.withColumn(\"mileage\",col(\"mileage\").cast(DoubleType())) \\\n",
        "    .withColumn(\"manufacture_year\",col(\"manufacture_year\").cast(IntegerType())) \\\n",
        "    .withColumn(\"engine_displacement\",col(\"engine_displacement\").cast(DoubleType())) \\\n",
        "    .withColumn(\"engine_power\",col(\"engine_power\").cast(DoubleType())) \\\n",
        "    .withColumn(\"door_count\",col(\"door_count\").cast(IntegerType())) \\\n",
        "    .withColumn(\"seat_count\",col(\"seat_count\").cast(IntegerType())) \\\n",
        "    .withColumn(\"price_eur\",col(\"price_eur\").cast(DoubleType())) "
      ],
      "metadata": {
        "colab": {
          "base_uri": "https://localhost:8080/"
        },
        "id": "-MPUnV_OTCkG",
        "outputId": "0fe133d7-e6fe-432c-aeaa-f8531ba6ef64"
      },
      "execution_count": 47,
      "outputs": [
        {
          "output_type": "execute_result",
          "data": {
            "text/plain": [
              "DataFrame[maker: string, model: string, mileage: double, manufacture_year: int, engine_displacement: double, engine_power: double, body_type: string, transmission: string, door_count: int, seat_count: int, date_created: date, date_last_seen: date, price_eur: double]"
            ]
          },
          "metadata": {},
          "execution_count": 47
        }
      ]
    },
    {
      "cell_type": "code",
      "source": [
        "final_data = cleaned_data.withColumn(\"Segment\", when(((col(\"price_eur\")<18000)) ,lit(\"Standard\"))\\\n",
        "                        .when(((col(\"price_eur\")>=18000) & (col(\"price_eur\")<300000)),lit(\"Executive\"))\\\n",
        "                        .when(((col(\"price_eur\")>=300000)),lit(\"Luxury\")))"
      ],
      "metadata": {
        "id": "tSlGT1WZTEqo"
      },
      "execution_count": 48,
      "outputs": []
    },
    {
      "cell_type": "code",
      "source": [
        "final_data.show()"
      ],
      "metadata": {
        "colab": {
          "base_uri": "https://localhost:8080/"
        },
        "id": "0FLu9fFMTGDk",
        "outputId": "ba26a5e1-a058-4538-91b2-bee88658ebe6"
      },
      "execution_count": 49,
      "outputs": [
        {
          "output_type": "stream",
          "name": "stdout",
          "text": [
            "+---------+-------------+-------+----------------+-------------------+------------+---------+------------+----------+----------+------------+--------------+---------+--------+\n",
            "|    maker|        model|mileage|manufacture_year|engine_displacement|engine_power|body_type|transmission|door_count|seat_count|date_created|date_last_seen|price_eur| Segment|\n",
            "+---------+-------------+-------+----------------+-------------------+------------+---------+------------+----------+----------+------------+--------------+---------+--------+\n",
            "|    skoda|        fabia| 111970|            2004|               1200|          47|     null|         man|         5|         5|  2015-11-14|    2016-01-27|  2960.77|Standard|\n",
            "|    skoda|        fabia| 130749|            2004|               1200|          47|     null|         man|         5|         5|  2015-11-14|    2016-01-27|  2960.77|Standard|\n",
            "|     fiat|        stilo|  63588|            2004|               1600|          76|     null|         man|         5|         5|  2015-11-14|    2016-01-27|  2960.77|Standard|\n",
            "|    skoda|        fabia|  79348|            2005|               1200|          47|     null|         man|         5|         5|  2015-11-14|    2016-01-27|  2960.77|Standard|\n",
            "|     ford|       mondeo| 137382|            2011|               2000|         103|     null|         man|         5|         5|  2015-11-14|    2016-01-27| 10173.95|Standard|\n",
            "|    skoda|        fabia| 105849|            2004|               1200|          47|     null|         man|         5|         5|  2015-11-14|    2016-01-27|  2960.77|Standard|\n",
            "|     ford|       mondeo| 145198|            2011|               2000|         103|     null|         man|         5|         5|  2015-11-14|    2016-01-27| 10173.95|Standard|\n",
            "|    honda|         jazz|  85855|            2005|               1250|          57|     null|         man|         5|         5|  2015-11-14|    2016-01-27|  2960.77|Standard|\n",
            "|    dodge|grand-caravan|  38800|            2012|               3605|         211|     null|        auto|         5|         7|  2015-11-14|    2016-01-27| 16653.96|Standard|\n",
            "|  hyundai|         getz|  22000|            null|               1086|          48|     null|         man|         5|         5|  2015-11-14|    2016-01-27|  4440.78|Standard|\n",
            "|    mazda|            3| 178902|            2004|               1600|          85|     null|         man|         5|         5|  2015-11-14|    2016-01-27|  2960.77|Standard|\n",
            "|    skoda|       superb| 172999|            2011|               2000|         147|     null|        auto|         5|         5|  2015-11-14|    2016-01-27| 12657.29|Standard|\n",
            "|    skoda|        fabia|  82229|            2006|               1200|          40|     null|         man|         5|         5|  2015-11-14|    2016-01-27|  2960.77|Standard|\n",
            "|    skoda|      octavia| 192569|            2003|               1600|          75|     null|         man|         5|         5|  2015-11-14|    2016-01-27|  2960.77|Standard|\n",
            "|    skoda|      octavia| 170189|            2005|               1600|          75|     null|         man|         5|         5|  2015-11-14|    2016-01-27|  2960.77|Standard|\n",
            "|    skoda|        fabia| 165457|            2007|               1200|          47|     null|         man|         5|         5|  2015-11-14|    2016-01-27|  2960.77|Standard|\n",
            "|chevrolet|        spark|  40377|            2008|                800|          38|     null|         man|         5|         5|  2015-11-14|    2016-01-27|  2960.77|Standard|\n",
            "|    volvo|         xc70| 227230|            2001|               2400|         147|     null|         man|         5|         5|  2015-11-14|    2016-01-27|  2960.77|Standard|\n",
            "|    skoda|      octavia|  29472|            2013|               1598|          77|     null|         man|         5|      null|  2015-11-14|    2016-01-27| 16653.96|Standard|\n",
            "|     ford|       fusion| 106000|            null|               1388|          59|     null|         man|         5|         5|  2015-11-14|    2016-01-27|  3993.34|Standard|\n",
            "+---------+-------------+-------+----------------+-------------------+------------+---------+------------+----------+----------+------------+--------------+---------+--------+\n",
            "only showing top 20 rows\n",
            "\n"
          ]
        }
      ]
    },
    {
      "cell_type": "code",
      "source": [
        "grouped_data = final_data.groupBy(\"maker\",\"model\",\"price_eur\").agg(count(\"*\").alias(\"Count_cars\"))\n"
      ],
      "metadata": {
        "id": "zQi2cnOWTHbQ"
      },
      "execution_count": 50,
      "outputs": []
    },
    {
      "cell_type": "code",
      "source": [
        "grouped_data.orderBy(col(\"Count_cars\").desc()).show()"
      ],
      "metadata": {
        "colab": {
          "base_uri": "https://localhost:8080/"
        },
        "id": "m9xpNhysTI22",
        "outputId": "7a8b7b5f-0922-4f2e-dbcf-40521091dca8"
      },
      "execution_count": 51,
      "outputs": [
        {
          "output_type": "stream",
          "name": "stdout",
          "text": [
            "+----------+-------+---------+----------+\n",
            "|     maker|  model|price_eur|Count_cars|\n",
            "+----------+-------+---------+----------+\n",
            "|     skoda|octavia|  1295.34|     65124|\n",
            "|     skoda|  fabia|  1295.34|     42704|\n",
            "|volkswagen|   golf|  1295.34|     21341|\n",
            "|volkswagen| passat|  1295.34|     20267|\n",
            "|      ford|  focus|  1295.34|     16415|\n",
            "|     skoda| superb|  1295.34|     12726|\n",
            "|      ford| mondeo|  1295.34|     11344|\n",
            "|   renault| megane|  1295.34|      8686|\n",
            "|      opel|  astra|  1295.34|      8266|\n",
            "|volkswagen| touran|  1295.34|      7038|\n",
            "|      audi|     a4|  1295.34|      6871|\n",
            "|     skoda|felicia|  1295.34|      6539|\n",
            "|   peugeot|    206|  1295.34|      6257|\n",
            "|      audi|     a6|  1295.34|      5716|\n",
            "|volkswagen|   polo|  1295.34|      5536|\n",
            "|     skoda|  rapid|  1295.34|      5189|\n",
            "|   peugeot|    307|  1295.34|      4635|\n",
            "|   renault|   clio|  1295.34|      4567|\n",
            "|   renault| scenic|  1295.34|      4447|\n",
            "|      ford| fiesta|  1295.34|      4387|\n",
            "+----------+-------+---------+----------+\n",
            "only showing top 20 rows\n",
            "\n"
          ]
        }
      ]
    },
    {
      "cell_type": "code",
      "source": [
        "grouped_data.select(\"Count_cars\").describe().show()"
      ],
      "metadata": {
        "colab": {
          "base_uri": "https://localhost:8080/"
        },
        "id": "GJREM7FqTKD1",
        "outputId": "c07cb8b2-794c-4868-cb76-87ca0290261b"
      },
      "execution_count": 52,
      "outputs": [
        {
          "output_type": "stream",
          "name": "stdout",
          "text": [
            "+-------+------------------+\n",
            "|summary|        Count_cars|\n",
            "+-------+------------------+\n",
            "|  count|            725054|\n",
            "|   mean|3.2535024977449956|\n",
            "| stddev|108.40388290655633|\n",
            "|    min|                 1|\n",
            "|    max|             65124|\n",
            "+-------+------------------+\n",
            "\n"
          ]
        }
      ]
    },
    {
      "cell_type": "code",
      "source": [
        "final_data_standard= final_data.filter(final_data.Segment==\"Standard\")"
      ],
      "metadata": {
        "id": "vjyJjFwOTLny"
      },
      "execution_count": 53,
      "outputs": []
    },
    {
      "cell_type": "code",
      "source": [
        "final_data_Executive= final_data.filter(final_data.Segment==\"Executive\")"
      ],
      "metadata": {
        "id": "b6jofcRGTNSg"
      },
      "execution_count": 54,
      "outputs": []
    },
    {
      "cell_type": "code",
      "source": [
        "final_data_Luxury= final_data.filter(final_data.Segment==\"Luxury\")"
      ],
      "metadata": {
        "id": "S23OkjRUTO2l"
      },
      "execution_count": 55,
      "outputs": []
    },
    {
      "cell_type": "code",
      "source": [
        "final_data_Luxury.show()"
      ],
      "metadata": {
        "colab": {
          "base_uri": "https://localhost:8080/"
        },
        "id": "7J6UjAlnTQLH",
        "outputId": "eb703970-1d91-4a04-df8a-daace6233515"
      },
      "execution_count": 56,
      "outputs": [
        {
          "output_type": "stream",
          "name": "stdout",
          "text": [
            "+-----------+-----------+-------+----------------+-------------------+------------+---------+------------+----------+----------+------------+--------------+--------------+-------+\n",
            "|      maker|      model|mileage|manufacture_year|engine_displacement|engine_power|body_type|transmission|door_count|seat_count|date_created|date_last_seen|     price_eur|Segment|\n",
            "+-----------+-----------+-------+----------------+-------------------+------------+---------+------------+----------+----------+------------+--------------+--------------+-------+\n",
            "|    peugeot|        206| 136000|            2004|               1360|          55|    other|         man|         5|         5|  2016-02-23|    2016-07-03|      300000.0| Luxury|\n",
            "|     jaguar|         xj|  12000|            1992|               null|        null|     null|         man|         2|         2|  2015-12-02|    2016-02-10|     385042.75| Luxury|\n",
            "|   maserati|     ghibli|  32000|            1971|               null|         246|     null|        null|      null|      null|  2015-12-02|    2015-12-14|     385042.75| Luxury|\n",
            "|      skoda|     superb|   null|            null|               null|        null|  compact|        null|      null|      null|  2016-01-03|    2016-02-11| 2.869611425E7| Luxury|\n",
            "|      skoda|      fabia|   null|            null|               null|        null|  compact|        null|      null|      null|  2016-01-02|    2016-02-11| 2.869611425E7| Luxury|\n",
            "|      skoda|      fabia|   null|            null|               null|        null|  compact|        null|      null|      null|  2016-01-01|    2016-02-11| 2.869611425E7| Luxury|\n",
            "| volkswagen|transporter|   null|            null|               null|        null|    other|        null|      null|      null|  2016-02-12|    2016-07-03| 2.874229123E7| Luxury|\n",
            "| volkswagen|transporter|   null|            null|               2400|        null|    other|        null|      null|      null|  2016-02-12|    2016-07-03| 2.874229123E7| Luxury|\n",
            "|       ford|     fiesta|   null|            null|                998|          74|     null|         man|         4|         5|  2015-11-17|    2016-01-27|     500203.55| Luxury|\n",
            "|       ford|     mondeo|   null|            null|               1997|         132|     null|        auto|         4|         5|  2015-11-17|    2016-01-27|     500203.55| Luxury|\n",
            "|    hyundai|     lantra|   null|            null|               null|        null|  compact|        auto|      null|      null|  2015-12-31|    2016-01-19| 2.238719053E7| Luxury|\n",
            "|       opel|      combo|   null|            null|               null|        null|  compact|        null|      null|      null|  2015-12-21|    2016-01-17| 2.238719053E7| Luxury|\n",
            "|       opel|      combo|   null|            null|               null|        null|  compact|        null|      null|      null|  2015-12-14|    2015-12-22| 2.238719053E7| Luxury|\n",
            "|lamborghini|  aventador|    950|            2015|               6498|         515|     null|        auto|         2|         2|  2016-01-11|    2016-01-19|     345025.54| Luxury|\n",
            "| mitsubishi|     lancer|   null|            2006|              13800|        null|  compact|        null|      null|      null|  2015-12-18|    2015-12-29|2.0577574315E8| Luxury|\n",
            "| mitsubishi|     lancer|   null|            2006|              13800|        null|  compact|        null|      null|      null|  2015-12-14|    2015-12-18|2.0577574315E8| Luxury|\n",
            "|    porsche|        911|  19900|            1998|               3600|         316|     null|         man|      null|         4|  2015-12-21|    2016-02-11|     349103.33| Luxury|\n",
            "| volkswagen|       golf| 283800|            1995|               null|        null|    other|        null|      null|      null|  2016-02-22|    2016-07-03| 1.000111029E7| Luxury|\n",
            "|       fiat|      brava|   null|            null|               null|        null|  compact|        null|      null|      null|  2016-01-05|    2016-07-03|  2.23122527E7| Luxury|\n",
            "|       ford|     mondeo|   null|            null|               null|        null|  compact|        null|      null|      null|  2016-01-04|    2016-01-18| 2.682584689E7| Luxury|\n",
            "+-----------+-----------+-------+----------------+-------------------+------------+---------+------------+----------+----------+------------+--------------+--------------+-------+\n",
            "only showing top 20 rows\n",
            "\n"
          ]
        }
      ]
    },
    {
      "cell_type": "code",
      "source": [
        "std_final_grouped= final_data_standard.groupBy(\"maker\",\"model\",\"price_eur\").agg(count(\"*\").alias(\"Count_cars_Standard\"))\n",
        "std_final_grouped.show()"
      ],
      "metadata": {
        "colab": {
          "base_uri": "https://localhost:8080/"
        },
        "id": "uP9YPR9pTRyI",
        "outputId": "66d32c30-e5ec-4d3c-99f2-f18493002d66"
      },
      "execution_count": 57,
      "outputs": [
        {
          "output_type": "stream",
          "name": "stdout",
          "text": [
            "+-------------+-------+---------+-------------------+\n",
            "|        maker|  model|price_eur|Count_cars_Standard|\n",
            "+-------------+-------+---------+-------------------+\n",
            "|          kia|sorento|  4440.78|                  1|\n",
            "|         mini|    one| 12801.41|                  1|\n",
            "|      citroen|     c5|  3333.23|                  1|\n",
            "|        volvo|    v70|  2500.74|                  1|\n",
            "|         mini| cooper| 11968.76|                  1|\n",
            "|         fiat|   500l|  8554.74|                  1|\n",
            "|         audi|     a3|  1350.11|                  2|\n",
            "|        mazda|      3| 12598.41|                  1|\n",
            "|      hyundai|    i30|  6328.65|                  2|\n",
            "|         fiat|   idea|  2150.81|                  1|\n",
            "|      citroen|     c3|  7472.09|                  1|\n",
            "|         audi|     s6|  5903.48|                  1|\n",
            "|         audi|    100|  2999.22|                  1|\n",
            "|        skoda|octavia| 14174.69|                  6|\n",
            "|         audi|     a3| 17959.62|                  3|\n",
            "|         fiat|   qubo|  5000.85|                  1|\n",
            "|mercedes-benz|    140|   1350.0|                 11|\n",
            "|         audi|     a8|  14618.8|                  4|\n",
            "|mercedes-benz|    124|  2109.55|                  1|\n",
            "|         audi|     a3| 15136.94|                  1|\n",
            "+-------------+-------+---------+-------------------+\n",
            "only showing top 20 rows\n",
            "\n"
          ]
        }
      ]
    },
    {
      "cell_type": "code",
      "source": [
        "std_final_grouped.select(\"Count_cars_Standard\").describe().show()"
      ],
      "metadata": {
        "colab": {
          "base_uri": "https://localhost:8080/"
        },
        "id": "RtBeNNkVTTNt",
        "outputId": "2e5b3663-33b7-496a-fd2f-b5baead98461"
      },
      "execution_count": 58,
      "outputs": [
        {
          "output_type": "stream",
          "name": "stdout",
          "text": [
            "+-------+-------------------+\n",
            "|summary|Count_cars_Standard|\n",
            "+-------+-------------------+\n",
            "|  count|             528010|\n",
            "|   mean|    3.7315619022367|\n",
            "| stddev| 127.00499214499942|\n",
            "|    min|                  1|\n",
            "|    max|              65124|\n",
            "+-------+-------------------+\n",
            "\n"
          ]
        }
      ]
    },
    {
      "cell_type": "code",
      "source": [
        "final_data_Luxury= final_data_Luxury.withColumn(\"Days_for_sale\", datediff(\"date_last_seen\",\"date_created\"))"
      ],
      "metadata": {
        "id": "pZK4DQCjTUo7"
      },
      "execution_count": 59,
      "outputs": []
    },
    {
      "cell_type": "code",
      "source": [
        "lux_final_grouped= final_data_Luxury.groupBy(\"maker\",\"model\").agg(count(\"*\").alias(\"Count_cars_Luxury\"),avg(\"price_eur\").alias(\"price_eur\"),avg(\"Days_for_sale\").alias(\"Days_for_sale\"))\n",
        "lux_final_grouped.select(\"Count_cars_Luxury\").describe().show()"
      ],
      "metadata": {
        "colab": {
          "base_uri": "https://localhost:8080/"
        },
        "id": "D-eju8GMTWB2",
        "outputId": "10a6904f-7070-4cb8-d5e1-1ae5b371ae84"
      },
      "execution_count": 60,
      "outputs": [
        {
          "output_type": "stream",
          "name": "stdout",
          "text": [
            "+-------+------------------+\n",
            "|summary| Count_cars_Luxury|\n",
            "+-------+------------------+\n",
            "|  count|                96|\n",
            "|   mean|3.3333333333333335|\n",
            "| stddev| 5.196490043474521|\n",
            "|    min|                 1|\n",
            "|    max|                29|\n",
            "+-------+------------------+\n",
            "\n"
          ]
        }
      ]
    },
    {
      "cell_type": "code",
      "source": [
        "lux_final_grouped.show()"
      ],
      "metadata": {
        "colab": {
          "base_uri": "https://localhost:8080/"
        },
        "id": "ccJKgkECTXWb",
        "outputId": "d5d63de9-d57f-40f3-ff10-ae9e1c948155"
      },
      "execution_count": 61,
      "outputs": [
        {
          "output_type": "stream",
          "name": "stdout",
          "text": [
            "+----------+--------------+-----------------+--------------------+------------------+\n",
            "|     maker|         model|Count_cars_Luxury|           price_eur|     Days_for_sale|\n",
            "+----------+--------------+-----------------+--------------------+------------------+\n",
            "| chevrolet|       captiva|                1|          1000887.23|             136.0|\n",
            "|    lancia|         delta|                1|            350000.0|             133.0|\n",
            "|      fiat|         stilo|                1|       2.677111073E7|              60.0|\n",
            "|volkswagen|   transporter|                2|       2.874229123E7|             142.0|\n",
            "|      audi|            v8|                1|       2.605812439E7|              33.0|\n",
            "|      ford|        mondeo|               12| 1.712191784916667E7|27.083333333333332|\n",
            "|      seat|         ibiza|                1|        9.99999999E8|             130.0|\n",
            "|     skoda|       octavia|                8|3.3880452021249995E7|            18.375|\n",
            "|   peugeot|           307|                1|            425000.0|             118.0|\n",
            "|      fiat|      multipla|                3|       2.688569789E7|              82.0|\n",
            "|      fiat|         marea|                1|       2.677111073E7|              60.0|\n",
            "|volkswagen|        passat|                1|       1.111234467E7|             133.0|\n",
            "|    toyota|          rav4|                1|          1000887.23|             136.0|\n",
            "|      fiat|         croma|                1|       2.677111073E7|              60.0|\n",
            "|      audi|            a6|                1|          1111522.21|               2.0|\n",
            "|      audi|            80|                1|      1.0001480285E8|              15.0|\n",
            "|     mazda|             2|                4|       2.874990081E7|              9.25|\n",
            "|   renault|        megane|                4|        1125221.8075|            136.25|\n",
            "|   peugeot|           206|                1|            300000.0|             131.0|\n",
            "|      jeep|grand-cherokee|                1|       2.876663638E7|              60.0|\n",
            "+----------+--------------+-----------------+--------------------+------------------+\n",
            "only showing top 20 rows\n",
            "\n"
          ]
        }
      ]
    },
    {
      "cell_type": "code",
      "source": [
        "\n",
        "luxury_count=lux_final_grouped.withColumn(\"Maker-Model\",concat_ws(\"-\",col(\"maker\"),col(\"model\")))\n",
        "luxury_count.show()"
      ],
      "metadata": {
        "colab": {
          "base_uri": "https://localhost:8080/"
        },
        "id": "UC79EfnLTYpO",
        "outputId": "76f97253-56d4-4d3a-8a46-7d642bf02bce"
      },
      "execution_count": 62,
      "outputs": [
        {
          "output_type": "stream",
          "name": "stdout",
          "text": [
            "+----------+--------------+-----------------+--------------------+------------------+--------------------+\n",
            "|     maker|         model|Count_cars_Luxury|           price_eur|     Days_for_sale|         Maker-Model|\n",
            "+----------+--------------+-----------------+--------------------+------------------+--------------------+\n",
            "| chevrolet|       captiva|                1|          1000887.23|             136.0|   chevrolet-captiva|\n",
            "|    lancia|         delta|                1|            350000.0|             133.0|        lancia-delta|\n",
            "|      fiat|         stilo|                1|       2.677111073E7|              60.0|          fiat-stilo|\n",
            "|volkswagen|   transporter|                2|       2.874229123E7|             142.0|volkswagen-transp...|\n",
            "|      audi|            v8|                1|       2.605812439E7|              33.0|             audi-v8|\n",
            "|      ford|        mondeo|               12| 1.712191784916667E7|27.083333333333332|         ford-mondeo|\n",
            "|      seat|         ibiza|                1|        9.99999999E8|             130.0|          seat-ibiza|\n",
            "|     skoda|       octavia|                8|3.3880452021249995E7|            18.375|       skoda-octavia|\n",
            "|   peugeot|           307|                1|            425000.0|             118.0|         peugeot-307|\n",
            "|      fiat|      multipla|                3|       2.688569789E7|              82.0|       fiat-multipla|\n",
            "|      fiat|         marea|                1|       2.677111073E7|              60.0|          fiat-marea|\n",
            "|volkswagen|        passat|                1|       1.111234467E7|             133.0|   volkswagen-passat|\n",
            "|    toyota|          rav4|                1|          1000887.23|             136.0|         toyota-rav4|\n",
            "|      fiat|         croma|                1|       2.677111073E7|              60.0|          fiat-croma|\n",
            "|      audi|            a6|                1|          1111522.21|               2.0|             audi-a6|\n",
            "|      audi|            80|                1|      1.0001480285E8|              15.0|             audi-80|\n",
            "|     mazda|             2|                4|       2.874990081E7|              9.25|             mazda-2|\n",
            "|   renault|        megane|                4|        1125221.8075|            136.25|      renault-megane|\n",
            "|   peugeot|           206|                1|            300000.0|             131.0|         peugeot-206|\n",
            "|      jeep|grand-cherokee|                1|       2.876663638E7|              60.0| jeep-grand-cherokee|\n",
            "+----------+--------------+-----------------+--------------------+------------------+--------------------+\n",
            "only showing top 20 rows\n",
            "\n"
          ]
        }
      ]
    },
    {
      "cell_type": "code",
      "source": [
        "luxury_count=luxury_count.withColumn(\"price_eur\",col(\"price_eur\").cast(DoubleType())) \\\n",
        "    .withColumn(\"Days_for_sale\",col(\"Days_for_sale\").cast(IntegerType()))\n",
        "    \n",
        "    "
      ],
      "metadata": {
        "id": "7V3wwtvmTaJ8"
      },
      "execution_count": 63,
      "outputs": []
    },
    {
      "cell_type": "code",
      "source": [
        "luxury_count.filter(luxury_count.Count_cars_Luxury<3).count()"
      ],
      "metadata": {
        "colab": {
          "base_uri": "https://localhost:8080/"
        },
        "id": "j72X5DpLTbqX",
        "outputId": "c8c882d8-866d-47e8-af06-c51e5e16dd07"
      },
      "execution_count": 64,
      "outputs": [
        {
          "output_type": "execute_result",
          "data": {
            "text/plain": [
              "66"
            ]
          },
          "metadata": {},
          "execution_count": 64
        }
      ]
    },
    {
      "cell_type": "code",
      "source": [
        "luxury_count.filter(luxury_count.Count_cars_Luxury>2).count()"
      ],
      "metadata": {
        "colab": {
          "base_uri": "https://localhost:8080/"
        },
        "id": "nlBpy2yITc8y",
        "outputId": "9561923f-8118-435d-90fd-fd285f587e25"
      },
      "execution_count": 65,
      "outputs": [
        {
          "output_type": "execute_result",
          "data": {
            "text/plain": [
              "30"
            ]
          },
          "metadata": {},
          "execution_count": 65
        }
      ]
    },
    {
      "cell_type": "markdown",
      "source": [
        "**Here we can observe that 66 Luxury cars have a Volume/number of cars sold to be less than 3 . The remaining Luxury cars which were sold more than twice is comparatively a lesser number of 30. Hence we are analysing the cars that were sold <3 and cars that were sold >2 separately.**\n",
        "--------"
      ],
      "metadata": {
        "id": "HkzWDDUxT4G1"
      }
    },
    {
      "cell_type": "markdown",
      "source": [
        "**Analysis for Luxury Cars sold less <3 .**\n",
        "--------------------------------------\n",
        "\n",
        "**We will create a new Column called \"Days_count_ratio\"** \n",
        "---------------------\n",
        "**Days_count_ratio is the yardstick that we will use to conclude which are the best cars.\n",
        "-----------------------------------\n",
        "Days_count_ratio will be a ratio of \"days_of_sale\" / \"exe_count\"\n",
        "---------------------------\n",
        "We are taking this ratio as it will take into consideration the volume of cars sold as well as the number of days it took for the cars to sell. We are doing this to reduce the bias when cars sold are very few**\n",
        "-----------------------------------------------------------------------------\n"
      ],
      "metadata": {
        "id": "9dlYhs1BT0dV"
      }
    },
    {
      "cell_type": "code",
      "source": [
        "luxury_count= luxury_count.withColumn(\"Days_count_ratio\",round((col(\"Days_for_sale\")/col(\"Count_cars_Luxury\")),2))"
      ],
      "metadata": {
        "id": "NmXT-1WETrWH"
      },
      "execution_count": 66,
      "outputs": []
    },
    {
      "cell_type": "code",
      "source": [
        "lux_car_two = luxury_count.filter(col(\"Count_cars_Luxury\")<3)\n",
        "lux_car_two.count()"
      ],
      "metadata": {
        "colab": {
          "base_uri": "https://localhost:8080/"
        },
        "id": "qo9PSTNAUB9w",
        "outputId": "8afc279a-08df-4a45-dd12-8017a9c712bc"
      },
      "execution_count": 67,
      "outputs": [
        {
          "output_type": "execute_result",
          "data": {
            "text/plain": [
              "66"
            ]
          },
          "metadata": {},
          "execution_count": 67
        }
      ]
    },
    {
      "cell_type": "code",
      "source": [
        "lux_car_two.show()"
      ],
      "metadata": {
        "colab": {
          "base_uri": "https://localhost:8080/"
        },
        "id": "WyYqJmt0UDi5",
        "outputId": "45966953-af9a-4c45-d505-201aa05af75a"
      },
      "execution_count": 68,
      "outputs": [
        {
          "output_type": "stream",
          "name": "stdout",
          "text": [
            "+----------+--------------+-----------------+--------------+-------------+--------------------+----------------+\n",
            "|     maker|         model|Count_cars_Luxury|     price_eur|Days_for_sale|         Maker-Model|Days_count_ratio|\n",
            "+----------+--------------+-----------------+--------------+-------------+--------------------+----------------+\n",
            "| chevrolet|       captiva|                1|    1000887.23|          136|   chevrolet-captiva|           136.0|\n",
            "|    lancia|         delta|                1|      350000.0|          133|        lancia-delta|           133.0|\n",
            "|      fiat|         stilo|                1| 2.677111073E7|           60|          fiat-stilo|            60.0|\n",
            "|volkswagen|   transporter|                2| 2.874229123E7|          142|volkswagen-transp...|            71.0|\n",
            "|      audi|            v8|                1| 2.605812439E7|           33|             audi-v8|            33.0|\n",
            "|      seat|         ibiza|                1|  9.99999999E8|          130|          seat-ibiza|           130.0|\n",
            "|   peugeot|           307|                1|      425000.0|          118|         peugeot-307|           118.0|\n",
            "|      fiat|         marea|                1| 2.677111073E7|           60|          fiat-marea|            60.0|\n",
            "|volkswagen|        passat|                1| 1.111234467E7|          133|   volkswagen-passat|           133.0|\n",
            "|    toyota|          rav4|                1|    1000887.23|          136|         toyota-rav4|           136.0|\n",
            "|      fiat|         croma|                1| 2.677111073E7|           60|          fiat-croma|            60.0|\n",
            "|      audi|            a6|                1|    1111522.21|            2|             audi-a6|             2.0|\n",
            "|      audi|            80|                1|1.0001480285E8|           15|             audi-80|            15.0|\n",
            "|   peugeot|           206|                1|      300000.0|          131|         peugeot-206|           131.0|\n",
            "|      jeep|grand-cherokee|                1| 2.876663638E7|           60| jeep-grand-cherokee|            60.0|\n",
            "|      fiat|         coupe|                1| 2.677111073E7|           60|          fiat-coupe|            60.0|\n",
            "|      opel|      frontera|                1| 2.694485751E7|            6|       opel-frontera|             6.0|\n",
            "|     honda|         civic|                1|1.0001480285E8|           11|         honda-civic|            11.0|\n",
            "|      opel|         combo|                2| 2.238719053E7|           17|          opel-combo|             8.5|\n",
            "|volkswagen|         jetta|                1|    1000887.23|          136|    volkswagen-jetta|           136.0|\n",
            "+----------+--------------+-----------------+--------------+-------------+--------------------+----------------+\n",
            "only showing top 20 rows\n",
            "\n"
          ]
        }
      ]
    },
    {
      "cell_type": "code",
      "source": [
        "pd_lux_count_two= lux_car_two.toPandas()\n",
        "pd_lux_count_two=pd_lux_count_two.sort_values(by=[\"Days_count_ratio\"],ascending=True)\n",
        "pd_lux_count_two_plot= pd_lux_count_two.head(7)\n"
      ],
      "metadata": {
        "id": "V1xxof8DUE5a"
      },
      "execution_count": 69,
      "outputs": []
    },
    {
      "cell_type": "code",
      "source": [
        "sns.barplot(data=pd_lux_count_two_plot, x=\"Maker-Model\", y=\"Days_count_ratio\").set(title='Days_count_ratio vs Maker-Model for Top Luxury Cars sold less than 3')"
      ],
      "metadata": {
        "colab": {
          "base_uri": "https://localhost:8080/",
          "height": 312
        },
        "id": "me7J9PE9UGEG",
        "outputId": "5617c143-b72a-4ea7-a553-5413f4a826f2"
      },
      "execution_count": 70,
      "outputs": [
        {
          "output_type": "execute_result",
          "data": {
            "text/plain": [
              "[Text(0.5, 1.0, 'Days_count_ratio vs Maker-Model for Top Luxury Cars sold less than 3')]"
            ]
          },
          "metadata": {},
          "execution_count": 70
        },
        {
          "output_type": "display_data",
          "data": {
            "text/plain": [
              "<Figure size 432x288 with 1 Axes>"
            ],
            "image/png": "[encoded data removed]"
          },
          "metadata": {
            "needs_background": "light"
          }
        }
      ]
    },
    {
      "cell_type": "markdown",
      "source": [
        "**Here we can conclude that:**\n",
        "-----\n",
        "**In Luxury Segment: for make and model of cars which are sold less than 3**\n",
        "----------\n",
        "**The top 5 cars are :** \n",
        "------\n",
        "**1. audi-a6**\n",
        "---------\n",
        "**2. audi-a3**\n",
        "-----\n",
        "**3. mitsubishi - lancer**\n",
        "------\n",
        "**4. fiat-seicento**\n",
        "-------\n",
        "**5. bmw-x5**\n",
        "--------------\n",
        "**In this category since we have two audi cars, we can conclude that audi is the best make in this category**\n",
        "-----------------"
      ],
      "metadata": {
        "id": "VAi2WpcXUJtv"
      }
    },
    {
      "cell_type": "markdown",
      "source": [
        "**Analysing cars that were sold more than two times**\n",
        "--------------------------------------------------------------"
      ],
      "metadata": {
        "id": "CIgfeMu0UOQV"
      }
    },
    {
      "cell_type": "code",
      "source": [
        "luxury_count_f = luxury_count.filter(col(\"Count_cars_Luxury\")>2)\n",
        "luxury_count_f.count()"
      ],
      "metadata": {
        "colab": {
          "base_uri": "https://localhost:8080/"
        },
        "id": "2B_l9zB1UHT4",
        "outputId": "5a270589-75a9-414a-8949-c09153dc4131"
      },
      "execution_count": 71,
      "outputs": [
        {
          "output_type": "execute_result",
          "data": {
            "text/plain": [
              "30"
            ]
          },
          "metadata": {},
          "execution_count": 71
        }
      ]
    },
    {
      "cell_type": "code",
      "source": [
        "pd_lux_count= luxury_count_f.toPandas()\n",
        "pd_lux_count=pd_lux_count.sort_values(by=[\"Days_count_ratio\"],ascending=True)\n",
        "pd_lux_count_plot= pd_lux_count.head(7)\n"
      ],
      "metadata": {
        "id": "8uXr-R4tUQO7"
      },
      "execution_count": 72,
      "outputs": []
    },
    {
      "cell_type": "code",
      "source": [
        "from matplotlib import rcParams\n",
        "\n",
        "# figure size in inches\n",
        "rcParams['figure.figsize'] = 15.7,9.27"
      ],
      "metadata": {
        "id": "Mh5AGeVJURd8"
      },
      "execution_count": 73,
      "outputs": []
    },
    {
      "cell_type": "code",
      "source": [
        "sns.barplot(data=pd_lux_count_plot, x=\"Maker-Model\", y=\"Days_count_ratio\").set(title='Days_count_ratio vs maker-model for Top Luxury Cars')"
      ],
      "metadata": {
        "colab": {
          "base_uri": "https://localhost:8080/",
          "height": 599
        },
        "id": "yRQcPwWVUS5A",
        "outputId": "1406ef23-7b4e-4459-ec13-064ef9a6938b"
      },
      "execution_count": 74,
      "outputs": [
        {
          "output_type": "execute_result",
          "data": {
            "text/plain": [
              "[Text(0.5, 1.0, 'Days_count_ratio vs maker-model for Top Luxury Cars')]"
            ]
          },
          "metadata": {},
          "execution_count": 74
        },
        {
          "output_type": "display_data",
          "data": {
            "text/plain": [
              "<Figure size 1130.4x667.44 with 1 Axes>"
            ],
            "image/png": "[encoded data removed]"
          },
          "metadata": {
            "needs_background": "light"
          }
        }
      ]
    },
    {
      "cell_type": "markdown",
      "source": [
        "***Here we can see the top 5 make and models. We have based it on the average time it takes for the car to be available for sale(date_created) and sold date(\"last_seen\"). We have removed cars which had only one quantity to be sold in market as they could have a bias and also it shows that the demand for such cars was not very high ***\n",
        "------"
      ],
      "metadata": {
        "id": "AAoAHuLjUWVQ"
      }
    },
    {
      "cell_type": "markdown",
      "source": [
        "**As per the above analysis the best make and model for Luxury cars segment are :** \n",
        "---\n",
        "1. Ford-ka\n",
        "2. ford-escort\n",
        "3. ford-scorpio\n",
        "4. mitsubishi-pajero\n",
        "5. ford-focus\n",
        "\n",
        "**Also we can observe that Ford is the best maker in this category**\n",
        "------"
      ],
      "metadata": {
        "id": "YtwAmtrdUasE"
      }
    },
    {
      "cell_type": "markdown",
      "source": [
        "**Analysis for Executive Segment cars**\n",
        "-----"
      ],
      "metadata": {
        "id": "5MFRptJ6Ue6Q"
      }
    },
    {
      "cell_type": "code",
      "source": [
        "final_data_Executive= final_data_Executive.withColumn(\"Days_for_sale\", datediff(\"date_last_seen\",\"date_created\"))"
      ],
      "metadata": {
        "id": "KV4YjpKeUUN9"
      },
      "execution_count": 75,
      "outputs": []
    },
    {
      "cell_type": "code",
      "source": [
        "exe_final_grouped= final_data_Executive.groupBy(\"maker\",\"model\").agg(count(\"*\").alias(\"Exe_count\"),round(avg(\"Days_for_sale\"),2).alias(\"Days_for_sale\"),round(avg(\"price_eur\"),2).alias(\"price_eur\"))\n",
        "exe_final_grouped.show()"
      ],
      "metadata": {
        "colab": {
          "base_uri": "https://localhost:8080/"
        },
        "id": "D7Fi_t2MUhIO",
        "outputId": "6fc057b4-1c05-4c86-f912-3878b2236439"
      },
      "execution_count": 76,
      "outputs": [
        {
          "output_type": "stream",
          "name": "stdout",
          "text": [
            "+----------+------------+---------+-------------+---------+\n",
            "|     maker|       model|Exe_count|Days_for_sale|price_eur|\n",
            "+----------+------------+---------+-------------+---------+\n",
            "|      fiat| cinquecento|        3|        67.33| 29970.52|\n",
            "|     volvo|         850|        1|         68.0| 18911.18|\n",
            "|volkswagen|      beetle|     1237|       126.39| 23608.71|\n",
            "|    toyota|        aygo|        5|         68.4| 48846.72|\n",
            "|   peugeot|         406|        1|        137.0|  18000.0|\n",
            "| chevrolet|     captiva|      189|        68.37| 19706.08|\n",
            "|       kia|      cerato|        1|          9.0| 18001.33|\n",
            "|    jaguar|         xjs|       65|         93.8| 26305.06|\n",
            "|      audi|         sq5|      820|        84.75| 59268.67|\n",
            "|      audi|          s3|     1065|        88.56|  33242.8|\n",
            "|    nissan|       350-z|       17|        117.0| 22480.81|\n",
            "|    toyota|      celica|        5|        109.4| 51676.93|\n",
            "|   peugeot|         301|        1|        132.0|  21900.0|\n",
            "|      audi|          s6|      206|        88.32| 44249.69|\n",
            "|    jaguar|      x-type|        2|         98.5|  36954.2|\n",
            "|      jeep|   scrambler|        1|         44.0| 18805.55|\n",
            "|    lancia|       delta|       85|       101.44| 48776.75|\n",
            "|     volvo|         v40|     2549|       104.94|  23332.9|\n",
            "|     rover|         200|       14|        93.93| 30508.85|\n",
            "|   renault|grand-scenic|     1185|       126.71| 20490.75|\n",
            "+----------+------------+---------+-------------+---------+\n",
            "only showing top 20 rows\n",
            "\n"
          ]
        }
      ]
    },
    {
      "cell_type": "code",
      "source": [
        "total_exe_cars= exe_final_grouped.count()\n",
        "total_exe_cars"
      ],
      "metadata": {
        "colab": {
          "base_uri": "https://localhost:8080/"
        },
        "id": "eGj3dOdAUiTe",
        "outputId": "c2426204-1ae1-4fdb-def8-367e2f81324c"
      },
      "execution_count": 77,
      "outputs": [
        {
          "output_type": "execute_result",
          "data": {
            "text/plain": [
              "621"
            ]
          },
          "metadata": {},
          "execution_count": 77
        }
      ]
    },
    {
      "cell_type": "code",
      "source": [
        "exe_final_grouped.describe().show()"
      ],
      "metadata": {
        "colab": {
          "base_uri": "https://localhost:8080/"
        },
        "id": "mF9kaMN4Uj5N",
        "outputId": "72533207-41ce-40fe-9f25-6fec258bdc6d"
      },
      "execution_count": 78,
      "outputs": [
        {
          "output_type": "stream",
          "name": "stdout",
          "text": [
            "+-------+----------+-----------------+------------------+------------------+------------------+\n",
            "|summary|     maker|            model|         Exe_count|     Days_for_sale|         price_eur|\n",
            "+-------+----------+-----------------+------------------+------------------+------------------+\n",
            "|  count|       621|              621|               621|               621|               621|\n",
            "|   mean|  Infinity|580.7532467532468| 625.3510466988728| 92.22198067632847| 34494.66742351043|\n",
            "| stddev|       NaN|947.8447873693599|1732.4179222152525|28.175822873857317|22717.391425154274|\n",
            "|    min|alfa-romeo|              100|                 1|               1.0|           18000.0|\n",
            "|    max|     volvo|           zafira|             21887|             171.0|         281944.95|\n",
            "+-------+----------+-----------------+------------------+------------------+------------------+\n",
            "\n"
          ]
        }
      ]
    },
    {
      "cell_type": "code",
      "source": [
        "exe_final_grouped.filter(exe_final_grouped.Exe_count>2).count()"
      ],
      "metadata": {
        "colab": {
          "base_uri": "https://localhost:8080/"
        },
        "id": "XrakmEuCUlII",
        "outputId": "a48217cd-e07a-410b-fd2a-ff9986fbbc08"
      },
      "execution_count": 79,
      "outputs": [
        {
          "output_type": "execute_result",
          "data": {
            "text/plain": [
              "512"
            ]
          },
          "metadata": {},
          "execution_count": 79
        }
      ]
    },
    {
      "cell_type": "code",
      "source": [
        "exe_final_grouped.filter(exe_final_grouped.Exe_count>2).count()/total_exe_cars"
      ],
      "metadata": {
        "colab": {
          "base_uri": "https://localhost:8080/"
        },
        "id": "MVswLNICUmoP",
        "outputId": "eb50b72e-fa8a-4102-b941-30b76e354452"
      },
      "execution_count": 80,
      "outputs": [
        {
          "output_type": "execute_result",
          "data": {
            "text/plain": [
              "0.8244766505636071"
            ]
          },
          "metadata": {},
          "execution_count": 80
        }
      ]
    },
    {
      "cell_type": "markdown",
      "source": [
        "**The total rows we get for make and model group are : 621**\n",
        "--\n",
        "The number of rows of data which has a Exe_count greater than 2 comes out to be 80%**\n",
        "-----\n",
        "Hence we will do an analysis on cars which have an exe_count equal to and less than 2 separately.**\n",
        "------"
      ],
      "metadata": {
        "id": "DCF2piVJUqhM"
      }
    },
    {
      "cell_type": "markdown",
      "source": [
        "It is Important that volume of sales and number of days it took for the sales to complete be given equal importance. For this purpose we have created a new factor - Days_count_ratio. **The lower the value of Days_Count_ratio the better the car is overall .**"
      ],
      "metadata": {
        "id": "E8JqO5dGU0uZ"
      }
    },
    {
      "cell_type": "code",
      "source": [
        "exe_count=exe_final_grouped.withColumn(\"Maker-Model\",concat_ws(\"-\",col(\"maker\"),col(\"model\")))\n",
        "exe_count=exe_count.withColumn(\"Days_count_ratio\",round((col(\"Days_for_sale\")/col(\"Exe_count\")),2))\n",
        "exe_count.show()"
      ],
      "metadata": {
        "colab": {
          "base_uri": "https://localhost:8080/"
        },
        "id": "O9AxGDjuUn9q",
        "outputId": "eb73aa8f-3695-4ad0-fb40-b580f4a559f5"
      },
      "execution_count": 81,
      "outputs": [
        {
          "output_type": "stream",
          "name": "stdout",
          "text": [
            "+----------+------------+---------+-------------+---------+--------------------+----------------+\n",
            "|     maker|       model|Exe_count|Days_for_sale|price_eur|         Maker-Model|Days_count_ratio|\n",
            "+----------+------------+---------+-------------+---------+--------------------+----------------+\n",
            "|      fiat| cinquecento|        3|        67.33| 29970.52|    fiat-cinquecento|           22.44|\n",
            "|     volvo|         850|        1|         68.0| 18911.18|           volvo-850|            68.0|\n",
            "|volkswagen|      beetle|     1237|       126.39| 23608.71|   volkswagen-beetle|             0.1|\n",
            "|    toyota|        aygo|        5|         68.4| 48846.72|         toyota-aygo|           13.68|\n",
            "|   peugeot|         406|        1|        137.0|  18000.0|         peugeot-406|           137.0|\n",
            "| chevrolet|     captiva|      189|        68.37| 19706.08|   chevrolet-captiva|            0.36|\n",
            "|       kia|      cerato|        1|          9.0| 18001.33|          kia-cerato|             9.0|\n",
            "|    jaguar|         xjs|       65|         93.8| 26305.06|          jaguar-xjs|            1.44|\n",
            "|      audi|         sq5|      820|        84.75| 59268.67|            audi-sq5|             0.1|\n",
            "|      audi|          s3|     1065|        88.56|  33242.8|             audi-s3|            0.08|\n",
            "|    nissan|       350-z|       17|        117.0| 22480.81|        nissan-350-z|            6.88|\n",
            "|    toyota|      celica|        5|        109.4| 51676.93|       toyota-celica|           21.88|\n",
            "|   peugeot|         301|        1|        132.0|  21900.0|         peugeot-301|           132.0|\n",
            "|      audi|          s6|      206|        88.32| 44249.69|             audi-s6|            0.43|\n",
            "|    jaguar|      x-type|        2|         98.5|  36954.2|       jaguar-x-type|           49.25|\n",
            "|      jeep|   scrambler|        1|         44.0| 18805.55|      jeep-scrambler|            44.0|\n",
            "|    lancia|       delta|       85|       101.44| 48776.75|        lancia-delta|            1.19|\n",
            "|     volvo|         v40|     2549|       104.94|  23332.9|           volvo-v40|            0.04|\n",
            "|     rover|         200|       14|        93.93| 30508.85|           rover-200|            6.71|\n",
            "|   renault|grand-scenic|     1185|       126.71| 20490.75|renault-grand-scenic|            0.11|\n",
            "+----------+------------+---------+-------------+---------+--------------------+----------------+\n",
            "only showing top 20 rows\n",
            "\n"
          ]
        }
      ]
    },
    {
      "cell_type": "code",
      "source": [
        "exe_count=exe_count.withColumn(\"price_eur\",col(\"price_eur\").cast(DoubleType())) \\\n",
        "    .withColumn(\"Days_for_sale\",col(\"Days_for_sale\").cast(IntegerType()))"
      ],
      "metadata": {
        "id": "xDPnt8qJU2cF"
      },
      "execution_count": 82,
      "outputs": []
    },
    {
      "cell_type": "code",
      "source": [
        "exe_cars_other = exe_count.filter(exe_count.Exe_count<3) # This is the analysis done for exe_count or the cars for which the volume sold was less than 3"
      ],
      "metadata": {
        "id": "RhUJaP0lU39q"
      },
      "execution_count": 83,
      "outputs": []
    },
    {
      "cell_type": "markdown",
      "source": [
        "**Analysis for cars sold only once**"
      ],
      "metadata": {
        "id": "EWawFB4cU8aE"
      }
    },
    {
      "cell_type": "code",
      "source": [
        "exe_cars_other.show()"
      ],
      "metadata": {
        "colab": {
          "base_uri": "https://localhost:8080/"
        },
        "id": "ysIpStrCU5-f",
        "outputId": "52951eff-7b88-472a-f0cf-b42242786f7f"
      },
      "execution_count": 84,
      "outputs": [
        {
          "output_type": "stream",
          "name": "stdout",
          "text": [
            "+----------+---------+---------+-------------+---------+------------------+----------------+\n",
            "|     maker|    model|Exe_count|Days_for_sale|price_eur|       Maker-Model|Days_count_ratio|\n",
            "+----------+---------+---------+-------------+---------+------------------+----------------+\n",
            "|     volvo|      850|        1|           68| 18911.18|         volvo-850|            68.0|\n",
            "|   peugeot|      406|        1|          137|  18000.0|       peugeot-406|           137.0|\n",
            "|       kia|   cerato|        1|            9| 18001.33|        kia-cerato|             9.0|\n",
            "|   peugeot|      301|        1|          132|  21900.0|       peugeot-301|           132.0|\n",
            "|    jaguar|   x-type|        2|           98|  36954.2|     jaguar-x-type|           49.25|\n",
            "|      jeep|scrambler|        1|           44| 18805.55|    jeep-scrambler|            44.0|\n",
            "|    lancia|   thesis|        1|          158| 18134.72|     lancia-thesis|           158.0|\n",
            "|     honda|    s2000|        2|           13| 19220.38|       honda-s2000|            6.75|\n",
            "|     volvo|      242|        1|          125| 34492.15|         volvo-242|           125.0|\n",
            "|mitsubishi|    space|        2|          136|  18517.5|  mitsubishi-space|            68.0|\n",
            "|   hyundai|   sonata|        2|           37| 29513.31|    hyundai-sonata|           18.75|\n",
            "|mitsubishi|  eclipse|        1|          133| 21842.41|mitsubishi-eclipse|           133.0|\n",
            "|    toyota|   solara|        2|          117| 32452.93|     toyota-solara|           58.75|\n",
            "|     lexus|      400|        1|           23| 23006.81|         lexus-400|            23.0|\n",
            "|     dodge|  caravan|        1|            8|  62900.0|     dodge-caravan|             8.0|\n",
            "|      ford|excursion|        2|           36| 30767.08|    ford-excursion|           18.25|\n",
            "|  infinity|     fx35|        2|          118| 20355.29|     infinity-fx35|           59.25|\n",
            "|     mazda|       mx|        2|           67| 21857.92|          mazda-mx|           33.75|\n",
            "|mitsubishi|     colt|        1|            6|123465.14|   mitsubishi-colt|             6.0|\n",
            "|   citroen|       ax|        2|          129| 18097.71|        citroen-ax|            64.5|\n",
            "+----------+---------+---------+-------------+---------+------------------+----------------+\n",
            "only showing top 20 rows\n",
            "\n"
          ]
        }
      ]
    },
    {
      "cell_type": "code",
      "source": [
        "pd_exe_count_one= exe_cars_other.toPandas()\n",
        "pd_exe_count_one=pd_exe_count_one.sort_values(by=[\"Days_count_ratio\"],ascending=True)\n",
        "pd_exe_count_one_plot= pd_exe_count_one.head(20)\n",
        "pd_exe_count_one_plot"
      ],
      "metadata": {
        "colab": {
          "base_uri": "https://localhost:8080/",
          "height": 676
        },
        "id": "th4m4PVPU-Xg",
        "outputId": "ca9cc33b-7e06-4a13-e8ca-cb2d98f32400"
      },
      "execution_count": 85,
      "outputs": [
        {
          "output_type": "execute_result",
          "data": {
            "text/plain": [
              "          maker      model  Exe_count  Days_for_sale  price_eur  \\\n",
              "49        mazda        323          1              1  100036.01   \n",
              "23         jeep    liberty          1              1   23002.55   \n",
              "63       subaru      justy          1              2   20355.29   \n",
              "18   mitsubishi       colt          1              6  123465.14   \n",
              "7         honda      s2000          2             13   19220.38   \n",
              "91   alfa-romeo       mito          1              7   24056.25   \n",
              "14        dodge    caravan          1              8   62900.00   \n",
              "89       nissan      tiida          1              8   24981.50   \n",
              "95    chevrolet      spark          2             17   20355.29   \n",
              "2           kia     cerato          1              9   18001.33   \n",
              "69      peugeot        806          1             14   46262.03   \n",
              "100  mitsubishi     galant          1             14   18467.80   \n",
              "86        skoda     forman          1             14   48075.50   \n",
              "76        mazda    tribute          1             14   40673.58   \n",
              "94         fiat     ulysse          1             14   19615.10   \n",
              "67   alfa-romeo        156          2             28   40229.46   \n",
              "102     renault      modus          1             15   19615.10   \n",
              "15         ford  excursion          2             36   30767.08   \n",
              "10      hyundai     sonata          2             37   29513.31   \n",
              "38     chrysler        200          2             39   32272.38   \n",
              "\n",
              "           Maker-Model  Days_count_ratio  \n",
              "49           mazda-323              1.00  \n",
              "23        jeep-liberty              1.00  \n",
              "63        subaru-justy              2.00  \n",
              "18     mitsubishi-colt              6.00  \n",
              "7          honda-s2000              6.75  \n",
              "91     alfa-romeo-mito              7.00  \n",
              "14       dodge-caravan              8.00  \n",
              "89        nissan-tiida              8.00  \n",
              "95     chevrolet-spark              8.50  \n",
              "2           kia-cerato              9.00  \n",
              "69         peugeot-806             14.00  \n",
              "100  mitsubishi-galant             14.00  \n",
              "86        skoda-forman             14.00  \n",
              "76       mazda-tribute             14.00  \n",
              "94         fiat-ulysse             14.00  \n",
              "67      alfa-romeo-156             14.25  \n",
              "102      renault-modus             15.00  \n",
              "15      ford-excursion             18.25  \n",
              "10      hyundai-sonata             18.75  \n",
              "38        chrysler-200             19.50  "
            ],
            "text/html": [
              "\n",
              "  <div id=\"df-dce27f22-734e-48e0-a233-dfa899bc4f77\">\n",
              "    <div class=\"colab-df-container\">\n",
              "      <div>\n",
              "<style scoped>\n",
              "    .dataframe tbody tr th:only-of-type {\n",
              "        vertical-align: middle;\n",
              "    }\n",
              "\n",
              "    .dataframe tbody tr th {\n",
              "        vertical-align: top;\n",
              "    }\n",
              "\n",
              "    .dataframe thead th {\n",
              "        text-align: right;\n",
              "    }\n",
              "</style>\n",
              "<table border=\"1\" class=\"dataframe\">\n",
              "  <thead>\n",
              "    <tr style=\"text-align: right;\">\n",
              "      <th></th>\n",
              "      <th>maker</th>\n",
              "      <th>model</th>\n",
              "      <th>Exe_count</th>\n",
              "      <th>Days_for_sale</th>\n",
              "      <th>price_eur</th>\n",
              "      <th>Maker-Model</th>\n",
              "      <th>Days_count_ratio</th>\n",
              "    </tr>\n",
              "  </thead>\n",
              "  <tbody>\n",
              "    <tr>\n",
              "      <th>49</th>\n",
              "      <td>mazda</td>\n",
              "      <td>323</td>\n",
              "      <td>1</td>\n",
              "      <td>1</td>\n",
              "      <td>100036.01</td>\n",
              "      <td>mazda-323</td>\n",
              "      <td>1.00</td>\n",
              "    </tr>\n",
              "    <tr>\n",
              "      <th>23</th>\n",
              "      <td>jeep</td>\n",
              "      <td>liberty</td>\n",
              "      <td>1</td>\n",
              "      <td>1</td>\n",
              "      <td>23002.55</td>\n",
              "      <td>jeep-liberty</td>\n",
              "      <td>1.00</td>\n",
              "    </tr>\n",
              "    <tr>\n",
              "      <th>63</th>\n",
              "      <td>subaru</td>\n",
              "      <td>justy</td>\n",
              "      <td>1</td>\n",
              "      <td>2</td>\n",
              "      <td>20355.29</td>\n",
              "      <td>subaru-justy</td>\n",
              "      <td>2.00</td>\n",
              "    </tr>\n",
              "    <tr>\n",
              "      <th>18</th>\n",
              "      <td>mitsubishi</td>\n",
              "      <td>colt</td>\n",
              "      <td>1</td>\n",
              "      <td>6</td>\n",
              "      <td>123465.14</td>\n",
              "      <td>mitsubishi-colt</td>\n",
              "      <td>6.00</td>\n",
              "    </tr>\n",
              "    <tr>\n",
              "      <th>7</th>\n",
              "      <td>honda</td>\n",
              "      <td>s2000</td>\n",
              "      <td>2</td>\n",
              "      <td>13</td>\n",
              "      <td>19220.38</td>\n",
              "      <td>honda-s2000</td>\n",
              "      <td>6.75</td>\n",
              "    </tr>\n",
              "    <tr>\n",
              "      <th>91</th>\n",
              "      <td>alfa-romeo</td>\n",
              "      <td>mito</td>\n",
              "      <td>1</td>\n",
              "      <td>7</td>\n",
              "      <td>24056.25</td>\n",
              "      <td>alfa-romeo-mito</td>\n",
              "      <td>7.00</td>\n",
              "    </tr>\n",
              "    <tr>\n",
              "      <th>14</th>\n",
              "      <td>dodge</td>\n",
              "      <td>caravan</td>\n",
              "      <td>1</td>\n",
              "      <td>8</td>\n",
              "      <td>62900.00</td>\n",
              "      <td>dodge-caravan</td>\n",
              "      <td>8.00</td>\n",
              "    </tr>\n",
              "    <tr>\n",
              "      <th>89</th>\n",
              "      <td>nissan</td>\n",
              "      <td>tiida</td>\n",
              "      <td>1</td>\n",
              "      <td>8</td>\n",
              "      <td>24981.50</td>\n",
              "      <td>nissan-tiida</td>\n",
              "      <td>8.00</td>\n",
              "    </tr>\n",
              "    <tr>\n",
              "      <th>95</th>\n",
              "      <td>chevrolet</td>\n",
              "      <td>spark</td>\n",
              "      <td>2</td>\n",
              "      <td>17</td>\n",
              "      <td>20355.29</td>\n",
              "      <td>chevrolet-spark</td>\n",
              "      <td>8.50</td>\n",
              "    </tr>\n",
              "    <tr>\n",
              "      <th>2</th>\n",
              "      <td>kia</td>\n",
              "      <td>cerato</td>\n",
              "      <td>1</td>\n",
              "      <td>9</td>\n",
              "      <td>18001.33</td>\n",
              "      <td>kia-cerato</td>\n",
              "      <td>9.00</td>\n",
              "    </tr>\n",
              "    <tr>\n",
              "      <th>69</th>\n",
              "      <td>peugeot</td>\n",
              "      <td>806</td>\n",
              "      <td>1</td>\n",
              "      <td>14</td>\n",
              "      <td>46262.03</td>\n",
              "      <td>peugeot-806</td>\n",
              "      <td>14.00</td>\n",
              "    </tr>\n",
              "    <tr>\n",
              "      <th>100</th>\n",
              "      <td>mitsubishi</td>\n",
              "      <td>galant</td>\n",
              "      <td>1</td>\n",
              "      <td>14</td>\n",
              "      <td>18467.80</td>\n",
              "      <td>mitsubishi-galant</td>\n",
              "      <td>14.00</td>\n",
              "    </tr>\n",
              "    <tr>\n",
              "      <th>86</th>\n",
              "      <td>skoda</td>\n",
              "      <td>forman</td>\n",
              "      <td>1</td>\n",
              "      <td>14</td>\n",
              "      <td>48075.50</td>\n",
              "      <td>skoda-forman</td>\n",
              "      <td>14.00</td>\n",
              "    </tr>\n",
              "    <tr>\n",
              "      <th>76</th>\n",
              "      <td>mazda</td>\n",
              "      <td>tribute</td>\n",
              "      <td>1</td>\n",
              "      <td>14</td>\n",
              "      <td>40673.58</td>\n",
              "      <td>mazda-tribute</td>\n",
              "      <td>14.00</td>\n",
              "    </tr>\n",
              "    <tr>\n",
              "      <th>94</th>\n",
              "      <td>fiat</td>\n",
              "      <td>ulysse</td>\n",
              "      <td>1</td>\n",
              "      <td>14</td>\n",
              "      <td>19615.10</td>\n",
              "      <td>fiat-ulysse</td>\n",
              "      <td>14.00</td>\n",
              "    </tr>\n",
              "    <tr>\n",
              "      <th>67</th>\n",
              "      <td>alfa-romeo</td>\n",
              "      <td>156</td>\n",
              "      <td>2</td>\n",
              "      <td>28</td>\n",
              "      <td>40229.46</td>\n",
              "      <td>alfa-romeo-156</td>\n",
              "      <td>14.25</td>\n",
              "    </tr>\n",
              "    <tr>\n",
              "      <th>102</th>\n",
              "      <td>renault</td>\n",
              "      <td>modus</td>\n",
              "      <td>1</td>\n",
              "      <td>15</td>\n",
              "      <td>19615.10</td>\n",
              "      <td>renault-modus</td>\n",
              "      <td>15.00</td>\n",
              "    </tr>\n",
              "    <tr>\n",
              "      <th>15</th>\n",
              "      <td>ford</td>\n",
              "      <td>excursion</td>\n",
              "      <td>2</td>\n",
              "      <td>36</td>\n",
              "      <td>30767.08</td>\n",
              "      <td>ford-excursion</td>\n",
              "      <td>18.25</td>\n",
              "    </tr>\n",
              "    <tr>\n",
              "      <th>10</th>\n",
              "      <td>hyundai</td>\n",
              "      <td>sonata</td>\n",
              "      <td>2</td>\n",
              "      <td>37</td>\n",
              "      <td>29513.31</td>\n",
              "      <td>hyundai-sonata</td>\n",
              "      <td>18.75</td>\n",
              "    </tr>\n",
              "    <tr>\n",
              "      <th>38</th>\n",
              "      <td>chrysler</td>\n",
              "      <td>200</td>\n",
              "      <td>2</td>\n",
              "      <td>39</td>\n",
              "      <td>32272.38</td>\n",
              "      <td>chrysler-200</td>\n",
              "      <td>19.50</td>\n",
              "    </tr>\n",
              "  </tbody>\n",
              "</table>\n",
              "</div>\n",
              "      <button class=\"colab-df-convert\" onclick=\"convertToInteractive('df-dce27f22-734e-48e0-a233-dfa899bc4f77')\"\n",
              "              title=\"Convert this dataframe to an interactive table.\"\n",
              "              style=\"display:none;\">\n",
              "        \n",
              "  <svg xmlns=\"http://www.w3.org/2000/svg\" height=\"24px\"viewBox=\"0 0 24 24\"\n",
              "       width=\"24px\">\n",
              "    <path d=\"M0 0h24v24H0V0z\" fill=\"none\"/>\n",
              "    <path d=\"M18.56 5.44l.94 2.06.94-2.06 2.06-.94-2.06-.94-.94-2.06-.94 2.06-2.06.94zm-11 1L8.5 8.5l.94-2.06 2.06-.94-2.06-.94L8.5 2.5l-.94 2.06-2.06.94zm10 10l.94 2.06.94-2.06 2.06-.94-2.06-.94-.94-2.06-.94 2.06-2.06.94z\"/><path d=\"M17.41 7.96l-1.37-1.37c-.4-.4-.92-.59-1.43-.59-.52 0-1.04.2-1.43.59L10.3 9.45l-7.72 7.72c-.78.78-.78 2.05 0 2.83L4 21.41c.39.39.9.59 1.41.59.51 0 1.02-.2 1.41-.59l7.78-7.78 2.81-2.81c.8-.78.8-2.07 0-2.86zM5.41 20L4 18.59l7.72-7.72 1.47 1.35L5.41 20z\"/>\n",
              "  </svg>\n",
              "      </button>\n",
              "      \n",
              "  <style>\n",
              "    .colab-df-container {\n",
              "      display:flex;\n",
              "      flex-wrap:wrap;\n",
              "      gap: 12px;\n",
              "    }\n",
              "\n",
              "    .colab-df-convert {\n",
              "      background-color: #E8F0FE;\n",
              "      border: none;\n",
              "      border-radius: 50%;\n",
              "      cursor: pointer;\n",
              "      display: none;\n",
              "      fill: #1967D2;\n",
              "      height: 32px;\n",
              "      padding: 0 0 0 0;\n",
              "      width: 32px;\n",
              "    }\n",
              "\n",
              "    .colab-df-convert:hover {\n",
              "      background-color: #E2EBFA;\n",
              "      box-shadow: 0px 1px 2px rgba(60, 64, 67, 0.3), 0px 1px 3px 1px rgba(60, 64, 67, 0.15);\n",
              "      fill: #174EA6;\n",
              "    }\n",
              "\n",
              "    [theme=dark] .colab-df-convert {\n",
              "      background-color: #3B4455;\n",
              "      fill: #D2E3FC;\n",
              "    }\n",
              "\n",
              "    [theme=dark] .colab-df-convert:hover {\n",
              "      background-color: #434B5C;\n",
              "      box-shadow: 0px 1px 3px 1px rgba(0, 0, 0, 0.15);\n",
              "      filter: drop-shadow(0px 1px 2px rgba(0, 0, 0, 0.3));\n",
              "      fill: #FFFFFF;\n",
              "    }\n",
              "  </style>\n",
              "\n",
              "      <script>\n",
              "        const buttonEl =\n",
              "          document.querySelector('#df-dce27f22-734e-48e0-a233-dfa899bc4f77 button.colab-df-convert');\n",
              "        buttonEl.style.display =\n",
              "          google.colab.kernel.accessAllowed ? 'block' : 'none';\n",
              "\n",
              "        async function convertToInteractive(key) {\n",
              "          const element = document.querySelector('#df-dce27f22-734e-48e0-a233-dfa899bc4f77');\n",
              "          const dataTable =\n",
              "            await google.colab.kernel.invokeFunction('convertToInteractive',\n",
              "                                                     [key], {});\n",
              "          if (!dataTable) return;\n",
              "\n",
              "          const docLinkHtml = 'Like what you see? Visit the ' +\n",
              "            '<a target=\"_blank\" href=https://colab.research.google.com/notebooks/data_table.ipynb>data table notebook</a>'\n",
              "            + ' to learn more about interactive tables.';\n",
              "          element.innerHTML = '';\n",
              "          dataTable['output_type'] = 'display_data';\n",
              "          await google.colab.output.renderOutput(dataTable, element);\n",
              "          const docLink = document.createElement('div');\n",
              "          docLink.innerHTML = docLinkHtml;\n",
              "          element.appendChild(docLink);\n",
              "        }\n",
              "      </script>\n",
              "    </div>\n",
              "  </div>\n",
              "  "
            ]
          },
          "metadata": {},
          "execution_count": 85
        }
      ]
    },
    {
      "cell_type": "code",
      "source": [
        "pd_exe_count_one_plot= pd_exe_count_one.head(7)"
      ],
      "metadata": {
        "id": "xOIa67vbU_vS"
      },
      "execution_count": 86,
      "outputs": []
    },
    {
      "cell_type": "code",
      "source": [
        "sns.barplot(data=pd_exe_count_one_plot, x=\"Maker-Model\", y=\"Days_for_sale\").set(title='Days_for_Sale vs Maker-model for Top Executive cars')"
      ],
      "metadata": {
        "colab": {
          "base_uri": "https://localhost:8080/",
          "height": 599
        },
        "id": "uht4RXdDVBjv",
        "outputId": "bc6e9492-b370-450f-8e18-ad08abe29cb5"
      },
      "execution_count": 87,
      "outputs": [
        {
          "output_type": "execute_result",
          "data": {
            "text/plain": [
              "[Text(0.5, 1.0, 'Days_for_Sale vs Maker-model for Top Executive cars')]"
            ]
          },
          "metadata": {},
          "execution_count": 87
        },
        {
          "output_type": "display_data",
          "data": {
            "text/plain": [
              "<Figure size 1130.4x667.44 with 1 Axes>"
            ],
            "image/png": "[encoded data removed]"
          },
          "metadata": {
            "needs_background": "light"
          }
        }
      ]
    },
    {
      "cell_type": "markdown",
      "source": [
        "**Comparing cars with make and model that were available only in one and two in quantity - we can conclude that - \"Jeep-liberty\" and \"Mazda-323\" are the best make and model.**\n"
      ],
      "metadata": {
        "id": "CoH86hFlVGE5"
      }
    },
    {
      "cell_type": "markdown",
      "source": [
        "The top maker model in this Category:\n",
        " 1. Mazda-323 and Jeep-Liberty\n",
        " 2. Subaru-justy\n",
        " 3. Mitsubishi-colt\n",
        " 4. Honda-s2000\n",
        " 5. alfa-romeo mito\n",
        " 6. dodge-Caravan"
      ],
      "metadata": {
        "id": "8vVUayzJVIcD"
      }
    },
    {
      "cell_type": "markdown",
      "source": [
        "**Now we will analyse cars that were sold more than twice**\n",
        "----"
      ],
      "metadata": {
        "id": "b41uqyHiVON6"
      }
    },
    {
      "cell_type": "code",
      "source": [
        "exe_cars_overall = exe_count.filter(exe_count.Exe_count>2)"
      ],
      "metadata": {
        "id": "PaHhxbXDVDAr"
      },
      "execution_count": 89,
      "outputs": []
    },
    {
      "cell_type": "code",
      "source": [
        "pd_exe_count_other= exe_cars_overall.toPandas()\n",
        "pd_exe_count_other=pd_exe_count_other.sort_values(by=[\"Days_count_ratio\"],ascending=[True])\n",
        "pd_exe_count_other_plot= pd_exe_count_other.head(30)\n",
        "pd_exe_count_other_plot"
      ],
      "metadata": {
        "colab": {
          "base_uri": "https://localhost:8080/",
          "height": 990
        },
        "id": "VYarkmuNVMyF",
        "outputId": "7568bc4b-03d1-400a-e017-d705481c87ad"
      },
      "execution_count": 90,
      "outputs": [
        {
          "output_type": "execute_result",
          "data": {
            "text/plain": [
              "          maker       model  Exe_count  Days_for_sale  price_eur  \\\n",
              "235        audi          a3      21887             82   25364.11   \n",
              "238        ford        kuga       6520             86   23917.38   \n",
              "159        seat        leon       7967             95   22554.96   \n",
              "371         bmw          x1       7451             88   25522.18   \n",
              "362        audi          q3       8252             89   30774.52   \n",
              "28          bmw          x3       6913             83   32016.79   \n",
              "27        skoda     octavia       9820             98   23903.68   \n",
              "162        audi          a5       8189             91   28470.16   \n",
              "351        audi          q5       7474             91   30782.56   \n",
              "279      nissan     qashqai       8397             94   22722.94   \n",
              "116  volkswagen        golf      17981            127   23448.63   \n",
              "403       skoda      superb       4250             93   26463.52   \n",
              "203        opel       mokka       5234             91   21361.26   \n",
              "236     citroen  c4-picasso       3846             72   22047.51   \n",
              "190        opel    insignia       4351             84   23058.32   \n",
              "196       volvo        xc60       4399            105   31198.93   \n",
              "199  volkswagen      tiguan       6169            126   25442.61   \n",
              "85         audi          a1       4626             97   21402.77   \n",
              "187        mini      cooper       5011             93   23350.19   \n",
              "108        audi          q7       3787             87   44188.86   \n",
              "20          kia    sportage       5186            100   23759.00   \n",
              "179     porsche         911       5661             93   78126.87   \n",
              "48         audi          a6       5210             92   29065.70   \n",
              "408         bmw          x5       5033             88   38259.02   \n",
              "221     porsche     cayenne       3630             88   52211.86   \n",
              "251        audi          a4       4001             96   26339.20   \n",
              "42   volkswagen      passat       7179            126   27595.86   \n",
              "316        opel       astra       2695             94   21385.97   \n",
              "412      nissan     x-trail       2475             80   26485.53   \n",
              "36        mazda        cx-5       3283             94   26667.78   \n",
              "\n",
              "            Maker-Model  Days_count_ratio  \n",
              "235             audi-a3              0.00  \n",
              "238           ford-kuga              0.01  \n",
              "159           seat-leon              0.01  \n",
              "371              bmw-x1              0.01  \n",
              "362             audi-q3              0.01  \n",
              "28               bmw-x3              0.01  \n",
              "27        skoda-octavia              0.01  \n",
              "162             audi-a5              0.01  \n",
              "351             audi-q5              0.01  \n",
              "279      nissan-qashqai              0.01  \n",
              "116     volkswagen-golf              0.01  \n",
              "403        skoda-superb              0.02  \n",
              "203          opel-mokka              0.02  \n",
              "236  citroen-c4-picasso              0.02  \n",
              "190       opel-insignia              0.02  \n",
              "196          volvo-xc60              0.02  \n",
              "199   volkswagen-tiguan              0.02  \n",
              "85              audi-a1              0.02  \n",
              "187         mini-cooper              0.02  \n",
              "108             audi-q7              0.02  \n",
              "20         kia-sportage              0.02  \n",
              "179         porsche-911              0.02  \n",
              "48              audi-a6              0.02  \n",
              "408              bmw-x5              0.02  \n",
              "221     porsche-cayenne              0.02  \n",
              "251             audi-a4              0.02  \n",
              "42    volkswagen-passat              0.02  \n",
              "316          opel-astra              0.03  \n",
              "412      nissan-x-trail              0.03  \n",
              "36           mazda-cx-5              0.03  "
            ],
            "text/html": [
              "\n",
              "  <div id=\"df-ec063d6a-4095-4be7-8da4-d4d890b0b773\">\n",
              "    <div class=\"colab-df-container\">\n",
              "      <div>\n",
              "<style scoped>\n",
              "    .dataframe tbody tr th:only-of-type {\n",
              "        vertical-align: middle;\n",
              "    }\n",
              "\n",
              "    .dataframe tbody tr th {\n",
              "        vertical-align: top;\n",
              "    }\n",
              "\n",
              "    .dataframe thead th {\n",
              "        text-align: right;\n",
              "    }\n",
              "</style>\n",
              "<table border=\"1\" class=\"dataframe\">\n",
              "  <thead>\n",
              "    <tr style=\"text-align: right;\">\n",
              "      <th></th>\n",
              "      <th>maker</th>\n",
              "      <th>model</th>\n",
              "      <th>Exe_count</th>\n",
              "      <th>Days_for_sale</th>\n",
              "      <th>price_eur</th>\n",
              "      <th>Maker-Model</th>\n",
              "      <th>Days_count_ratio</th>\n",
              "    </tr>\n",
              "  </thead>\n",
              "  <tbody>\n",
              "    <tr>\n",
              "      <th>235</th>\n",
              "      <td>audi</td>\n",
              "      <td>a3</td>\n",
              "      <td>21887</td>\n",
              "      <td>82</td>\n",
              "      <td>25364.11</td>\n",
              "      <td>audi-a3</td>\n",
              "      <td>0.00</td>\n",
              "    </tr>\n",
              "    <tr>\n",
              "      <th>238</th>\n",
              "      <td>ford</td>\n",
              "      <td>kuga</td>\n",
              "      <td>6520</td>\n",
              "      <td>86</td>\n",
              "      <td>23917.38</td>\n",
              "      <td>ford-kuga</td>\n",
              "      <td>0.01</td>\n",
              "    </tr>\n",
              "    <tr>\n",
              "      <th>159</th>\n",
              "      <td>seat</td>\n",
              "      <td>leon</td>\n",
              "      <td>7967</td>\n",
              "      <td>95</td>\n",
              "      <td>22554.96</td>\n",
              "      <td>seat-leon</td>\n",
              "      <td>0.01</td>\n",
              "    </tr>\n",
              "    <tr>\n",
              "      <th>371</th>\n",
              "      <td>bmw</td>\n",
              "      <td>x1</td>\n",
              "      <td>7451</td>\n",
              "      <td>88</td>\n",
              "      <td>25522.18</td>\n",
              "      <td>bmw-x1</td>\n",
              "      <td>0.01</td>\n",
              "    </tr>\n",
              "    <tr>\n",
              "      <th>362</th>\n",
              "      <td>audi</td>\n",
              "      <td>q3</td>\n",
              "      <td>8252</td>\n",
              "      <td>89</td>\n",
              "      <td>30774.52</td>\n",
              "      <td>audi-q3</td>\n",
              "      <td>0.01</td>\n",
              "    </tr>\n",
              "    <tr>\n",
              "      <th>28</th>\n",
              "      <td>bmw</td>\n",
              "      <td>x3</td>\n",
              "      <td>6913</td>\n",
              "      <td>83</td>\n",
              "      <td>32016.79</td>\n",
              "      <td>bmw-x3</td>\n",
              "      <td>0.01</td>\n",
              "    </tr>\n",
              "    <tr>\n",
              "      <th>27</th>\n",
              "      <td>skoda</td>\n",
              "      <td>octavia</td>\n",
              "      <td>9820</td>\n",
              "      <td>98</td>\n",
              "      <td>23903.68</td>\n",
              "      <td>skoda-octavia</td>\n",
              "      <td>0.01</td>\n",
              "    </tr>\n",
              "    <tr>\n",
              "      <th>162</th>\n",
              "      <td>audi</td>\n",
              "      <td>a5</td>\n",
              "      <td>8189</td>\n",
              "      <td>91</td>\n",
              "      <td>28470.16</td>\n",
              "      <td>audi-a5</td>\n",
              "      <td>0.01</td>\n",
              "    </tr>\n",
              "    <tr>\n",
              "      <th>351</th>\n",
              "      <td>audi</td>\n",
              "      <td>q5</td>\n",
              "      <td>7474</td>\n",
              "      <td>91</td>\n",
              "      <td>30782.56</td>\n",
              "      <td>audi-q5</td>\n",
              "      <td>0.01</td>\n",
              "    </tr>\n",
              "    <tr>\n",
              "      <th>279</th>\n",
              "      <td>nissan</td>\n",
              "      <td>qashqai</td>\n",
              "      <td>8397</td>\n",
              "      <td>94</td>\n",
              "      <td>22722.94</td>\n",
              "      <td>nissan-qashqai</td>\n",
              "      <td>0.01</td>\n",
              "    </tr>\n",
              "    <tr>\n",
              "      <th>116</th>\n",
              "      <td>volkswagen</td>\n",
              "      <td>golf</td>\n",
              "      <td>17981</td>\n",
              "      <td>127</td>\n",
              "      <td>23448.63</td>\n",
              "      <td>volkswagen-golf</td>\n",
              "      <td>0.01</td>\n",
              "    </tr>\n",
              "    <tr>\n",
              "      <th>403</th>\n",
              "      <td>skoda</td>\n",
              "      <td>superb</td>\n",
              "      <td>4250</td>\n",
              "      <td>93</td>\n",
              "      <td>26463.52</td>\n",
              "      <td>skoda-superb</td>\n",
              "      <td>0.02</td>\n",
              "    </tr>\n",
              "    <tr>\n",
              "      <th>203</th>\n",
              "      <td>opel</td>\n",
              "      <td>mokka</td>\n",
              "      <td>5234</td>\n",
              "      <td>91</td>\n",
              "      <td>21361.26</td>\n",
              "      <td>opel-mokka</td>\n",
              "      <td>0.02</td>\n",
              "    </tr>\n",
              "    <tr>\n",
              "      <th>236</th>\n",
              "      <td>citroen</td>\n",
              "      <td>c4-picasso</td>\n",
              "      <td>3846</td>\n",
              "      <td>72</td>\n",
              "      <td>22047.51</td>\n",
              "      <td>citroen-c4-picasso</td>\n",
              "      <td>0.02</td>\n",
              "    </tr>\n",
              "    <tr>\n",
              "      <th>190</th>\n",
              "      <td>opel</td>\n",
              "      <td>insignia</td>\n",
              "      <td>4351</td>\n",
              "      <td>84</td>\n",
              "      <td>23058.32</td>\n",
              "      <td>opel-insignia</td>\n",
              "      <td>0.02</td>\n",
              "    </tr>\n",
              "    <tr>\n",
              "      <th>196</th>\n",
              "      <td>volvo</td>\n",
              "      <td>xc60</td>\n",
              "      <td>4399</td>\n",
              "      <td>105</td>\n",
              "      <td>31198.93</td>\n",
              "      <td>volvo-xc60</td>\n",
              "      <td>0.02</td>\n",
              "    </tr>\n",
              "    <tr>\n",
              "      <th>199</th>\n",
              "      <td>volkswagen</td>\n",
              "      <td>tiguan</td>\n",
              "      <td>6169</td>\n",
              "      <td>126</td>\n",
              "      <td>25442.61</td>\n",
              "      <td>volkswagen-tiguan</td>\n",
              "      <td>0.02</td>\n",
              "    </tr>\n",
              "    <tr>\n",
              "      <th>85</th>\n",
              "      <td>audi</td>\n",
              "      <td>a1</td>\n",
              "      <td>4626</td>\n",
              "      <td>97</td>\n",
              "      <td>21402.77</td>\n",
              "      <td>audi-a1</td>\n",
              "      <td>0.02</td>\n",
              "    </tr>\n",
              "    <tr>\n",
              "      <th>187</th>\n",
              "      <td>mini</td>\n",
              "      <td>cooper</td>\n",
              "      <td>5011</td>\n",
              "      <td>93</td>\n",
              "      <td>23350.19</td>\n",
              "      <td>mini-cooper</td>\n",
              "      <td>0.02</td>\n",
              "    </tr>\n",
              "    <tr>\n",
              "      <th>108</th>\n",
              "      <td>audi</td>\n",
              "      <td>q7</td>\n",
              "      <td>3787</td>\n",
              "      <td>87</td>\n",
              "      <td>44188.86</td>\n",
              "      <td>audi-q7</td>\n",
              "      <td>0.02</td>\n",
              "    </tr>\n",
              "    <tr>\n",
              "      <th>20</th>\n",
              "      <td>kia</td>\n",
              "      <td>sportage</td>\n",
              "      <td>5186</td>\n",
              "      <td>100</td>\n",
              "      <td>23759.00</td>\n",
              "      <td>kia-sportage</td>\n",
              "      <td>0.02</td>\n",
              "    </tr>\n",
              "    <tr>\n",
              "      <th>179</th>\n",
              "      <td>porsche</td>\n",
              "      <td>911</td>\n",
              "      <td>5661</td>\n",
              "      <td>93</td>\n",
              "      <td>78126.87</td>\n",
              "      <td>porsche-911</td>\n",
              "      <td>0.02</td>\n",
              "    </tr>\n",
              "    <tr>\n",
              "      <th>48</th>\n",
              "      <td>audi</td>\n",
              "      <td>a6</td>\n",
              "      <td>5210</td>\n",
              "      <td>92</td>\n",
              "      <td>29065.70</td>\n",
              "      <td>audi-a6</td>\n",
              "      <td>0.02</td>\n",
              "    </tr>\n",
              "    <tr>\n",
              "      <th>408</th>\n",
              "      <td>bmw</td>\n",
              "      <td>x5</td>\n",
              "      <td>5033</td>\n",
              "      <td>88</td>\n",
              "      <td>38259.02</td>\n",
              "      <td>bmw-x5</td>\n",
              "      <td>0.02</td>\n",
              "    </tr>\n",
              "    <tr>\n",
              "      <th>221</th>\n",
              "      <td>porsche</td>\n",
              "      <td>cayenne</td>\n",
              "      <td>3630</td>\n",
              "      <td>88</td>\n",
              "      <td>52211.86</td>\n",
              "      <td>porsche-cayenne</td>\n",
              "      <td>0.02</td>\n",
              "    </tr>\n",
              "    <tr>\n",
              "      <th>251</th>\n",
              "      <td>audi</td>\n",
              "      <td>a4</td>\n",
              "      <td>4001</td>\n",
              "      <td>96</td>\n",
              "      <td>26339.20</td>\n",
              "      <td>audi-a4</td>\n",
              "      <td>0.02</td>\n",
              "    </tr>\n",
              "    <tr>\n",
              "      <th>42</th>\n",
              "      <td>volkswagen</td>\n",
              "      <td>passat</td>\n",
              "      <td>7179</td>\n",
              "      <td>126</td>\n",
              "      <td>27595.86</td>\n",
              "      <td>volkswagen-passat</td>\n",
              "      <td>0.02</td>\n",
              "    </tr>\n",
              "    <tr>\n",
              "      <th>316</th>\n",
              "      <td>opel</td>\n",
              "      <td>astra</td>\n",
              "      <td>2695</td>\n",
              "      <td>94</td>\n",
              "      <td>21385.97</td>\n",
              "      <td>opel-astra</td>\n",
              "      <td>0.03</td>\n",
              "    </tr>\n",
              "    <tr>\n",
              "      <th>412</th>\n",
              "      <td>nissan</td>\n",
              "      <td>x-trail</td>\n",
              "      <td>2475</td>\n",
              "      <td>80</td>\n",
              "      <td>26485.53</td>\n",
              "      <td>nissan-x-trail</td>\n",
              "      <td>0.03</td>\n",
              "    </tr>\n",
              "    <tr>\n",
              "      <th>36</th>\n",
              "      <td>mazda</td>\n",
              "      <td>cx-5</td>\n",
              "      <td>3283</td>\n",
              "      <td>94</td>\n",
              "      <td>26667.78</td>\n",
              "      <td>mazda-cx-5</td>\n",
              "      <td>0.03</td>\n",
              "    </tr>\n",
              "  </tbody>\n",
              "</table>\n",
              "</div>\n",
              "      <button class=\"colab-df-convert\" onclick=\"convertToInteractive('df-ec063d6a-4095-4be7-8da4-d4d890b0b773')\"\n",
              "              title=\"Convert this dataframe to an interactive table.\"\n",
              "              style=\"display:none;\">\n",
              "        \n",
              "  <svg xmlns=\"http://www.w3.org/2000/svg\" height=\"24px\"viewBox=\"0 0 24 24\"\n",
              "       width=\"24px\">\n",
              "    <path d=\"M0 0h24v24H0V0z\" fill=\"none\"/>\n",
              "    <path d=\"M18.56 5.44l.94 2.06.94-2.06 2.06-.94-2.06-.94-.94-2.06-.94 2.06-2.06.94zm-11 1L8.5 8.5l.94-2.06 2.06-.94-2.06-.94L8.5 2.5l-.94 2.06-2.06.94zm10 10l.94 2.06.94-2.06 2.06-.94-2.06-.94-.94-2.06-.94 2.06-2.06.94z\"/><path d=\"M17.41 7.96l-1.37-1.37c-.4-.4-.92-.59-1.43-.59-.52 0-1.04.2-1.43.59L10.3 9.45l-7.72 7.72c-.78.78-.78 2.05 0 2.83L4 21.41c.39.39.9.59 1.41.59.51 0 1.02-.2 1.41-.59l7.78-7.78 2.81-2.81c.8-.78.8-2.07 0-2.86zM5.41 20L4 18.59l7.72-7.72 1.47 1.35L5.41 20z\"/>\n",
              "  </svg>\n",
              "      </button>\n",
              "      \n",
              "  <style>\n",
              "    .colab-df-container {\n",
              "      display:flex;\n",
              "      flex-wrap:wrap;\n",
              "      gap: 12px;\n",
              "    }\n",
              "\n",
              "    .colab-df-convert {\n",
              "      background-color: #E8F0FE;\n",
              "      border: none;\n",
              "      border-radius: 50%;\n",
              "      cursor: pointer;\n",
              "      display: none;\n",
              "      fill: #1967D2;\n",
              "      height: 32px;\n",
              "      padding: 0 0 0 0;\n",
              "      width: 32px;\n",
              "    }\n",
              "\n",
              "    .colab-df-convert:hover {\n",
              "      background-color: #E2EBFA;\n",
              "      box-shadow: 0px 1px 2px rgba(60, 64, 67, 0.3), 0px 1px 3px 1px rgba(60, 64, 67, 0.15);\n",
              "      fill: #174EA6;\n",
              "    }\n",
              "\n",
              "    [theme=dark] .colab-df-convert {\n",
              "      background-color: #3B4455;\n",
              "      fill: #D2E3FC;\n",
              "    }\n",
              "\n",
              "    [theme=dark] .colab-df-convert:hover {\n",
              "      background-color: #434B5C;\n",
              "      box-shadow: 0px 1px 3px 1px rgba(0, 0, 0, 0.15);\n",
              "      filter: drop-shadow(0px 1px 2px rgba(0, 0, 0, 0.3));\n",
              "      fill: #FFFFFF;\n",
              "    }\n",
              "  </style>\n",
              "\n",
              "      <script>\n",
              "        const buttonEl =\n",
              "          document.querySelector('#df-ec063d6a-4095-4be7-8da4-d4d890b0b773 button.colab-df-convert');\n",
              "        buttonEl.style.display =\n",
              "          google.colab.kernel.accessAllowed ? 'block' : 'none';\n",
              "\n",
              "        async function convertToInteractive(key) {\n",
              "          const element = document.querySelector('#df-ec063d6a-4095-4be7-8da4-d4d890b0b773');\n",
              "          const dataTable =\n",
              "            await google.colab.kernel.invokeFunction('convertToInteractive',\n",
              "                                                     [key], {});\n",
              "          if (!dataTable) return;\n",
              "\n",
              "          const docLinkHtml = 'Like what you see? Visit the ' +\n",
              "            '<a target=\"_blank\" href=https://colab.research.google.com/notebooks/data_table.ipynb>data table notebook</a>'\n",
              "            + ' to learn more about interactive tables.';\n",
              "          element.innerHTML = '';\n",
              "          dataTable['output_type'] = 'display_data';\n",
              "          await google.colab.output.renderOutput(dataTable, element);\n",
              "          const docLink = document.createElement('div');\n",
              "          docLink.innerHTML = docLinkHtml;\n",
              "          element.appendChild(docLink);\n",
              "        }\n",
              "      </script>\n",
              "    </div>\n",
              "  </div>\n",
              "  "
            ]
          },
          "metadata": {},
          "execution_count": 90
        }
      ]
    },
    {
      "cell_type": "code",
      "source": [
        "pd_exe_count_other_plot= pd_exe_count_other.head(10)"
      ],
      "metadata": {
        "id": "YwrA2u8rVRkZ"
      },
      "execution_count": 91,
      "outputs": []
    },
    {
      "cell_type": "code",
      "source": [
        "sns.barplot(data=pd_exe_count_other_plot, x=\"Maker-Model\", y=\"Days_for_sale\").set(title='Days_for_Sale vs Maker-model for top Executive cars')"
      ],
      "metadata": {
        "colab": {
          "base_uri": "https://localhost:8080/",
          "height": 599
        },
        "id": "s8acIHOTVTDH",
        "outputId": "04bfc702-c709-4bc3-914e-2ccde59762cc"
      },
      "execution_count": 92,
      "outputs": [
        {
          "output_type": "execute_result",
          "data": {
            "text/plain": [
              "[Text(0.5, 1.0, 'Days_for_Sale vs Maker-model for top Executive cars')]"
            ]
          },
          "metadata": {},
          "execution_count": 92
        },
        {
          "output_type": "display_data",
          "data": {
            "text/plain": [
              "<Figure size 1130.4x667.44 with 1 Axes>"
            ],
            "image/png": "[encoded data removed]"
          },
          "metadata": {
            "needs_background": "light"
          }
        }
      ]
    },
    {
      "cell_type": "markdown",
      "source": [
        "We can conclude that, \n",
        "**For Executive class:** \n",
        "1. \"Audi-A3\" is the best make and model when it comes to cars that were sold more than twice. \n",
        "2. ford-kuga, seat-leon , bmw-x1 , audi-q3 , bmw-x3 , skoda -octavia , audi-a5 , audi-q5 are make and models that share the second position\n",
        "3. As per the analysis, we can conclude that Audi is the best maker as they have more models in the best selling list\n",
        "4. The top maker model in the Category when the sold cars are less than 3:\n",
        "\n",
        "  Mazda-323 and Jeep-Liberty\n",
        "  Subaru-justy\n",
        "  Mitsubishi-colt\n",
        "  Honda-s2000\n",
        "  alfa-romeo mito\n",
        "  dodge-Caravan\n"
      ],
      "metadata": {
        "id": "dcpMqQfKVWnA"
      }
    },
    {
      "cell_type": "markdown",
      "source": [
        "**Standard class analysis**"
      ],
      "metadata": {
        "id": "t4Mptbe-VaAe"
      }
    },
    {
      "cell_type": "code",
      "source": [
        "final_data_standard= final_data_standard.withColumn(\"Days_for_sale\", datediff(\"date_last_seen\",\"date_created\"))\n",
        "final_data_standard.show()"
      ],
      "metadata": {
        "colab": {
          "base_uri": "https://localhost:8080/"
        },
        "id": "eBJEj3FWVUIM",
        "outputId": "dd797bc2-04c2-46cd-a860-c902d5756418"
      },
      "execution_count": 93,
      "outputs": [
        {
          "output_type": "stream",
          "name": "stdout",
          "text": [
            "+---------+-------------+-------+----------------+-------------------+------------+---------+------------+----------+----------+------------+--------------+---------+--------+-------------+\n",
            "|    maker|        model|mileage|manufacture_year|engine_displacement|engine_power|body_type|transmission|door_count|seat_count|date_created|date_last_seen|price_eur| Segment|Days_for_sale|\n",
            "+---------+-------------+-------+----------------+-------------------+------------+---------+------------+----------+----------+------------+--------------+---------+--------+-------------+\n",
            "|    skoda|        fabia| 111970|            2004|               1200|          47|     null|         man|         5|         5|  2015-11-14|    2016-01-27|  2960.77|Standard|           74|\n",
            "|    skoda|        fabia| 130749|            2004|               1200|          47|     null|         man|         5|         5|  2015-11-14|    2016-01-27|  2960.77|Standard|           74|\n",
            "|     fiat|        stilo|  63588|            2004|               1600|          76|     null|         man|         5|         5|  2015-11-14|    2016-01-27|  2960.77|Standard|           74|\n",
            "|    skoda|        fabia|  79348|            2005|               1200|          47|     null|         man|         5|         5|  2015-11-14|    2016-01-27|  2960.77|Standard|           74|\n",
            "|     ford|       mondeo| 137382|            2011|               2000|         103|     null|         man|         5|         5|  2015-11-14|    2016-01-27| 10173.95|Standard|           74|\n",
            "|    skoda|        fabia| 105849|            2004|               1200|          47|     null|         man|         5|         5|  2015-11-14|    2016-01-27|  2960.77|Standard|           74|\n",
            "|     ford|       mondeo| 145198|            2011|               2000|         103|     null|         man|         5|         5|  2015-11-14|    2016-01-27| 10173.95|Standard|           74|\n",
            "|    honda|         jazz|  85855|            2005|               1250|          57|     null|         man|         5|         5|  2015-11-14|    2016-01-27|  2960.77|Standard|           74|\n",
            "|    dodge|grand-caravan|  38800|            2012|               3605|         211|     null|        auto|         5|         7|  2015-11-14|    2016-01-27| 16653.96|Standard|           74|\n",
            "|  hyundai|         getz|  22000|            null|               1086|          48|     null|         man|         5|         5|  2015-11-14|    2016-01-27|  4440.78|Standard|           74|\n",
            "|    mazda|            3| 178902|            2004|               1600|          85|     null|         man|         5|         5|  2015-11-14|    2016-01-27|  2960.77|Standard|           74|\n",
            "|    skoda|       superb| 172999|            2011|               2000|         147|     null|        auto|         5|         5|  2015-11-14|    2016-01-27| 12657.29|Standard|           74|\n",
            "|    skoda|        fabia|  82229|            2006|               1200|          40|     null|         man|         5|         5|  2015-11-14|    2016-01-27|  2960.77|Standard|           74|\n",
            "|    skoda|      octavia| 192569|            2003|               1600|          75|     null|         man|         5|         5|  2015-11-14|    2016-01-27|  2960.77|Standard|           74|\n",
            "|    skoda|      octavia| 170189|            2005|               1600|          75|     null|         man|         5|         5|  2015-11-14|    2016-01-27|  2960.77|Standard|           74|\n",
            "|    skoda|        fabia| 165457|            2007|               1200|          47|     null|         man|         5|         5|  2015-11-14|    2016-01-27|  2960.77|Standard|           74|\n",
            "|chevrolet|        spark|  40377|            2008|                800|          38|     null|         man|         5|         5|  2015-11-14|    2016-01-27|  2960.77|Standard|           74|\n",
            "|    volvo|         xc70| 227230|            2001|               2400|         147|     null|         man|         5|         5|  2015-11-14|    2016-01-27|  2960.77|Standard|           74|\n",
            "|    skoda|      octavia|  29472|            2013|               1598|          77|     null|         man|         5|      null|  2015-11-14|    2016-01-27| 16653.96|Standard|           74|\n",
            "|     ford|       fusion| 106000|            null|               1388|          59|     null|         man|         5|         5|  2015-11-14|    2016-01-27|  3993.34|Standard|           74|\n",
            "+---------+-------------+-------+----------------+-------------------+------------+---------+------------+----------+----------+------------+--------------+---------+--------+-------------+\n",
            "only showing top 20 rows\n",
            "\n"
          ]
        }
      ]
    },
    {
      "cell_type": "code",
      "source": [
        "std_final_grouped= final_data_standard.groupBy(\"maker\",\"model\").agg(count(\"*\").alias(\"Exe_count\"),round(avg(\"Days_for_sale\"),2).alias(\"Days_for_sale\"),round(avg(\"price_eur\"),2).alias(\"price_eur\"))\n"
      ],
      "metadata": {
        "id": "Zgd1ewH_Vb2G"
      },
      "execution_count": 94,
      "outputs": []
    },
    {
      "cell_type": "code",
      "source": [
        "std_final_grouped=std_final_grouped.withColumn(\"Maker-Model\",concat_ws(\"-\",col(\"maker\"),col(\"model\")))\n",
        "std_final_grouped=std_final_grouped.withColumn(\"Days_count_ratio\",round((col(\"Days_for_sale\")/col(\"Exe_count\")),5))\n",
        "std_final_grouped.show()"
      ],
      "metadata": {
        "colab": {
          "base_uri": "https://localhost:8080/"
        },
        "id": "-VMWudrGVdXt",
        "outputId": "7d9191fe-2d0b-4351-eb99-050a9c9fe3b2"
      },
      "execution_count": 95,
      "outputs": [
        {
          "output_type": "stream",
          "name": "stdout",
          "text": [
            "+----------+-----------+---------+-------------+---------+-----------------+----------------+\n",
            "|     maker|      model|Exe_count|Days_for_sale|price_eur|      Maker-Model|Days_count_ratio|\n",
            "+----------+-----------+---------+-------------+---------+-----------------+----------------+\n",
            "|    toyota|       aygo|     7376|        84.59|  6723.72|      toyota-aygo|         0.01147|\n",
            "|     volvo|        850|      503|        72.83|  1664.26|        volvo-850|         0.14479|\n",
            "|      fiat|cinquecento|      444|        82.39|  1960.39| fiat-cinquecento|         0.18556|\n",
            "|   peugeot|        406|     2399|        52.08|  1426.65|      peugeot-406|         0.02171|\n",
            "|volkswagen|     beetle|     1099|       105.34| 10189.71|volkswagen-beetle|         0.09585|\n",
            "|       kia|     cerato|      441|        49.99|  2420.84|       kia-cerato|         0.11336|\n",
            "| chevrolet|    captiva|     2409|        75.33|  9489.17|chevrolet-captiva|         0.03127|\n",
            "|    jaguar|        xjs|       43|        78.47|  9266.05|       jaguar-xjs|         1.82488|\n",
            "|      seat|    cordoba|     3456|        51.78|  1550.01|     seat-cordoba|         0.01498|\n",
            "|    nissan|      350-z|      158|        66.96| 10016.98|     nissan-350-z|          0.4238|\n",
            "|      audi|         s3|      495|        70.75|  8783.86|          audi-s3|         0.14293|\n",
            "|    toyota|     celica|      654|         74.7|  2924.15|    toyota-celica|         0.11422|\n",
            "|    subaru|       baja|        3|        37.67|  5983.09|      subaru-baja|        12.55667|\n",
            "|   peugeot|        301|      338|        35.12|  3054.25|      peugeot-301|         0.10391|\n",
            "|    jaguar|     x-type|     1227|        82.22|   5461.8|    jaguar-x-type|         0.06701|\n",
            "|      audi|         s6|      416|         62.5|  6397.25|          audi-s6|         0.15024|\n",
            "|    nissan|   frontier|        8|        40.38|  1859.75|  nissan-frontier|          5.0475|\n",
            "|   renault|        r21|        6|        79.17|  1233.66|      renault-r21|          13.195|\n",
            "|      jeep|  scrambler|        1|        135.0|   8950.0|   jeep-scrambler|           135.0|\n",
            "|    lancia|      delta|     1848|         75.5|  9286.36|     lancia-delta|         0.04085|\n",
            "+----------+-----------+---------+-------------+---------+-----------------+----------------+\n",
            "only showing top 20 rows\n",
            "\n"
          ]
        }
      ]
    },
    {
      "cell_type": "code",
      "source": [
        "std_final_grouped.describe().show()"
      ],
      "metadata": {
        "colab": {
          "base_uri": "https://localhost:8080/"
        },
        "id": "aVqjj1kGVetN",
        "outputId": "c54b4351-ff11-4ab4-9328-f559e48ded9d"
      },
      "execution_count": 96,
      "outputs": [
        {
          "output_type": "stream",
          "name": "stdout",
          "text": [
            "+-------+----------+-----------------+------------------+------------------+------------------+--------------+------------------+\n",
            "|summary|     maker|            model|         Exe_count|     Days_for_sale|         price_eur|   Maker-Model|  Days_count_ratio|\n",
            "+-------+----------+-----------------+------------------+------------------+------------------+--------------+------------------+\n",
            "|  count|      1156|             1156|              1156|              1156|              1156|          1156|              1156|\n",
            "|   mean|  Infinity|515.6027397260274|1704.4134948096885| 53.79770761245667| 4084.018088235246|          null|  6.91843209342561|\n",
            "| stddev|       NaN|762.2996738947407| 6556.010588774963|30.823584398530063|3443.4384027284877|          null|19.381090735909353|\n",
            "|    min|alfa-romeo|              100|                 1|               0.0|             370.1|alfa-romeo-145|               0.0|\n",
            "|    max|     volvo|               zx|            118457|             168.0|          17500.67|    volvo-xc90|             168.0|\n",
            "+-------+----------+-----------------+------------------+------------------+------------------+--------------+------------------+\n",
            "\n"
          ]
        }
      ]
    },
    {
      "cell_type": "markdown",
      "source": [
        "**There is a huge variation in Exe_count as per this analysis.**\n",
        "----- "
      ],
      "metadata": {
        "id": "dvFPJuv-ViBr"
      }
    },
    {
      "cell_type": "code",
      "source": [
        "std_final_grouped.filter(std_final_grouped.Exe_count<6).count()"
      ],
      "metadata": {
        "colab": {
          "base_uri": "https://localhost:8080/"
        },
        "id": "mfzmyPpAVgJA",
        "outputId": "11a9d0e0-faab-4f5d-8608-ad26c07187d6"
      },
      "execution_count": 97,
      "outputs": [
        {
          "output_type": "execute_result",
          "data": {
            "text/plain": [
              "249"
            ]
          },
          "metadata": {},
          "execution_count": 97
        }
      ]
    },
    {
      "cell_type": "code",
      "source": [
        "249/1156"
      ],
      "metadata": {
        "colab": {
          "base_uri": "https://localhost:8080/"
        },
        "id": "xY20t73EVleq",
        "outputId": "19c3ef44-9cff-4b8b-9188-d184d40128f1"
      },
      "execution_count": 98,
      "outputs": [
        {
          "output_type": "execute_result",
          "data": {
            "text/plain": [
              "0.21539792387543252"
            ]
          },
          "metadata": {},
          "execution_count": 98
        }
      ]
    },
    {
      "cell_type": "markdown",
      "source": [
        "**We can observe that more than 80% of data lies in the category when \"Exe_count\" value is more than 5. Hence we will be doing our analysis separately for these two categories of cars data.**"
      ],
      "metadata": {
        "id": "_ka4mP6rVtgI"
      }
    },
    {
      "cell_type": "markdown",
      "source": [
        "**Analysis for cars which were sold less than 6 times in Standard Segment of Cars**\n",
        "-----"
      ],
      "metadata": {
        "id": "wwtbRoguVv-D"
      }
    },
    {
      "cell_type": "code",
      "source": [
        "std_final_grouped_five= std_final_grouped.filter(std_final_grouped.Exe_count<6)"
      ],
      "metadata": {
        "id": "Xny0Uy0wVq1O"
      },
      "execution_count": 99,
      "outputs": []
    },
    {
      "cell_type": "code",
      "source": [
        "std_final_grouped_five.show()"
      ],
      "metadata": {
        "colab": {
          "base_uri": "https://localhost:8080/"
        },
        "id": "-LXEeAQ5Vy0z",
        "outputId": "0ffa8f00-4eda-4162-c9da-4904696bceaf"
      },
      "execution_count": 100,
      "outputs": [
        {
          "output_type": "stream",
          "name": "stdout",
          "text": [
            "+----------+----------+---------+-------------+---------+------------------+----------------+\n",
            "|     maker|     model|Exe_count|Days_for_sale|price_eur|       Maker-Model|Days_count_ratio|\n",
            "+----------+----------+---------+-------------+---------+------------------+----------------+\n",
            "|    subaru|      baja|        3|        37.67|  5983.09|       subaru-baja|        12.55667|\n",
            "|      jeep| scrambler|        1|        135.0|   8950.0|    jeep-scrambler|           135.0|\n",
            "|   renault|     fuego|        2|        131.5|   4224.5|     renault-fuego|           65.75|\n",
            "|     volvo|       242|        3|        11.67|  4065.58|         volvo-242|            3.89|\n",
            "|    toyota|    solara|        1|        134.0|   7400.0|     toyota-solara|           134.0|\n",
            "|    nissan|     quest|        3|        65.33|   1976.8|      nissan-quest|        21.77667|\n",
            "|  infinity|      ex35|        3|        105.0| 10526.61|     infinity-ex35|            35.0|\n",
            "|      audi|   octavia|        2|        131.0| 16676.54|      audi-octavia|            65.5|\n",
            "| chevrolet|   beretta|        4|         64.5|  2961.43| chevrolet-beretta|          16.125|\n",
            "|   peugeot|       505|        4|         84.5|  4621.41|       peugeot-505|          21.125|\n",
            "|    nissan|    armada|        2|         52.0|  5943.23|     nissan-armada|            26.0|\n",
            "|      jeep|    vectra|        1|        142.0|  5477.42|       jeep-vectra|           142.0|\n",
            "|    toyota|    tacoma|        4|        34.75|  5311.27|     toyota-tacoma|          8.6875|\n",
            "|    suzuki|    sedici|        1|        142.0|  6617.32|     suzuki-sedici|           142.0|\n",
            "|volkswagen|    routan|        5|         33.0|  4041.16| volkswagen-routan|             6.6|\n",
            "|      mini|  new-mini|        2|         70.5|  6014.07|     mini-new-mini|           35.25|\n",
            "|    suzuki|        gs|        2|         91.0|  5274.39|         suzuki-gs|            45.5|\n",
            "|   bentley|brooklands|        2|         73.0|  9726.45|bentley-brooklands|            36.5|\n",
            "|     lotus|    esprit|        1|        168.0| 17500.67|      lotus-esprit|           168.0|\n",
            "|    toyota|      cr-v|        2|         84.0|  3645.45|       toyota-cr-v|            42.0|\n",
            "+----------+----------+---------+-------------+---------+------------------+----------------+\n",
            "only showing top 20 rows\n",
            "\n"
          ]
        }
      ]
    },
    {
      "cell_type": "code",
      "source": [
        "pd_std_count_five= std_final_grouped_five.toPandas()\n",
        "pd_std_count_five=pd_std_count_five.sort_values(by=[\"Days_count_ratio\"],ascending=[True])\n",
        "pd_std_count_five_plot= pd_std_count_five.head(30)\n",
        "pd_std_count_five_plot"
      ],
      "metadata": {
        "colab": {
          "base_uri": "https://localhost:8080/",
          "height": 990
        },
        "id": "xJDHKIJYV0cZ",
        "outputId": "141330c0-0ad6-40d4-cfca-c930e14c8447"
      },
      "execution_count": 101,
      "outputs": [
        {
          "output_type": "execute_result",
          "data": {
            "text/plain": [
              "             maker       model  Exe_count  Days_for_sale  price_eur  \\\n",
              "104            bmw        760i          1           0.00    1295.34   \n",
              "34         bentley      arnage          3           0.67    6365.60   \n",
              "168     mitsubishi      navara          2           1.50    1295.34   \n",
              "233          skoda       astra          2           1.50    1295.34   \n",
              "95            audi    carnival          4           3.75    1295.34   \n",
              "109          mazda    sportage          1           1.00    1295.34   \n",
              "226          skoda      touran          1           1.00    1295.34   \n",
              "102            bmw        418i          1           1.00    1295.34   \n",
              "170           fiat       siena          1           1.00    1295.34   \n",
              "176          skoda      vectra          2           2.00    1295.34   \n",
              "108            bmw        850i          5           5.20    1295.34   \n",
              "149  mercedes-benz  glk220-cdi          3           3.33    1295.34   \n",
              "68           skoda         406          3           4.00    1295.34   \n",
              "179           ford       fabia          2           3.00    1295.34   \n",
              "220            bmw    carnival          2           3.00    1295.34   \n",
              "147          lexus      lx-570          5           9.20    1295.34   \n",
              "44             bmw      850csi          3           6.00    1295.34   \n",
              "215           ford      vectra          1           2.00    1295.34   \n",
              "64         citroen         807          1           2.00    1295.34   \n",
              "196  mercedes-benz     partner          1           2.00    1295.34   \n",
              "169            bmw         200          1           2.00    1295.34   \n",
              "120          honda      galaxy          1           2.00    1295.34   \n",
              "144          tesla    roadster          2           4.50    1295.34   \n",
              "132        porsche         986          3           7.00    1295.34   \n",
              "57   mercedes-benz  glk250-cdi          4           9.50    1295.34   \n",
              "244            bmw        420i          3           7.33    1295.34   \n",
              "66   mercedes-benz        s600          4          10.50    1295.34   \n",
              "224           ford     voyager          2           5.50    1295.34   \n",
              "137            bmw       m550d          4          11.50    1295.34   \n",
              "89           honda         i30          1           3.00    1295.34   \n",
              "\n",
              "                  Maker-Model  Days_count_ratio  \n",
              "104                  bmw-760i           0.00000  \n",
              "34             bentley-arnage           0.22333  \n",
              "168         mitsubishi-navara           0.75000  \n",
              "233               skoda-astra           0.75000  \n",
              "95              audi-carnival           0.93750  \n",
              "109            mazda-sportage           1.00000  \n",
              "226              skoda-touran           1.00000  \n",
              "102                  bmw-418i           1.00000  \n",
              "170                fiat-siena           1.00000  \n",
              "176              skoda-vectra           1.00000  \n",
              "108                  bmw-850i           1.04000  \n",
              "149  mercedes-benz-glk220-cdi           1.11000  \n",
              "68                  skoda-406           1.33333  \n",
              "179                ford-fabia           1.50000  \n",
              "220              bmw-carnival           1.50000  \n",
              "147              lexus-lx-570           1.84000  \n",
              "44                 bmw-850csi           2.00000  \n",
              "215               ford-vectra           2.00000  \n",
              "64                citroen-807           2.00000  \n",
              "196     mercedes-benz-partner           2.00000  \n",
              "169                   bmw-200           2.00000  \n",
              "120              honda-galaxy           2.00000  \n",
              "144            tesla-roadster           2.25000  \n",
              "132               porsche-986           2.33333  \n",
              "57   mercedes-benz-glk250-cdi           2.37500  \n",
              "244                  bmw-420i           2.44333  \n",
              "66         mercedes-benz-s600           2.62500  \n",
              "224              ford-voyager           2.75000  \n",
              "137                 bmw-m550d           2.87500  \n",
              "89                  honda-i30           3.00000  "
            ],
            "text/html": [
              "\n",
              "  <div id=\"df-5840ae3e-63e9-46f9-add6-f41d17be1461\">\n",
              "    <div class=\"colab-df-container\">\n",
              "      <div>\n",
              "<style scoped>\n",
              "    .dataframe tbody tr th:only-of-type {\n",
              "        vertical-align: middle;\n",
              "    }\n",
              "\n",
              "    .dataframe tbody tr th {\n",
              "        vertical-align: top;\n",
              "    }\n",
              "\n",
              "    .dataframe thead th {\n",
              "        text-align: right;\n",
              "    }\n",
              "</style>\n",
              "<table border=\"1\" class=\"dataframe\">\n",
              "  <thead>\n",
              "    <tr style=\"text-align: right;\">\n",
              "      <th></th>\n",
              "      <th>maker</th>\n",
              "      <th>model</th>\n",
              "      <th>Exe_count</th>\n",
              "      <th>Days_for_sale</th>\n",
              "      <th>price_eur</th>\n",
              "      <th>Maker-Model</th>\n",
              "      <th>Days_count_ratio</th>\n",
              "    </tr>\n",
              "  </thead>\n",
              "  <tbody>\n",
              "    <tr>\n",
              "      <th>104</th>\n",
              "      <td>bmw</td>\n",
              "      <td>760i</td>\n",
              "      <td>1</td>\n",
              "      <td>0.00</td>\n",
              "      <td>1295.34</td>\n",
              "      <td>bmw-760i</td>\n",
              "      <td>0.00000</td>\n",
              "    </tr>\n",
              "    <tr>\n",
              "      <th>34</th>\n",
              "      <td>bentley</td>\n",
              "      <td>arnage</td>\n",
              "      <td>3</td>\n",
              "      <td>0.67</td>\n",
              "      <td>6365.60</td>\n",
              "      <td>bentley-arnage</td>\n",
              "      <td>0.22333</td>\n",
              "    </tr>\n",
              "    <tr>\n",
              "      <th>168</th>\n",
              "      <td>mitsubishi</td>\n",
              "      <td>navara</td>\n",
              "      <td>2</td>\n",
              "      <td>1.50</td>\n",
              "      <td>1295.34</td>\n",
              "      <td>mitsubishi-navara</td>\n",
              "      <td>0.75000</td>\n",
              "    </tr>\n",
              "    <tr>\n",
              "      <th>233</th>\n",
              "      <td>skoda</td>\n",
              "      <td>astra</td>\n",
              "      <td>2</td>\n",
              "      <td>1.50</td>\n",
              "      <td>1295.34</td>\n",
              "      <td>skoda-astra</td>\n",
              "      <td>0.75000</td>\n",
              "    </tr>\n",
              "    <tr>\n",
              "      <th>95</th>\n",
              "      <td>audi</td>\n",
              "      <td>carnival</td>\n",
              "      <td>4</td>\n",
              "      <td>3.75</td>\n",
              "      <td>1295.34</td>\n",
              "      <td>audi-carnival</td>\n",
              "      <td>0.93750</td>\n",
              "    </tr>\n",
              "    <tr>\n",
              "      <th>109</th>\n",
              "      <td>mazda</td>\n",
              "      <td>sportage</td>\n",
              "      <td>1</td>\n",
              "      <td>1.00</td>\n",
              "      <td>1295.34</td>\n",
              "      <td>mazda-sportage</td>\n",
              "      <td>1.00000</td>\n",
              "    </tr>\n",
              "    <tr>\n",
              "      <th>226</th>\n",
              "      <td>skoda</td>\n",
              "      <td>touran</td>\n",
              "      <td>1</td>\n",
              "      <td>1.00</td>\n",
              "      <td>1295.34</td>\n",
              "      <td>skoda-touran</td>\n",
              "      <td>1.00000</td>\n",
              "    </tr>\n",
              "    <tr>\n",
              "      <th>102</th>\n",
              "      <td>bmw</td>\n",
              "      <td>418i</td>\n",
              "      <td>1</td>\n",
              "      <td>1.00</td>\n",
              "      <td>1295.34</td>\n",
              "      <td>bmw-418i</td>\n",
              "      <td>1.00000</td>\n",
              "    </tr>\n",
              "    <tr>\n",
              "      <th>170</th>\n",
              "      <td>fiat</td>\n",
              "      <td>siena</td>\n",
              "      <td>1</td>\n",
              "      <td>1.00</td>\n",
              "      <td>1295.34</td>\n",
              "      <td>fiat-siena</td>\n",
              "      <td>1.00000</td>\n",
              "    </tr>\n",
              "    <tr>\n",
              "      <th>176</th>\n",
              "      <td>skoda</td>\n",
              "      <td>vectra</td>\n",
              "      <td>2</td>\n",
              "      <td>2.00</td>\n",
              "      <td>1295.34</td>\n",
              "      <td>skoda-vectra</td>\n",
              "      <td>1.00000</td>\n",
              "    </tr>\n",
              "    <tr>\n",
              "      <th>108</th>\n",
              "      <td>bmw</td>\n",
              "      <td>850i</td>\n",
              "      <td>5</td>\n",
              "      <td>5.20</td>\n",
              "      <td>1295.34</td>\n",
              "      <td>bmw-850i</td>\n",
              "      <td>1.04000</td>\n",
              "    </tr>\n",
              "    <tr>\n",
              "      <th>149</th>\n",
              "      <td>mercedes-benz</td>\n",
              "      <td>glk220-cdi</td>\n",
              "      <td>3</td>\n",
              "      <td>3.33</td>\n",
              "      <td>1295.34</td>\n",
              "      <td>mercedes-benz-glk220-cdi</td>\n",
              "      <td>1.11000</td>\n",
              "    </tr>\n",
              "    <tr>\n",
              "      <th>68</th>\n",
              "      <td>skoda</td>\n",
              "      <td>406</td>\n",
              "      <td>3</td>\n",
              "      <td>4.00</td>\n",
              "      <td>1295.34</td>\n",
              "      <td>skoda-406</td>\n",
              "      <td>1.33333</td>\n",
              "    </tr>\n",
              "    <tr>\n",
              "      <th>179</th>\n",
              "      <td>ford</td>\n",
              "      <td>fabia</td>\n",
              "      <td>2</td>\n",
              "      <td>3.00</td>\n",
              "      <td>1295.34</td>\n",
              "      <td>ford-fabia</td>\n",
              "      <td>1.50000</td>\n",
              "    </tr>\n",
              "    <tr>\n",
              "      <th>220</th>\n",
              "      <td>bmw</td>\n",
              "      <td>carnival</td>\n",
              "      <td>2</td>\n",
              "      <td>3.00</td>\n",
              "      <td>1295.34</td>\n",
              "      <td>bmw-carnival</td>\n",
              "      <td>1.50000</td>\n",
              "    </tr>\n",
              "    <tr>\n",
              "      <th>147</th>\n",
              "      <td>lexus</td>\n",
              "      <td>lx-570</td>\n",
              "      <td>5</td>\n",
              "      <td>9.20</td>\n",
              "      <td>1295.34</td>\n",
              "      <td>lexus-lx-570</td>\n",
              "      <td>1.84000</td>\n",
              "    </tr>\n",
              "    <tr>\n",
              "      <th>44</th>\n",
              "      <td>bmw</td>\n",
              "      <td>850csi</td>\n",
              "      <td>3</td>\n",
              "      <td>6.00</td>\n",
              "      <td>1295.34</td>\n",
              "      <td>bmw-850csi</td>\n",
              "      <td>2.00000</td>\n",
              "    </tr>\n",
              "    <tr>\n",
              "      <th>215</th>\n",
              "      <td>ford</td>\n",
              "      <td>vectra</td>\n",
              "      <td>1</td>\n",
              "      <td>2.00</td>\n",
              "      <td>1295.34</td>\n",
              "      <td>ford-vectra</td>\n",
              "      <td>2.00000</td>\n",
              "    </tr>\n",
              "    <tr>\n",
              "      <th>64</th>\n",
              "      <td>citroen</td>\n",
              "      <td>807</td>\n",
              "      <td>1</td>\n",
              "      <td>2.00</td>\n",
              "      <td>1295.34</td>\n",
              "      <td>citroen-807</td>\n",
              "      <td>2.00000</td>\n",
              "    </tr>\n",
              "    <tr>\n",
              "      <th>196</th>\n",
              "      <td>mercedes-benz</td>\n",
              "      <td>partner</td>\n",
              "      <td>1</td>\n",
              "      <td>2.00</td>\n",
              "      <td>1295.34</td>\n",
              "      <td>mercedes-benz-partner</td>\n",
              "      <td>2.00000</td>\n",
              "    </tr>\n",
              "    <tr>\n",
              "      <th>169</th>\n",
              "      <td>bmw</td>\n",
              "      <td>200</td>\n",
              "      <td>1</td>\n",
              "      <td>2.00</td>\n",
              "      <td>1295.34</td>\n",
              "      <td>bmw-200</td>\n",
              "      <td>2.00000</td>\n",
              "    </tr>\n",
              "    <tr>\n",
              "      <th>120</th>\n",
              "      <td>honda</td>\n",
              "      <td>galaxy</td>\n",
              "      <td>1</td>\n",
              "      <td>2.00</td>\n",
              "      <td>1295.34</td>\n",
              "      <td>honda-galaxy</td>\n",
              "      <td>2.00000</td>\n",
              "    </tr>\n",
              "    <tr>\n",
              "      <th>144</th>\n",
              "      <td>tesla</td>\n",
              "      <td>roadster</td>\n",
              "      <td>2</td>\n",
              "      <td>4.50</td>\n",
              "      <td>1295.34</td>\n",
              "      <td>tesla-roadster</td>\n",
              "      <td>2.25000</td>\n",
              "    </tr>\n",
              "    <tr>\n",
              "      <th>132</th>\n",
              "      <td>porsche</td>\n",
              "      <td>986</td>\n",
              "      <td>3</td>\n",
              "      <td>7.00</td>\n",
              "      <td>1295.34</td>\n",
              "      <td>porsche-986</td>\n",
              "      <td>2.33333</td>\n",
              "    </tr>\n",
              "    <tr>\n",
              "      <th>57</th>\n",
              "      <td>mercedes-benz</td>\n",
              "      <td>glk250-cdi</td>\n",
              "      <td>4</td>\n",
              "      <td>9.50</td>\n",
              "      <td>1295.34</td>\n",
              "      <td>mercedes-benz-glk250-cdi</td>\n",
              "      <td>2.37500</td>\n",
              "    </tr>\n",
              "    <tr>\n",
              "      <th>244</th>\n",
              "      <td>bmw</td>\n",
              "      <td>420i</td>\n",
              "      <td>3</td>\n",
              "      <td>7.33</td>\n",
              "      <td>1295.34</td>\n",
              "      <td>bmw-420i</td>\n",
              "      <td>2.44333</td>\n",
              "    </tr>\n",
              "    <tr>\n",
              "      <th>66</th>\n",
              "      <td>mercedes-benz</td>\n",
              "      <td>s600</td>\n",
              "      <td>4</td>\n",
              "      <td>10.50</td>\n",
              "      <td>1295.34</td>\n",
              "      <td>mercedes-benz-s600</td>\n",
              "      <td>2.62500</td>\n",
              "    </tr>\n",
              "    <tr>\n",
              "      <th>224</th>\n",
              "      <td>ford</td>\n",
              "      <td>voyager</td>\n",
              "      <td>2</td>\n",
              "      <td>5.50</td>\n",
              "      <td>1295.34</td>\n",
              "      <td>ford-voyager</td>\n",
              "      <td>2.75000</td>\n",
              "    </tr>\n",
              "    <tr>\n",
              "      <th>137</th>\n",
              "      <td>bmw</td>\n",
              "      <td>m550d</td>\n",
              "      <td>4</td>\n",
              "      <td>11.50</td>\n",
              "      <td>1295.34</td>\n",
              "      <td>bmw-m550d</td>\n",
              "      <td>2.87500</td>\n",
              "    </tr>\n",
              "    <tr>\n",
              "      <th>89</th>\n",
              "      <td>honda</td>\n",
              "      <td>i30</td>\n",
              "      <td>1</td>\n",
              "      <td>3.00</td>\n",
              "      <td>1295.34</td>\n",
              "      <td>honda-i30</td>\n",
              "      <td>3.00000</td>\n",
              "    </tr>\n",
              "  </tbody>\n",
              "</table>\n",
              "</div>\n",
              "      <button class=\"colab-df-convert\" onclick=\"convertToInteractive('df-5840ae3e-63e9-46f9-add6-f41d17be1461')\"\n",
              "              title=\"Convert this dataframe to an interactive table.\"\n",
              "              style=\"display:none;\">\n",
              "        \n",
              "  <svg xmlns=\"http://www.w3.org/2000/svg\" height=\"24px\"viewBox=\"0 0 24 24\"\n",
              "       width=\"24px\">\n",
              "    <path d=\"M0 0h24v24H0V0z\" fill=\"none\"/>\n",
              "    <path d=\"M18.56 5.44l.94 2.06.94-2.06 2.06-.94-2.06-.94-.94-2.06-.94 2.06-2.06.94zm-11 1L8.5 8.5l.94-2.06 2.06-.94-2.06-.94L8.5 2.5l-.94 2.06-2.06.94zm10 10l.94 2.06.94-2.06 2.06-.94-2.06-.94-.94-2.06-.94 2.06-2.06.94z\"/><path d=\"M17.41 7.96l-1.37-1.37c-.4-.4-.92-.59-1.43-.59-.52 0-1.04.2-1.43.59L10.3 9.45l-7.72 7.72c-.78.78-.78 2.05 0 2.83L4 21.41c.39.39.9.59 1.41.59.51 0 1.02-.2 1.41-.59l7.78-7.78 2.81-2.81c.8-.78.8-2.07 0-2.86zM5.41 20L4 18.59l7.72-7.72 1.47 1.35L5.41 20z\"/>\n",
              "  </svg>\n",
              "      </button>\n",
              "      \n",
              "  <style>\n",
              "    .colab-df-container {\n",
              "      display:flex;\n",
              "      flex-wrap:wrap;\n",
              "      gap: 12px;\n",
              "    }\n",
              "\n",
              "    .colab-df-convert {\n",
              "      background-color: #E8F0FE;\n",
              "      border: none;\n",
              "      border-radius: 50%;\n",
              "      cursor: pointer;\n",
              "      display: none;\n",
              "      fill: #1967D2;\n",
              "      height: 32px;\n",
              "      padding: 0 0 0 0;\n",
              "      width: 32px;\n",
              "    }\n",
              "\n",
              "    .colab-df-convert:hover {\n",
              "      background-color: #E2EBFA;\n",
              "      box-shadow: 0px 1px 2px rgba(60, 64, 67, 0.3), 0px 1px 3px 1px rgba(60, 64, 67, 0.15);\n",
              "      fill: #174EA6;\n",
              "    }\n",
              "\n",
              "    [theme=dark] .colab-df-convert {\n",
              "      background-color: #3B4455;\n",
              "      fill: #D2E3FC;\n",
              "    }\n",
              "\n",
              "    [theme=dark] .colab-df-convert:hover {\n",
              "      background-color: #434B5C;\n",
              "      box-shadow: 0px 1px 3px 1px rgba(0, 0, 0, 0.15);\n",
              "      filter: drop-shadow(0px 1px 2px rgba(0, 0, 0, 0.3));\n",
              "      fill: #FFFFFF;\n",
              "    }\n",
              "  </style>\n",
              "\n",
              "      <script>\n",
              "        const buttonEl =\n",
              "          document.querySelector('#df-5840ae3e-63e9-46f9-add6-f41d17be1461 button.colab-df-convert');\n",
              "        buttonEl.style.display =\n",
              "          google.colab.kernel.accessAllowed ? 'block' : 'none';\n",
              "\n",
              "        async function convertToInteractive(key) {\n",
              "          const element = document.querySelector('#df-5840ae3e-63e9-46f9-add6-f41d17be1461');\n",
              "          const dataTable =\n",
              "            await google.colab.kernel.invokeFunction('convertToInteractive',\n",
              "                                                     [key], {});\n",
              "          if (!dataTable) return;\n",
              "\n",
              "          const docLinkHtml = 'Like what you see? Visit the ' +\n",
              "            '<a target=\"_blank\" href=https://colab.research.google.com/notebooks/data_table.ipynb>data table notebook</a>'\n",
              "            + ' to learn more about interactive tables.';\n",
              "          element.innerHTML = '';\n",
              "          dataTable['output_type'] = 'display_data';\n",
              "          await google.colab.output.renderOutput(dataTable, element);\n",
              "          const docLink = document.createElement('div');\n",
              "          docLink.innerHTML = docLinkHtml;\n",
              "          element.appendChild(docLink);\n",
              "        }\n",
              "      </script>\n",
              "    </div>\n",
              "  </div>\n",
              "  "
            ]
          },
          "metadata": {},
          "execution_count": 101
        }
      ]
    },
    {
      "cell_type": "code",
      "source": [
        "sns.barplot(data=pd_std_count_five_plot.head(7), x=\"Maker-Model\", y=\"Days_for_sale\").set(title='Days_for_Sale vs Maker-model for top Standard cars sold less than 6')"
      ],
      "metadata": {
        "colab": {
          "base_uri": "https://localhost:8080/",
          "height": 599
        },
        "id": "n-HM6wGXV1ql",
        "outputId": "a71eef4d-0050-4ecb-fe63-0ab091abf935"
      },
      "execution_count": 102,
      "outputs": [
        {
          "output_type": "execute_result",
          "data": {
            "text/plain": [
              "[Text(0.5, 1.0, 'Days_for_Sale vs Maker-model for top Standard cars sold less than 6')]"
            ]
          },
          "metadata": {},
          "execution_count": 102
        },
        {
          "output_type": "display_data",
          "data": {
            "text/plain": [
              "<Figure size 1130.4x667.44 with 1 Axes>"
            ],
            "image/png": "[encoded data removed]"
          },
          "metadata": {
            "needs_background": "light"
          }
        }
      ]
    },
    {
      "cell_type": "markdown",
      "source": [
        "**Here we can conclude that the best make and model in this category are:**\n",
        "\n",
        "**1.bmw-760i**\n",
        "\n",
        "**2. bentley-arnage**\n",
        "\n",
        "**3. mitsubishi-navara**\n",
        "\n",
        "**4. Skoda-Astra**\n",
        "\n",
        "**5. Audi-Carnival**"
      ],
      "metadata": {
        "id": "S4__NAypV9bE"
      }
    },
    {
      "cell_type": "markdown",
      "source": [
        "**Analysis for cars which were sold more than 5 times in Standard Segment of Cars**\n",
        "-----"
      ],
      "metadata": {
        "id": "7hcFcXRRWAHa"
      }
    },
    {
      "cell_type": "code",
      "source": [
        "std_final_grouped_over= std_final_grouped.filter(std_final_grouped.Exe_count>5)\n",
        "pd_std_count_over= std_final_grouped_over.toPandas()\n",
        "pd_std_count_over=pd_std_count_over.sort_values(by=[\"Days_count_ratio\"],ascending=[True])\n",
        "pd_std_count_other_plot= pd_std_count_over.head(30)\n",
        "pd_std_count_other_plot\n"
      ],
      "metadata": {
        "colab": {
          "base_uri": "https://localhost:8080/",
          "height": 990
        },
        "id": "spp67_FZV7D3",
        "outputId": "178f5d48-2315-4cab-e8dc-838ecdfb7afa"
      },
      "execution_count": 103,
      "outputs": [
        {
          "output_type": "execute_result",
          "data": {
            "text/plain": [
              "          maker    model  Exe_count  Days_for_sale  price_eur  \\\n",
              "42        skoda  octavia     118457          42.60    3667.01   \n",
              "596       skoda    fabia      90085          49.51    3898.44   \n",
              "127        ford    focus      57202          65.12    5319.04   \n",
              "175  volkswagen     golf      71206          91.41    6192.34   \n",
              "461        opel    astra      54625          72.14    5992.87   \n",
              "63   volkswagen   passat      42389          70.87    4883.73   \n",
              "246        opel    corsa      45321          76.81    5477.03   \n",
              "37         ford   mondeo      29842          55.61    3751.78   \n",
              "593       skoda   superb      22195          42.26    4812.69   \n",
              "709        ford   fiesta      34071          78.78    6219.05   \n",
              "376        audi       a4      25917          64.76    5876.40   \n",
              "356        audi       a3      27282          76.98    7904.69   \n",
              "212       skoda  felicia      12652          37.30    1040.08   \n",
              "336  volkswagen     polo      31311         106.07    6748.98   \n",
              "612        opel   zafira      19982          68.42    5764.28   \n",
              "75         audi       a6      15924          56.56    4909.24   \n",
              "779         bmw    330xd       2251           8.04    1295.34   \n",
              "590        fiat    punto      19404          70.50    3280.81   \n",
              "90      renault   megane      21946          80.68    5040.17   \n",
              "408       smart   fortwo      21860          82.01    6772.71   \n",
              "38         seat    ibiza      21050          82.56    6669.88   \n",
              "524        fiat      500      21079          87.68    9584.40   \n",
              "847         bmw    525xi       1399           5.85    1295.34   \n",
              "407  volkswagen   touran      17303          78.30    6299.09   \n",
              "487       skoda    rapid      11538          54.14    7223.36   \n",
              "243        seat     leon      15963          75.17    8607.20   \n",
              "462      toyota    yaris      15835          75.65    6617.70   \n",
              "500     citroen       c4      15048          72.88    9197.29   \n",
              "118        opel   vectra      12822          62.97    2069.56   \n",
              "519        ford    c-max      14489          72.28    7601.64   \n",
              "\n",
              "           Maker-Model  Days_count_ratio  \n",
              "42       skoda-octavia           0.00036  \n",
              "596        skoda-fabia           0.00055  \n",
              "127         ford-focus           0.00114  \n",
              "175    volkswagen-golf           0.00128  \n",
              "461         opel-astra           0.00132  \n",
              "63   volkswagen-passat           0.00167  \n",
              "246         opel-corsa           0.00169  \n",
              "37         ford-mondeo           0.00186  \n",
              "593       skoda-superb           0.00190  \n",
              "709        ford-fiesta           0.00231  \n",
              "376            audi-a4           0.00250  \n",
              "356            audi-a3           0.00282  \n",
              "212      skoda-felicia           0.00295  \n",
              "336    volkswagen-polo           0.00339  \n",
              "612        opel-zafira           0.00342  \n",
              "75             audi-a6           0.00355  \n",
              "779          bmw-330xd           0.00357  \n",
              "590         fiat-punto           0.00363  \n",
              "90      renault-megane           0.00368  \n",
              "408       smart-fortwo           0.00375  \n",
              "38          seat-ibiza           0.00392  \n",
              "524           fiat-500           0.00416  \n",
              "847          bmw-525xi           0.00418  \n",
              "407  volkswagen-touran           0.00453  \n",
              "487        skoda-rapid           0.00469  \n",
              "243          seat-leon           0.00471  \n",
              "462       toyota-yaris           0.00478  \n",
              "500         citroen-c4           0.00484  \n",
              "118        opel-vectra           0.00491  \n",
              "519         ford-c-max           0.00499  "
            ],
            "text/html": [
              "\n",
              "  <div id=\"df-f1cf38bf-2ea4-4236-88a0-ea39d28afe45\">\n",
              "    <div class=\"colab-df-container\">\n",
              "      <div>\n",
              "<style scoped>\n",
              "    .dataframe tbody tr th:only-of-type {\n",
              "        vertical-align: middle;\n",
              "    }\n",
              "\n",
              "    .dataframe tbody tr th {\n",
              "        vertical-align: top;\n",
              "    }\n",
              "\n",
              "    .dataframe thead th {\n",
              "        text-align: right;\n",
              "    }\n",
              "</style>\n",
              "<table border=\"1\" class=\"dataframe\">\n",
              "  <thead>\n",
              "    <tr style=\"text-align: right;\">\n",
              "      <th></th>\n",
              "      <th>maker</th>\n",
              "      <th>model</th>\n",
              "      <th>Exe_count</th>\n",
              "      <th>Days_for_sale</th>\n",
              "      <th>price_eur</th>\n",
              "      <th>Maker-Model</th>\n",
              "      <th>Days_count_ratio</th>\n",
              "    </tr>\n",
              "  </thead>\n",
              "  <tbody>\n",
              "    <tr>\n",
              "      <th>42</th>\n",
              "      <td>skoda</td>\n",
              "      <td>octavia</td>\n",
              "      <td>118457</td>\n",
              "      <td>42.60</td>\n",
              "      <td>3667.01</td>\n",
              "      <td>skoda-octavia</td>\n",
              "      <td>0.00036</td>\n",
              "    </tr>\n",
              "    <tr>\n",
              "      <th>596</th>\n",
              "      <td>skoda</td>\n",
              "      <td>fabia</td>\n",
              "      <td>90085</td>\n",
              "      <td>49.51</td>\n",
              "      <td>3898.44</td>\n",
              "      <td>skoda-fabia</td>\n",
              "      <td>0.00055</td>\n",
              "    </tr>\n",
              "    <tr>\n",
              "      <th>127</th>\n",
              "      <td>ford</td>\n",
              "      <td>focus</td>\n",
              "      <td>57202</td>\n",
              "      <td>65.12</td>\n",
              "      <td>5319.04</td>\n",
              "      <td>ford-focus</td>\n",
              "      <td>0.00114</td>\n",
              "    </tr>\n",
              "    <tr>\n",
              "      <th>175</th>\n",
              "      <td>volkswagen</td>\n",
              "      <td>golf</td>\n",
              "      <td>71206</td>\n",
              "      <td>91.41</td>\n",
              "      <td>6192.34</td>\n",
              "      <td>volkswagen-golf</td>\n",
              "      <td>0.00128</td>\n",
              "    </tr>\n",
              "    <tr>\n",
              "      <th>461</th>\n",
              "      <td>opel</td>\n",
              "      <td>astra</td>\n",
              "      <td>54625</td>\n",
              "      <td>72.14</td>\n",
              "      <td>5992.87</td>\n",
              "      <td>opel-astra</td>\n",
              "      <td>0.00132</td>\n",
              "    </tr>\n",
              "    <tr>\n",
              "      <th>63</th>\n",
              "      <td>volkswagen</td>\n",
              "      <td>passat</td>\n",
              "      <td>42389</td>\n",
              "      <td>70.87</td>\n",
              "      <td>4883.73</td>\n",
              "      <td>volkswagen-passat</td>\n",
              "      <td>0.00167</td>\n",
              "    </tr>\n",
              "    <tr>\n",
              "      <th>246</th>\n",
              "      <td>opel</td>\n",
              "      <td>corsa</td>\n",
              "      <td>45321</td>\n",
              "      <td>76.81</td>\n",
              "      <td>5477.03</td>\n",
              "      <td>opel-corsa</td>\n",
              "      <td>0.00169</td>\n",
              "    </tr>\n",
              "    <tr>\n",
              "      <th>37</th>\n",
              "      <td>ford</td>\n",
              "      <td>mondeo</td>\n",
              "      <td>29842</td>\n",
              "      <td>55.61</td>\n",
              "      <td>3751.78</td>\n",
              "      <td>ford-mondeo</td>\n",
              "      <td>0.00186</td>\n",
              "    </tr>\n",
              "    <tr>\n",
              "      <th>593</th>\n",
              "      <td>skoda</td>\n",
              "      <td>superb</td>\n",
              "      <td>22195</td>\n",
              "      <td>42.26</td>\n",
              "      <td>4812.69</td>\n",
              "      <td>skoda-superb</td>\n",
              "      <td>0.00190</td>\n",
              "    </tr>\n",
              "    <tr>\n",
              "      <th>709</th>\n",
              "      <td>ford</td>\n",
              "      <td>fiesta</td>\n",
              "      <td>34071</td>\n",
              "      <td>78.78</td>\n",
              "      <td>6219.05</td>\n",
              "      <td>ford-fiesta</td>\n",
              "      <td>0.00231</td>\n",
              "    </tr>\n",
              "    <tr>\n",
              "      <th>376</th>\n",
              "      <td>audi</td>\n",
              "      <td>a4</td>\n",
              "      <td>25917</td>\n",
              "      <td>64.76</td>\n",
              "      <td>5876.40</td>\n",
              "      <td>audi-a4</td>\n",
              "      <td>0.00250</td>\n",
              "    </tr>\n",
              "    <tr>\n",
              "      <th>356</th>\n",
              "      <td>audi</td>\n",
              "      <td>a3</td>\n",
              "      <td>27282</td>\n",
              "      <td>76.98</td>\n",
              "      <td>7904.69</td>\n",
              "      <td>audi-a3</td>\n",
              "      <td>0.00282</td>\n",
              "    </tr>\n",
              "    <tr>\n",
              "      <th>212</th>\n",
              "      <td>skoda</td>\n",
              "      <td>felicia</td>\n",
              "      <td>12652</td>\n",
              "      <td>37.30</td>\n",
              "      <td>1040.08</td>\n",
              "      <td>skoda-felicia</td>\n",
              "      <td>0.00295</td>\n",
              "    </tr>\n",
              "    <tr>\n",
              "      <th>336</th>\n",
              "      <td>volkswagen</td>\n",
              "      <td>polo</td>\n",
              "      <td>31311</td>\n",
              "      <td>106.07</td>\n",
              "      <td>6748.98</td>\n",
              "      <td>volkswagen-polo</td>\n",
              "      <td>0.00339</td>\n",
              "    </tr>\n",
              "    <tr>\n",
              "      <th>612</th>\n",
              "      <td>opel</td>\n",
              "      <td>zafira</td>\n",
              "      <td>19982</td>\n",
              "      <td>68.42</td>\n",
              "      <td>5764.28</td>\n",
              "      <td>opel-zafira</td>\n",
              "      <td>0.00342</td>\n",
              "    </tr>\n",
              "    <tr>\n",
              "      <th>75</th>\n",
              "      <td>audi</td>\n",
              "      <td>a6</td>\n",
              "      <td>15924</td>\n",
              "      <td>56.56</td>\n",
              "      <td>4909.24</td>\n",
              "      <td>audi-a6</td>\n",
              "      <td>0.00355</td>\n",
              "    </tr>\n",
              "    <tr>\n",
              "      <th>779</th>\n",
              "      <td>bmw</td>\n",
              "      <td>330xd</td>\n",
              "      <td>2251</td>\n",
              "      <td>8.04</td>\n",
              "      <td>1295.34</td>\n",
              "      <td>bmw-330xd</td>\n",
              "      <td>0.00357</td>\n",
              "    </tr>\n",
              "    <tr>\n",
              "      <th>590</th>\n",
              "      <td>fiat</td>\n",
              "      <td>punto</td>\n",
              "      <td>19404</td>\n",
              "      <td>70.50</td>\n",
              "      <td>3280.81</td>\n",
              "      <td>fiat-punto</td>\n",
              "      <td>0.00363</td>\n",
              "    </tr>\n",
              "    <tr>\n",
              "      <th>90</th>\n",
              "      <td>renault</td>\n",
              "      <td>megane</td>\n",
              "      <td>21946</td>\n",
              "      <td>80.68</td>\n",
              "      <td>5040.17</td>\n",
              "      <td>renault-megane</td>\n",
              "      <td>0.00368</td>\n",
              "    </tr>\n",
              "    <tr>\n",
              "      <th>408</th>\n",
              "      <td>smart</td>\n",
              "      <td>fortwo</td>\n",
              "      <td>21860</td>\n",
              "      <td>82.01</td>\n",
              "      <td>6772.71</td>\n",
              "      <td>smart-fortwo</td>\n",
              "      <td>0.00375</td>\n",
              "    </tr>\n",
              "    <tr>\n",
              "      <th>38</th>\n",
              "      <td>seat</td>\n",
              "      <td>ibiza</td>\n",
              "      <td>21050</td>\n",
              "      <td>82.56</td>\n",
              "      <td>6669.88</td>\n",
              "      <td>seat-ibiza</td>\n",
              "      <td>0.00392</td>\n",
              "    </tr>\n",
              "    <tr>\n",
              "      <th>524</th>\n",
              "      <td>fiat</td>\n",
              "      <td>500</td>\n",
              "      <td>21079</td>\n",
              "      <td>87.68</td>\n",
              "      <td>9584.40</td>\n",
              "      <td>fiat-500</td>\n",
              "      <td>0.00416</td>\n",
              "    </tr>\n",
              "    <tr>\n",
              "      <th>847</th>\n",
              "      <td>bmw</td>\n",
              "      <td>525xi</td>\n",
              "      <td>1399</td>\n",
              "      <td>5.85</td>\n",
              "      <td>1295.34</td>\n",
              "      <td>bmw-525xi</td>\n",
              "      <td>0.00418</td>\n",
              "    </tr>\n",
              "    <tr>\n",
              "      <th>407</th>\n",
              "      <td>volkswagen</td>\n",
              "      <td>touran</td>\n",
              "      <td>17303</td>\n",
              "      <td>78.30</td>\n",
              "      <td>6299.09</td>\n",
              "      <td>volkswagen-touran</td>\n",
              "      <td>0.00453</td>\n",
              "    </tr>\n",
              "    <tr>\n",
              "      <th>487</th>\n",
              "      <td>skoda</td>\n",
              "      <td>rapid</td>\n",
              "      <td>11538</td>\n",
              "      <td>54.14</td>\n",
              "      <td>7223.36</td>\n",
              "      <td>skoda-rapid</td>\n",
              "      <td>0.00469</td>\n",
              "    </tr>\n",
              "    <tr>\n",
              "      <th>243</th>\n",
              "      <td>seat</td>\n",
              "      <td>leon</td>\n",
              "      <td>15963</td>\n",
              "      <td>75.17</td>\n",
              "      <td>8607.20</td>\n",
              "      <td>seat-leon</td>\n",
              "      <td>0.00471</td>\n",
              "    </tr>\n",
              "    <tr>\n",
              "      <th>462</th>\n",
              "      <td>toyota</td>\n",
              "      <td>yaris</td>\n",
              "      <td>15835</td>\n",
              "      <td>75.65</td>\n",
              "      <td>6617.70</td>\n",
              "      <td>toyota-yaris</td>\n",
              "      <td>0.00478</td>\n",
              "    </tr>\n",
              "    <tr>\n",
              "      <th>500</th>\n",
              "      <td>citroen</td>\n",
              "      <td>c4</td>\n",
              "      <td>15048</td>\n",
              "      <td>72.88</td>\n",
              "      <td>9197.29</td>\n",
              "      <td>citroen-c4</td>\n",
              "      <td>0.00484</td>\n",
              "    </tr>\n",
              "    <tr>\n",
              "      <th>118</th>\n",
              "      <td>opel</td>\n",
              "      <td>vectra</td>\n",
              "      <td>12822</td>\n",
              "      <td>62.97</td>\n",
              "      <td>2069.56</td>\n",
              "      <td>opel-vectra</td>\n",
              "      <td>0.00491</td>\n",
              "    </tr>\n",
              "    <tr>\n",
              "      <th>519</th>\n",
              "      <td>ford</td>\n",
              "      <td>c-max</td>\n",
              "      <td>14489</td>\n",
              "      <td>72.28</td>\n",
              "      <td>7601.64</td>\n",
              "      <td>ford-c-max</td>\n",
              "      <td>0.00499</td>\n",
              "    </tr>\n",
              "  </tbody>\n",
              "</table>\n",
              "</div>\n",
              "      <button class=\"colab-df-convert\" onclick=\"convertToInteractive('df-f1cf38bf-2ea4-4236-88a0-ea39d28afe45')\"\n",
              "              title=\"Convert this dataframe to an interactive table.\"\n",
              "              style=\"display:none;\">\n",
              "        \n",
              "  <svg xmlns=\"http://www.w3.org/2000/svg\" height=\"24px\"viewBox=\"0 0 24 24\"\n",
              "       width=\"24px\">\n",
              "    <path d=\"M0 0h24v24H0V0z\" fill=\"none\"/>\n",
              "    <path d=\"M18.56 5.44l.94 2.06.94-2.06 2.06-.94-2.06-.94-.94-2.06-.94 2.06-2.06.94zm-11 1L8.5 8.5l.94-2.06 2.06-.94-2.06-.94L8.5 2.5l-.94 2.06-2.06.94zm10 10l.94 2.06.94-2.06 2.06-.94-2.06-.94-.94-2.06-.94 2.06-2.06.94z\"/><path d=\"M17.41 7.96l-1.37-1.37c-.4-.4-.92-.59-1.43-.59-.52 0-1.04.2-1.43.59L10.3 9.45l-7.72 7.72c-.78.78-.78 2.05 0 2.83L4 21.41c.39.39.9.59 1.41.59.51 0 1.02-.2 1.41-.59l7.78-7.78 2.81-2.81c.8-.78.8-2.07 0-2.86zM5.41 20L4 18.59l7.72-7.72 1.47 1.35L5.41 20z\"/>\n",
              "  </svg>\n",
              "      </button>\n",
              "      \n",
              "  <style>\n",
              "    .colab-df-container {\n",
              "      display:flex;\n",
              "      flex-wrap:wrap;\n",
              "      gap: 12px;\n",
              "    }\n",
              "\n",
              "    .colab-df-convert {\n",
              "      background-color: #E8F0FE;\n",
              "      border: none;\n",
              "      border-radius: 50%;\n",
              "      cursor: pointer;\n",
              "      display: none;\n",
              "      fill: #1967D2;\n",
              "      height: 32px;\n",
              "      padding: 0 0 0 0;\n",
              "      width: 32px;\n",
              "    }\n",
              "\n",
              "    .colab-df-convert:hover {\n",
              "      background-color: #E2EBFA;\n",
              "      box-shadow: 0px 1px 2px rgba(60, 64, 67, 0.3), 0px 1px 3px 1px rgba(60, 64, 67, 0.15);\n",
              "      fill: #174EA6;\n",
              "    }\n",
              "\n",
              "    [theme=dark] .colab-df-convert {\n",
              "      background-color: #3B4455;\n",
              "      fill: #D2E3FC;\n",
              "    }\n",
              "\n",
              "    [theme=dark] .colab-df-convert:hover {\n",
              "      background-color: #434B5C;\n",
              "      box-shadow: 0px 1px 3px 1px rgba(0, 0, 0, 0.15);\n",
              "      filter: drop-shadow(0px 1px 2px rgba(0, 0, 0, 0.3));\n",
              "      fill: #FFFFFF;\n",
              "    }\n",
              "  </style>\n",
              "\n",
              "      <script>\n",
              "        const buttonEl =\n",
              "          document.querySelector('#df-f1cf38bf-2ea4-4236-88a0-ea39d28afe45 button.colab-df-convert');\n",
              "        buttonEl.style.display =\n",
              "          google.colab.kernel.accessAllowed ? 'block' : 'none';\n",
              "\n",
              "        async function convertToInteractive(key) {\n",
              "          const element = document.querySelector('#df-f1cf38bf-2ea4-4236-88a0-ea39d28afe45');\n",
              "          const dataTable =\n",
              "            await google.colab.kernel.invokeFunction('convertToInteractive',\n",
              "                                                     [key], {});\n",
              "          if (!dataTable) return;\n",
              "\n",
              "          const docLinkHtml = 'Like what you see? Visit the ' +\n",
              "            '<a target=\"_blank\" href=https://colab.research.google.com/notebooks/data_table.ipynb>data table notebook</a>'\n",
              "            + ' to learn more about interactive tables.';\n",
              "          element.innerHTML = '';\n",
              "          dataTable['output_type'] = 'display_data';\n",
              "          await google.colab.output.renderOutput(dataTable, element);\n",
              "          const docLink = document.createElement('div');\n",
              "          docLink.innerHTML = docLinkHtml;\n",
              "          element.appendChild(docLink);\n",
              "        }\n",
              "      </script>\n",
              "    </div>\n",
              "  </div>\n",
              "  "
            ]
          },
          "metadata": {},
          "execution_count": 103
        }
      ]
    },
    {
      "cell_type": "code",
      "source": [
        "sns.barplot(data=pd_std_count_other_plot.head(7), x=\"Maker-Model\", y=\"Days_for_sale\").set(title='Days_for_Sale vs Maker-model for top Standard cars sold more than 5')"
      ],
      "metadata": {
        "colab": {
          "base_uri": "https://localhost:8080/",
          "height": 599
        },
        "id": "FcpOhshXWByQ",
        "outputId": "227db745-f60a-4daa-fd9d-3dc1f8a403da"
      },
      "execution_count": 104,
      "outputs": [
        {
          "output_type": "execute_result",
          "data": {
            "text/plain": [
              "[Text(0.5, 1.0, 'Days_for_Sale vs Maker-model for top Standard cars sold more than 5')]"
            ]
          },
          "metadata": {},
          "execution_count": 104
        },
        {
          "output_type": "display_data",
          "data": {
            "text/plain": [
              "<Figure size 1130.4x667.44 with 1 Axes>"
            ],
            "image/png": "[encoded data removed]"
          },
          "metadata": {
            "needs_background": "light"
          }
        }
      ]
    },
    {
      "cell_type": "markdown",
      "source": [
        "**Here we can conclude that the best cars in the Standard segment for cars which were sold more than 5 in quantity are:**\n",
        "\n",
        "**1. Skoda-Activa**\n",
        "\n",
        "**2. Skoda-Fabia**\n",
        "\n",
        "**3. Ford-Focus**\n",
        "\n",
        "**4. Volkswagen-Golf**\n",
        "\n",
        "**5. Opel-Astra**"
      ],
      "metadata": {
        "id": "EsCOLZsXWFdc"
      }
    },
    {
      "cell_type": "markdown",
      "source": [
        "**ML Model Implementation**\n",
        "------"
      ],
      "metadata": {
        "id": "nLT_GRPdWImw"
      }
    },
    {
      "cell_type": "markdown",
      "source": [
        "**We are using the \"cleaned_data\" for ML Model implementation**\n",
        "-----"
      ],
      "metadata": {
        "id": "s0teMEgHWU-e"
      }
    },
    {
      "cell_type": "code",
      "source": [
        "cleaned_data.show()"
      ],
      "metadata": {
        "colab": {
          "base_uri": "https://localhost:8080/"
        },
        "id": "z4fjLgucWDgu",
        "outputId": "a7f7eae1-334b-4f99-fd6f-af7fc99e450e"
      },
      "execution_count": 105,
      "outputs": [
        {
          "output_type": "stream",
          "name": "stdout",
          "text": [
            "+---------+-------------+-------+----------------+-------------------+------------+---------+------------+----------+----------+------------+--------------+---------+\n",
            "|    maker|        model|mileage|manufacture_year|engine_displacement|engine_power|body_type|transmission|door_count|seat_count|date_created|date_last_seen|price_eur|\n",
            "+---------+-------------+-------+----------------+-------------------+------------+---------+------------+----------+----------+------------+--------------+---------+\n",
            "|    skoda|        fabia| 111970|            2004|               1200|          47|     null|         man|         5|         5|  2015-11-14|    2016-01-27|  2960.77|\n",
            "|    skoda|        fabia| 130749|            2004|               1200|          47|     null|         man|         5|         5|  2015-11-14|    2016-01-27|  2960.77|\n",
            "|     fiat|        stilo|  63588|            2004|               1600|          76|     null|         man|         5|         5|  2015-11-14|    2016-01-27|  2960.77|\n",
            "|    skoda|        fabia|  79348|            2005|               1200|          47|     null|         man|         5|         5|  2015-11-14|    2016-01-27|  2960.77|\n",
            "|     ford|       mondeo| 137382|            2011|               2000|         103|     null|         man|         5|         5|  2015-11-14|    2016-01-27| 10173.95|\n",
            "|    skoda|        fabia| 105849|            2004|               1200|          47|     null|         man|         5|         5|  2015-11-14|    2016-01-27|  2960.77|\n",
            "|     ford|       mondeo| 145198|            2011|               2000|         103|     null|         man|         5|         5|  2015-11-14|    2016-01-27| 10173.95|\n",
            "|    honda|         jazz|  85855|            2005|               1250|          57|     null|         man|         5|         5|  2015-11-14|    2016-01-27|  2960.77|\n",
            "|    dodge|grand-caravan|  38800|            2012|               3605|         211|     null|        auto|         5|         7|  2015-11-14|    2016-01-27| 16653.96|\n",
            "|  hyundai|         getz|  22000|            null|               1086|          48|     null|         man|         5|         5|  2015-11-14|    2016-01-27|  4440.78|\n",
            "|    mazda|            3| 178902|            2004|               1600|          85|     null|         man|         5|         5|  2015-11-14|    2016-01-27|  2960.77|\n",
            "|    skoda|       superb| 172999|            2011|               2000|         147|     null|        auto|         5|         5|  2015-11-14|    2016-01-27| 12657.29|\n",
            "|    skoda|        fabia|  82229|            2006|               1200|          40|     null|         man|         5|         5|  2015-11-14|    2016-01-27|  2960.77|\n",
            "|    skoda|      octavia| 192569|            2003|               1600|          75|     null|         man|         5|         5|  2015-11-14|    2016-01-27|  2960.77|\n",
            "|    skoda|      octavia| 170189|            2005|               1600|          75|     null|         man|         5|         5|  2015-11-14|    2016-01-27|  2960.77|\n",
            "|    skoda|        fabia| 165457|            2007|               1200|          47|     null|         man|         5|         5|  2015-11-14|    2016-01-27|  2960.77|\n",
            "|chevrolet|        spark|  40377|            2008|                800|          38|     null|         man|         5|         5|  2015-11-14|    2016-01-27|  2960.77|\n",
            "|    volvo|         xc70| 227230|            2001|               2400|         147|     null|         man|         5|         5|  2015-11-14|    2016-01-27|  2960.77|\n",
            "|    skoda|      octavia|  29472|            2013|               1598|          77|     null|         man|         5|      null|  2015-11-14|    2016-01-27| 16653.96|\n",
            "|     ford|       fusion| 106000|            null|               1388|          59|     null|         man|         5|         5|  2015-11-14|    2016-01-27|  3993.34|\n",
            "+---------+-------------+-------+----------------+-------------------+------------+---------+------------+----------+----------+------------+--------------+---------+\n",
            "only showing top 20 rows\n",
            "\n"
          ]
        }
      ]
    },
    {
      "cell_type": "code",
      "source": [
        "cleaned_data.columns"
      ],
      "metadata": {
        "colab": {
          "base_uri": "https://localhost:8080/"
        },
        "id": "pGeV5hcEXntC",
        "outputId": "e4ead59f-58ab-4fac-fdfb-325cfddf6d43"
      },
      "execution_count": 106,
      "outputs": [
        {
          "output_type": "execute_result",
          "data": {
            "text/plain": [
              "['maker',\n",
              " 'model',\n",
              " 'mileage',\n",
              " 'manufacture_year',\n",
              " 'engine_displacement',\n",
              " 'engine_power',\n",
              " 'body_type',\n",
              " 'transmission',\n",
              " 'door_count',\n",
              " 'seat_count',\n",
              " 'date_created',\n",
              " 'date_last_seen',\n",
              " 'price_eur']"
            ]
          },
          "metadata": {},
          "execution_count": 106
        }
      ]
    },
    {
      "cell_type": "code",
      "source": [
        "cleaned_data.dtypes"
      ],
      "metadata": {
        "colab": {
          "base_uri": "https://localhost:8080/"
        },
        "id": "2k-HK4u_X4Z6",
        "outputId": "0d405304-f1a8-4d66-de86-882f91cd6e1e"
      },
      "execution_count": 107,
      "outputs": [
        {
          "output_type": "execute_result",
          "data": {
            "text/plain": [
              "[('maker', 'string'),\n",
              " ('model', 'string'),\n",
              " ('mileage', 'int'),\n",
              " ('manufacture_year', 'int'),\n",
              " ('engine_displacement', 'int'),\n",
              " ('engine_power', 'int'),\n",
              " ('body_type', 'string'),\n",
              " ('transmission', 'string'),\n",
              " ('door_count', 'int'),\n",
              " ('seat_count', 'int'),\n",
              " ('date_created', 'date'),\n",
              " ('date_last_seen', 'date'),\n",
              " ('price_eur', 'double')]"
            ]
          },
          "metadata": {},
          "execution_count": 107
        }
      ]
    },
    {
      "cell_type": "code",
      "source": [
        "cleaned_data=cleaned_data.withColumn(\"Current_year\", date_format(current_timestamp(),'y'))"
      ],
      "metadata": {
        "id": "oFt9ejEsX6bs"
      },
      "execution_count": 108,
      "outputs": []
    },
    {
      "cell_type": "code",
      "source": [
        "cleaned_data.show()"
      ],
      "metadata": {
        "colab": {
          "base_uri": "https://localhost:8080/"
        },
        "id": "IMOFadQzX7yO",
        "outputId": "370b1a92-2f7c-4e61-c059-1c8d326684a8"
      },
      "execution_count": 109,
      "outputs": [
        {
          "output_type": "stream",
          "name": "stdout",
          "text": [
            "+---------+-------------+-------+----------------+-------------------+------------+---------+------------+----------+----------+------------+--------------+---------+------------+\n",
            "|    maker|        model|mileage|manufacture_year|engine_displacement|engine_power|body_type|transmission|door_count|seat_count|date_created|date_last_seen|price_eur|Current_year|\n",
            "+---------+-------------+-------+----------------+-------------------+------------+---------+------------+----------+----------+------------+--------------+---------+------------+\n",
            "|    skoda|        fabia| 111970|            2004|               1200|          47|     null|         man|         5|         5|  2015-11-14|    2016-01-27|  2960.77|        2022|\n",
            "|    skoda|        fabia| 130749|            2004|               1200|          47|     null|         man|         5|         5|  2015-11-14|    2016-01-27|  2960.77|        2022|\n",
            "|     fiat|        stilo|  63588|            2004|               1600|          76|     null|         man|         5|         5|  2015-11-14|    2016-01-27|  2960.77|        2022|\n",
            "|    skoda|        fabia|  79348|            2005|               1200|          47|     null|         man|         5|         5|  2015-11-14|    2016-01-27|  2960.77|        2022|\n",
            "|     ford|       mondeo| 137382|            2011|               2000|         103|     null|         man|         5|         5|  2015-11-14|    2016-01-27| 10173.95|        2022|\n",
            "|    skoda|        fabia| 105849|            2004|               1200|          47|     null|         man|         5|         5|  2015-11-14|    2016-01-27|  2960.77|        2022|\n",
            "|     ford|       mondeo| 145198|            2011|               2000|         103|     null|         man|         5|         5|  2015-11-14|    2016-01-27| 10173.95|        2022|\n",
            "|    honda|         jazz|  85855|            2005|               1250|          57|     null|         man|         5|         5|  2015-11-14|    2016-01-27|  2960.77|        2022|\n",
            "|    dodge|grand-caravan|  38800|            2012|               3605|         211|     null|        auto|         5|         7|  2015-11-14|    2016-01-27| 16653.96|        2022|\n",
            "|  hyundai|         getz|  22000|            null|               1086|          48|     null|         man|         5|         5|  2015-11-14|    2016-01-27|  4440.78|        2022|\n",
            "|    mazda|            3| 178902|            2004|               1600|          85|     null|         man|         5|         5|  2015-11-14|    2016-01-27|  2960.77|        2022|\n",
            "|    skoda|       superb| 172999|            2011|               2000|         147|     null|        auto|         5|         5|  2015-11-14|    2016-01-27| 12657.29|        2022|\n",
            "|    skoda|        fabia|  82229|            2006|               1200|          40|     null|         man|         5|         5|  2015-11-14|    2016-01-27|  2960.77|        2022|\n",
            "|    skoda|      octavia| 192569|            2003|               1600|          75|     null|         man|         5|         5|  2015-11-14|    2016-01-27|  2960.77|        2022|\n",
            "|    skoda|      octavia| 170189|            2005|               1600|          75|     null|         man|         5|         5|  2015-11-14|    2016-01-27|  2960.77|        2022|\n",
            "|    skoda|        fabia| 165457|            2007|               1200|          47|     null|         man|         5|         5|  2015-11-14|    2016-01-27|  2960.77|        2022|\n",
            "|chevrolet|        spark|  40377|            2008|                800|          38|     null|         man|         5|         5|  2015-11-14|    2016-01-27|  2960.77|        2022|\n",
            "|    volvo|         xc70| 227230|            2001|               2400|         147|     null|         man|         5|         5|  2015-11-14|    2016-01-27|  2960.77|        2022|\n",
            "|    skoda|      octavia|  29472|            2013|               1598|          77|     null|         man|         5|      null|  2015-11-14|    2016-01-27| 16653.96|        2022|\n",
            "|     ford|       fusion| 106000|            null|               1388|          59|     null|         man|         5|         5|  2015-11-14|    2016-01-27|  3993.34|        2022|\n",
            "+---------+-------------+-------+----------------+-------------------+------------+---------+------------+----------+----------+------------+--------------+---------+------------+\n",
            "only showing top 20 rows\n",
            "\n"
          ]
        }
      ]
    },
    {
      "cell_type": "markdown",
      "source": [
        "New Feature column added : **Age_of_car**"
      ],
      "metadata": {
        "id": "0g_6SS79X_Cd"
      }
    },
    {
      "cell_type": "code",
      "source": [
        "cleaned_data=cleaned_data.withColumn(\"Age_of_car\" ,cleaned_data.Current_year - cleaned_data.manufacture_year)"
      ],
      "metadata": {
        "id": "JCCdQY24X8wG"
      },
      "execution_count": 110,
      "outputs": []
    },
    {
      "cell_type": "code",
      "source": [
        "cleaned_data.show()"
      ],
      "metadata": {
        "colab": {
          "base_uri": "https://localhost:8080/"
        },
        "id": "Bln2zhvGYA2h",
        "outputId": "920903b7-b529-4c31-d5eb-b239586be377"
      },
      "execution_count": 111,
      "outputs": [
        {
          "output_type": "stream",
          "name": "stdout",
          "text": [
            "+---------+-------------+-------+----------------+-------------------+------------+---------+------------+----------+----------+------------+--------------+---------+------------+----------+\n",
            "|    maker|        model|mileage|manufacture_year|engine_displacement|engine_power|body_type|transmission|door_count|seat_count|date_created|date_last_seen|price_eur|Current_year|Age_of_car|\n",
            "+---------+-------------+-------+----------------+-------------------+------------+---------+------------+----------+----------+------------+--------------+---------+------------+----------+\n",
            "|    skoda|        fabia| 111970|            2004|               1200|          47|     null|         man|         5|         5|  2015-11-14|    2016-01-27|  2960.77|        2022|      18.0|\n",
            "|    skoda|        fabia| 130749|            2004|               1200|          47|     null|         man|         5|         5|  2015-11-14|    2016-01-27|  2960.77|        2022|      18.0|\n",
            "|     fiat|        stilo|  63588|            2004|               1600|          76|     null|         man|         5|         5|  2015-11-14|    2016-01-27|  2960.77|        2022|      18.0|\n",
            "|    skoda|        fabia|  79348|            2005|               1200|          47|     null|         man|         5|         5|  2015-11-14|    2016-01-27|  2960.77|        2022|      17.0|\n",
            "|     ford|       mondeo| 137382|            2011|               2000|         103|     null|         man|         5|         5|  2015-11-14|    2016-01-27| 10173.95|        2022|      11.0|\n",
            "|    skoda|        fabia| 105849|            2004|               1200|          47|     null|         man|         5|         5|  2015-11-14|    2016-01-27|  2960.77|        2022|      18.0|\n",
            "|     ford|       mondeo| 145198|            2011|               2000|         103|     null|         man|         5|         5|  2015-11-14|    2016-01-27| 10173.95|        2022|      11.0|\n",
            "|    honda|         jazz|  85855|            2005|               1250|          57|     null|         man|         5|         5|  2015-11-14|    2016-01-27|  2960.77|        2022|      17.0|\n",
            "|    dodge|grand-caravan|  38800|            2012|               3605|         211|     null|        auto|         5|         7|  2015-11-14|    2016-01-27| 16653.96|        2022|      10.0|\n",
            "|  hyundai|         getz|  22000|            null|               1086|          48|     null|         man|         5|         5|  2015-11-14|    2016-01-27|  4440.78|        2022|      null|\n",
            "|    mazda|            3| 178902|            2004|               1600|          85|     null|         man|         5|         5|  2015-11-14|    2016-01-27|  2960.77|        2022|      18.0|\n",
            "|    skoda|       superb| 172999|            2011|               2000|         147|     null|        auto|         5|         5|  2015-11-14|    2016-01-27| 12657.29|        2022|      11.0|\n",
            "|    skoda|        fabia|  82229|            2006|               1200|          40|     null|         man|         5|         5|  2015-11-14|    2016-01-27|  2960.77|        2022|      16.0|\n",
            "|    skoda|      octavia| 192569|            2003|               1600|          75|     null|         man|         5|         5|  2015-11-14|    2016-01-27|  2960.77|        2022|      19.0|\n",
            "|    skoda|      octavia| 170189|            2005|               1600|          75|     null|         man|         5|         5|  2015-11-14|    2016-01-27|  2960.77|        2022|      17.0|\n",
            "|    skoda|        fabia| 165457|            2007|               1200|          47|     null|         man|         5|         5|  2015-11-14|    2016-01-27|  2960.77|        2022|      15.0|\n",
            "|chevrolet|        spark|  40377|            2008|                800|          38|     null|         man|         5|         5|  2015-11-14|    2016-01-27|  2960.77|        2022|      14.0|\n",
            "|    volvo|         xc70| 227230|            2001|               2400|         147|     null|         man|         5|         5|  2015-11-14|    2016-01-27|  2960.77|        2022|      21.0|\n",
            "|    skoda|      octavia|  29472|            2013|               1598|          77|     null|         man|         5|      null|  2015-11-14|    2016-01-27| 16653.96|        2022|       9.0|\n",
            "|     ford|       fusion| 106000|            null|               1388|          59|     null|         man|         5|         5|  2015-11-14|    2016-01-27|  3993.34|        2022|      null|\n",
            "+---------+-------------+-------+----------------+-------------------+------------+---------+------------+----------+----------+------------+--------------+---------+------------+----------+\n",
            "only showing top 20 rows\n",
            "\n"
          ]
        }
      ]
    },
    {
      "cell_type": "markdown",
      "source": [
        "**Listing the distinct values of categorical columns**"
      ],
      "metadata": {
        "id": "gFrR58zOYEjN"
      }
    },
    {
      "cell_type": "code",
      "source": [
        "cleaned_data.groupBy('maker').count().show()"
      ],
      "metadata": {
        "colab": {
          "base_uri": "https://localhost:8080/"
        },
        "id": "3QjjGQh6YBpo",
        "outputId": "e1b00933-73fc-4503-eb41-b1105db420f1"
      },
      "execution_count": 112,
      "outputs": [
        {
          "output_type": "stream",
          "name": "stdout",
          "text": [
            "+-----------+------+\n",
            "|      maker| count|\n",
            "+-----------+------+\n",
            "|     jaguar|  7109|\n",
            "|     hummer|   599|\n",
            "|   infinity|   488|\n",
            "| mitsubishi| 25181|\n",
            "|      lexus|  3320|\n",
            "|     toyota| 64081|\n",
            "|       seat| 71960|\n",
            "|    peugeot| 89533|\n",
            "|   chrysler|  7946|\n",
            "|    citroen|117048|\n",
            "|lamborghini|   217|\n",
            "|      tesla|   149|\n",
            "|      lotus|   167|\n",
            "|       audi|192003|\n",
            "|        bmw| 63530|\n",
            "|     lancia| 12631|\n",
            "|       jeep| 15201|\n",
            "|      dodge|  4320|\n",
            "|    bentley|   532|\n",
            "|      skoda|299436|\n",
            "+-----------+------+\n",
            "only showing top 20 rows\n",
            "\n"
          ]
        }
      ]
    },
    {
      "cell_type": "code",
      "source": [
        "cleaned_data.groupBy('model').count().show()"
      ],
      "metadata": {
        "colab": {
          "base_uri": "https://localhost:8080/"
        },
        "id": "eUyjnHEdYH5q",
        "outputId": "271fcfc7-58b9-4548-e45f-b75f45869635"
      },
      "execution_count": 113,
      "outputs": [
        {
          "output_type": "stream",
          "name": "stdout",
          "text": [
            "+-------------+-----+\n",
            "|        model|count|\n",
            "+-------------+-----+\n",
            "|          xk8|  140|\n",
            "|        viano| 3603|\n",
            "|    punto-evo| 2585|\n",
            "|         hr-v| 1274|\n",
            "|      4runner|   30|\n",
            "|        vivio|   22|\n",
            "|          125|  157|\n",
            "|          944|  192|\n",
            "|    el-camino|   57|\n",
            "|          800|   43|\n",
            "|        sigma|    8|\n",
            "|        viper|   79|\n",
            "|         3200|   93|\n",
            "|           z1|   35|\n",
            "|          rcz|  504|\n",
            "|          124| 1166|\n",
            "|       antara| 2150|\n",
            "|     sportage|11598|\n",
            "|     pacifica|   48|\n",
            "|micro-compact|   42|\n",
            "+-------------+-----+\n",
            "only showing top 20 rows\n",
            "\n"
          ]
        }
      ]
    },
    {
      "cell_type": "code",
      "source": [
        "cleaned_data.groupBy('transmission').count().show()"
      ],
      "metadata": {
        "colab": {
          "base_uri": "https://localhost:8080/"
        },
        "id": "mKRyk02pYI0p",
        "outputId": "ce99ff63-b2c5-48d2-f7b6-2ae6f080beab"
      },
      "execution_count": 114,
      "outputs": [
        {
          "output_type": "stream",
          "name": "stdout",
          "text": [
            "+------------+-------+\n",
            "|transmission|  count|\n",
            "+------------+-------+\n",
            "|         man|1447969|\n",
            "|        auto| 418169|\n",
            "|        null| 492827|\n",
            "+------------+-------+\n",
            "\n"
          ]
        }
      ]
    },
    {
      "cell_type": "code",
      "source": [
        "import pyspark.ml"
      ],
      "metadata": {
        "id": "jayrpDu0YKW1"
      },
      "execution_count": 115,
      "outputs": []
    },
    {
      "cell_type": "code",
      "source": [
        "from pyspark.ml.feature import VectorAssembler,StringIndexer # Loading Machine learning packages"
      ],
      "metadata": {
        "id": "opZSiXgpYLP9"
      },
      "execution_count": 116,
      "outputs": []
    },
    {
      "cell_type": "markdown",
      "source": [
        "**label  encoding for the categorical columns**\n",
        "-----"
      ],
      "metadata": {
        "id": "pGScRshtYSKI"
      }
    },
    {
      "cell_type": "code",
      "source": [
        "makerEncod = StringIndexer(inputCol='maker', outputCol='maker_new', handleInvalid=\"skip\" ).fit(cleaned_data)"
      ],
      "metadata": {
        "id": "Qj6wkH66YMRM"
      },
      "execution_count": 117,
      "outputs": []
    },
    {
      "cell_type": "code",
      "source": [
        "cleaned_data = makerEncod.transform(cleaned_data )"
      ],
      "metadata": {
        "id": "CfORhvs4YU6X"
      },
      "execution_count": 118,
      "outputs": []
    },
    {
      "cell_type": "code",
      "source": [
        "cleaned_data.show(5)"
      ],
      "metadata": {
        "colab": {
          "base_uri": "https://localhost:8080/"
        },
        "id": "6x23m1TmYV0E",
        "outputId": "586a027a-9b63-4738-9fa6-d8eca99b6a28"
      },
      "execution_count": 119,
      "outputs": [
        {
          "output_type": "stream",
          "name": "stdout",
          "text": [
            "+-----+------+-------+----------------+-------------------+------------+---------+------------+----------+----------+------------+--------------+---------+------------+----------+---------+\n",
            "|maker| model|mileage|manufacture_year|engine_displacement|engine_power|body_type|transmission|door_count|seat_count|date_created|date_last_seen|price_eur|Current_year|Age_of_car|maker_new|\n",
            "+-----+------+-------+----------------+-------------------+------------+---------+------------+----------+----------+------------+--------------+---------+------------+----------+---------+\n",
            "|skoda| fabia| 111970|            2004|               1200|          47|     null|         man|         5|         5|  2015-11-14|    2016-01-27|  2960.77|        2022|      18.0|      0.0|\n",
            "|skoda| fabia| 130749|            2004|               1200|          47|     null|         man|         5|         5|  2015-11-14|    2016-01-27|  2960.77|        2022|      18.0|      0.0|\n",
            "| fiat| stilo|  63588|            2004|               1600|          76|     null|         man|         5|         5|  2015-11-14|    2016-01-27|  2960.77|        2022|      18.0|      5.0|\n",
            "|skoda| fabia|  79348|            2005|               1200|          47|     null|         man|         5|         5|  2015-11-14|    2016-01-27|  2960.77|        2022|      17.0|      0.0|\n",
            "| ford|mondeo| 137382|            2011|               2000|         103|     null|         man|         5|         5|  2015-11-14|    2016-01-27| 10173.95|        2022|      11.0|      2.0|\n",
            "+-----+------+-------+----------------+-------------------+------------+---------+------------+----------+----------+------------+--------------+---------+------------+----------+---------+\n",
            "only showing top 5 rows\n",
            "\n"
          ]
        }
      ]
    },
    {
      "cell_type": "code",
      "source": [
        "modelEncod = StringIndexer(inputCol='model', outputCol='model_new',handleInvalid=\"skip\").fit(cleaned_data)"
      ],
      "metadata": {
        "id": "UUctUV4yYWoP"
      },
      "execution_count": 120,
      "outputs": []
    },
    {
      "cell_type": "code",
      "source": [
        "cleaned_data = modelEncod.transform(cleaned_data )"
      ],
      "metadata": {
        "id": "zjPmvewbYYG5"
      },
      "execution_count": 121,
      "outputs": []
    },
    {
      "cell_type": "code",
      "source": [
        "cleaned_data.show(5)"
      ],
      "metadata": {
        "colab": {
          "base_uri": "https://localhost:8080/"
        },
        "id": "RvND98UCYZKC",
        "outputId": "695555b5-69da-463a-e4e9-412558a1f67a"
      },
      "execution_count": 122,
      "outputs": [
        {
          "output_type": "stream",
          "name": "stdout",
          "text": [
            "+-----+------+-------+----------------+-------------------+------------+---------+------------+----------+----------+------------+--------------+---------+------------+----------+---------+---------+\n",
            "|maker| model|mileage|manufacture_year|engine_displacement|engine_power|body_type|transmission|door_count|seat_count|date_created|date_last_seen|price_eur|Current_year|Age_of_car|maker_new|model_new|\n",
            "+-----+------+-------+----------------+-------------------+------------+---------+------------+----------+----------+------------+--------------+---------+------------+----------+---------+---------+\n",
            "|skoda| fabia| 111970|            2004|               1200|          47|     null|         man|         5|         5|  2015-11-14|    2016-01-27|  2960.77|        2022|      18.0|      0.0|      1.0|\n",
            "|skoda| fabia| 130749|            2004|               1200|          47|     null|         man|         5|         5|  2015-11-14|    2016-01-27|  2960.77|        2022|      18.0|      0.0|      1.0|\n",
            "| fiat| stilo|  63588|            2004|               1600|          76|     null|         man|         5|         5|  2015-11-14|    2016-01-27|  2960.77|        2022|      18.0|      5.0|     98.0|\n",
            "|skoda| fabia|  79348|            2005|               1200|          47|     null|         man|         5|         5|  2015-11-14|    2016-01-27|  2960.77|        2022|      17.0|      0.0|      1.0|\n",
            "| ford|mondeo| 137382|            2011|               2000|         103|     null|         man|         5|         5|  2015-11-14|    2016-01-27| 10173.95|        2022|      11.0|      2.0|      9.0|\n",
            "+-----+------+-------+----------------+-------------------+------------+---------+------------+----------+----------+------------+--------------+---------+------------+----------+---------+---------+\n",
            "only showing top 5 rows\n",
            "\n"
          ]
        }
      ]
    },
    {
      "cell_type": "code",
      "source": [
        "transmissionEncod = StringIndexer(inputCol='transmission', outputCol='transmission_new',handleInvalid=\"skip\").fit(cleaned_data)"
      ],
      "metadata": {
        "id": "KmaziKVkYZ9E"
      },
      "execution_count": 123,
      "outputs": []
    },
    {
      "cell_type": "code",
      "source": [
        "cleaned_data = transmissionEncod.transform(cleaned_data )"
      ],
      "metadata": {
        "id": "Ak1eeZT3YbO6"
      },
      "execution_count": 124,
      "outputs": []
    },
    {
      "cell_type": "code",
      "source": [
        "cleaned_data.show(5)"
      ],
      "metadata": {
        "colab": {
          "base_uri": "https://localhost:8080/"
        },
        "id": "Nto8ZxtiYclZ",
        "outputId": "718f710d-5487-4e9c-c23d-d048a085925a"
      },
      "execution_count": 125,
      "outputs": [
        {
          "output_type": "stream",
          "name": "stdout",
          "text": [
            "+-----+------+-------+----------------+-------------------+------------+---------+------------+----------+----------+------------+--------------+---------+------------+----------+---------+---------+----------------+\n",
            "|maker| model|mileage|manufacture_year|engine_displacement|engine_power|body_type|transmission|door_count|seat_count|date_created|date_last_seen|price_eur|Current_year|Age_of_car|maker_new|model_new|transmission_new|\n",
            "+-----+------+-------+----------------+-------------------+------------+---------+------------+----------+----------+------------+--------------+---------+------------+----------+---------+---------+----------------+\n",
            "|skoda| fabia| 111970|            2004|               1200|          47|     null|         man|         5|         5|  2015-11-14|    2016-01-27|  2960.77|        2022|      18.0|      0.0|      1.0|             0.0|\n",
            "|skoda| fabia| 130749|            2004|               1200|          47|     null|         man|         5|         5|  2015-11-14|    2016-01-27|  2960.77|        2022|      18.0|      0.0|      1.0|             0.0|\n",
            "| fiat| stilo|  63588|            2004|               1600|          76|     null|         man|         5|         5|  2015-11-14|    2016-01-27|  2960.77|        2022|      18.0|      5.0|     98.0|             0.0|\n",
            "|skoda| fabia|  79348|            2005|               1200|          47|     null|         man|         5|         5|  2015-11-14|    2016-01-27|  2960.77|        2022|      17.0|      0.0|      1.0|             0.0|\n",
            "| ford|mondeo| 137382|            2011|               2000|         103|     null|         man|         5|         5|  2015-11-14|    2016-01-27| 10173.95|        2022|      11.0|      2.0|      9.0|             0.0|\n",
            "+-----+------+-------+----------------+-------------------+------------+---------+------------+----------+----------+------------+--------------+---------+------------+----------+---------+---------+----------------+\n",
            "only showing top 5 rows\n",
            "\n"
          ]
        }
      ]
    },
    {
      "cell_type": "code",
      "source": [
        "print(cleaned_data.columns)"
      ],
      "metadata": {
        "colab": {
          "base_uri": "https://localhost:8080/"
        },
        "id": "q99vjaPIYdnF",
        "outputId": "ffd3a268-2326-4734-dcb2-b8bac7ed8e5d"
      },
      "execution_count": 126,
      "outputs": [
        {
          "output_type": "stream",
          "name": "stdout",
          "text": [
            "['maker', 'model', 'mileage', 'manufacture_year', 'engine_displacement', 'engine_power', 'body_type', 'transmission', 'door_count', 'seat_count', 'date_created', 'date_last_seen', 'price_eur', 'Current_year', 'Age_of_car', 'maker_new', 'model_new', 'transmission_new']\n"
          ]
        }
      ]
    },
    {
      "cell_type": "code",
      "source": [
        "new_features =['Age_of_car', 'maker_new', 'model_new', 'transmission_new','mileage','engine_displacement', 'engine_power','door_count', 'seat_count']"
      ],
      "metadata": {
        "id": "us5jq19qYgvb"
      },
      "execution_count": 127,
      "outputs": []
    },
    {
      "cell_type": "code",
      "source": [
        "cleaned_data.printSchema()"
      ],
      "metadata": {
        "id": "ChfBj_E5Yh49"
      },
      "execution_count": 127,
      "outputs": []
    },
    {
      "cell_type": "code",
      "source": [
        "new_data =cleaned_data.select('price_eur', 'Age_of_car', 'maker_new', 'model_new', 'transmission_new','mileage','engine_displacement', 'engine_power','door_count', 'seat_count')"
      ],
      "metadata": {
        "id": "RfpksW6kYi9R"
      },
      "execution_count": 128,
      "outputs": []
    },
    {
      "cell_type": "code",
      "source": [
        "new_data.count()"
      ],
      "metadata": {
        "colab": {
          "base_uri": "https://localhost:8080/"
        },
        "id": "ursbHcVBYk4g",
        "outputId": "fe7eb889-9d12-4043-ca1f-b9ff381f5838"
      },
      "execution_count": 129,
      "outputs": [
        {
          "output_type": "execute_result",
          "data": {
            "text/plain": [
              "1866138"
            ]
          },
          "metadata": {},
          "execution_count": 129
        }
      ]
    },
    {
      "cell_type": "code",
      "source": [
        "\n",
        "for col_name in new_features:\n",
        "    new_data = new_data.withColumn(col_name, col(col_name).cast('float'))"
      ],
      "metadata": {
        "id": "hTnw8eaoYl5i"
      },
      "execution_count": 130,
      "outputs": []
    },
    {
      "cell_type": "code",
      "source": [
        "vector_assembler = VectorAssembler(inputCols=new_features,outputCol='features')"
      ],
      "metadata": {
        "id": "CnJ7n4VCYnIl"
      },
      "execution_count": 131,
      "outputs": []
    },
    {
      "cell_type": "code",
      "source": [
        "vector_data =vector_assembler.setHandleInvalid(\"skip\").transform(new_data)"
      ],
      "metadata": {
        "id": "UOUPgVZKYoNr"
      },
      "execution_count": 132,
      "outputs": []
    },
    {
      "cell_type": "code",
      "source": [
        "vector_data.show()"
      ],
      "metadata": {
        "colab": {
          "base_uri": "https://localhost:8080/"
        },
        "id": "UN0j8oUGYpuH",
        "outputId": "cae6a065-963a-454a-e8ed-ad9795ee4244"
      },
      "execution_count": 133,
      "outputs": [
        {
          "output_type": "stream",
          "name": "stdout",
          "text": [
            "+---------+----------+---------+---------+----------------+--------+-------------------+------------+----------+----------+--------------------+\n",
            "|price_eur|Age_of_car|maker_new|model_new|transmission_new| mileage|engine_displacement|engine_power|door_count|seat_count|            features|\n",
            "+---------+----------+---------+---------+----------------+--------+-------------------+------------+----------+----------+--------------------+\n",
            "|  2960.77|      18.0|      0.0|      1.0|             0.0|111970.0|             1200.0|        47.0|       5.0|       5.0|[18.0,0.0,1.0,0.0...|\n",
            "|  2960.77|      18.0|      0.0|      1.0|             0.0|130749.0|             1200.0|        47.0|       5.0|       5.0|[18.0,0.0,1.0,0.0...|\n",
            "|  2960.77|      18.0|      5.0|     98.0|             0.0| 63588.0|             1600.0|        76.0|       5.0|       5.0|[18.0,5.0,98.0,0....|\n",
            "|  2960.77|      17.0|      0.0|      1.0|             0.0| 79348.0|             1200.0|        47.0|       5.0|       5.0|[17.0,0.0,1.0,0.0...|\n",
            "| 10173.95|      11.0|      2.0|      9.0|             0.0|137382.0|             2000.0|       103.0|       5.0|       5.0|[11.0,2.0,9.0,0.0...|\n",
            "|  2960.77|      18.0|      0.0|      1.0|             0.0|105849.0|             1200.0|        47.0|       5.0|       5.0|[18.0,0.0,1.0,0.0...|\n",
            "| 10173.95|      11.0|      2.0|      9.0|             0.0|145198.0|             2000.0|       103.0|       5.0|       5.0|[11.0,2.0,9.0,0.0...|\n",
            "|  2960.77|      17.0|     22.0|    157.0|             0.0| 85855.0|             1250.0|        57.0|       5.0|       5.0|[17.0,22.0,157.0,...|\n",
            "| 16653.96|      10.0|     31.0|    589.0|             1.0| 38800.0|             3605.0|       211.0|       5.0|       7.0|[10.0,31.0,589.0,...|\n",
            "|  2960.77|      18.0|     14.0|    127.0|             0.0|178902.0|             1600.0|        85.0|       5.0|       5.0|[18.0,14.0,127.0,...|\n",
            "| 12657.29|      11.0|      0.0|     12.0|             1.0|172999.0|             2000.0|       147.0|       5.0|       5.0|[11.0,0.0,12.0,1....|\n",
            "|  2960.77|      16.0|      0.0|      1.0|             0.0| 82229.0|             1200.0|        40.0|       5.0|       5.0|[16.0,0.0,1.0,0.0...|\n",
            "|  2960.77|      19.0|      0.0|      0.0|             0.0|192569.0|             1600.0|        75.0|       5.0|       5.0|[19.0,0.0,0.0,0.0...|\n",
            "|  2960.77|      17.0|      0.0|      0.0|             0.0|170189.0|             1600.0|        75.0|       5.0|       5.0|[17.0,0.0,0.0,0.0...|\n",
            "|  2960.77|      15.0|      0.0|      1.0|             0.0|165457.0|             1200.0|        47.0|       5.0|       5.0|[15.0,0.0,1.0,0.0...|\n",
            "|  2960.77|      14.0|     23.0|    193.0|             0.0| 40377.0|              800.0|        38.0|       5.0|       5.0|[14.0,23.0,193.0,...|\n",
            "|  2960.77|      21.0|     15.0|    243.0|             0.0|227230.0|             2400.0|       147.0|       5.0|       5.0|[21.0,15.0,243.0,...|\n",
            "|  2960.77|      17.0|      0.0|      1.0|             0.0|100724.0|             1200.0|        47.0|       5.0|       5.0|[17.0,0.0,1.0,0.0...|\n",
            "|  2960.77|      20.0|      0.0|      1.0|             0.0| 37871.0|             1400.0|        50.0|       4.0|       5.0|[20.0,0.0,1.0,0.0...|\n",
            "|  2960.77|      19.0|      0.0|      1.0|             0.0| 62374.0|             1200.0|        40.0|       5.0|       5.0|[19.0,0.0,1.0,0.0...|\n",
            "+---------+----------+---------+---------+----------------+--------+-------------------+------------+----------+----------+--------------------+\n",
            "only showing top 20 rows\n",
            "\n"
          ]
        }
      ]
    },
    {
      "cell_type": "code",
      "source": [
        "final_data = vector_data.select(\"features\",\"price_eur\")"
      ],
      "metadata": {
        "id": "RWnfEk4OYqt3"
      },
      "execution_count": 134,
      "outputs": []
    },
    {
      "cell_type": "code",
      "source": [
        "final_data.show()"
      ],
      "metadata": {
        "colab": {
          "base_uri": "https://localhost:8080/"
        },
        "id": "UMS2vQ9AYr51",
        "outputId": "e1e61a43-8530-469e-81b3-3d1d7e42e44e"
      },
      "execution_count": 135,
      "outputs": [
        {
          "output_type": "stream",
          "name": "stdout",
          "text": [
            "+--------------------+---------+\n",
            "|            features|price_eur|\n",
            "+--------------------+---------+\n",
            "|[18.0,0.0,1.0,0.0...|  2960.77|\n",
            "|[18.0,0.0,1.0,0.0...|  2960.77|\n",
            "|[18.0,5.0,98.0,0....|  2960.77|\n",
            "|[17.0,0.0,1.0,0.0...|  2960.77|\n",
            "|[11.0,2.0,9.0,0.0...| 10173.95|\n",
            "|[18.0,0.0,1.0,0.0...|  2960.77|\n",
            "|[11.0,2.0,9.0,0.0...| 10173.95|\n",
            "|[17.0,22.0,157.0,...|  2960.77|\n",
            "|[10.0,31.0,589.0,...| 16653.96|\n",
            "|[18.0,14.0,127.0,...|  2960.77|\n",
            "|[11.0,0.0,12.0,1....| 12657.29|\n",
            "|[16.0,0.0,1.0,0.0...|  2960.77|\n",
            "|[19.0,0.0,0.0,0.0...|  2960.77|\n",
            "|[17.0,0.0,0.0,0.0...|  2960.77|\n",
            "|[15.0,0.0,1.0,0.0...|  2960.77|\n",
            "|[14.0,23.0,193.0,...|  2960.77|\n",
            "|[21.0,15.0,243.0,...|  2960.77|\n",
            "|[17.0,0.0,1.0,0.0...|  2960.77|\n",
            "|[20.0,0.0,1.0,0.0...|  2960.77|\n",
            "|[19.0,0.0,1.0,0.0...|  2960.77|\n",
            "+--------------------+---------+\n",
            "only showing top 20 rows\n",
            "\n"
          ]
        }
      ]
    },
    {
      "cell_type": "markdown",
      "source": [
        "**Splitting the data into test and training**\n",
        "------"
      ],
      "metadata": {
        "id": "YFZppyprYus-"
      }
    },
    {
      "cell_type": "code",
      "source": [
        "train_data,test_data = final_data.randomSplit([0.7,0.3])"
      ],
      "metadata": {
        "id": "bo8hyZYMYs1G"
      },
      "execution_count": 136,
      "outputs": []
    },
    {
      "cell_type": "code",
      "source": [
        "train_data.show()"
      ],
      "metadata": {
        "colab": {
          "base_uri": "https://localhost:8080/"
        },
        "id": "yQAymeQhYyca",
        "outputId": "4f57eec3-774a-4431-93f5-a0bc79413d4f"
      },
      "execution_count": 137,
      "outputs": [
        {
          "output_type": "stream",
          "name": "stdout",
          "text": [
            "+--------------------+---------+\n",
            "|            features|price_eur|\n",
            "+--------------------+---------+\n",
            "|[6.0,0.0,0.0,0.0,...| 16284.23|\n",
            "|[6.0,0.0,0.0,0.0,...| 20318.28|\n",
            "|[6.0,0.0,0.0,0.0,...|  18900.0|\n",
            "|[6.0,0.0,0.0,0.0,...|  17989.0|\n",
            "|[6.0,0.0,0.0,0.0,...| 17770.32|\n",
            "|[6.0,0.0,0.0,0.0,...| 17770.32|\n",
            "|[6.0,0.0,0.0,0.0,...| 18083.72|\n",
            "|[6.0,0.0,0.0,0.0,...| 18924.87|\n",
            "|[6.0,0.0,0.0,0.0,...|  19250.0|\n",
            "|[6.0,0.0,0.0,0.0,...| 19332.72|\n",
            "|[6.0,0.0,0.0,0.0,...|  19390.0|\n",
            "|[6.0,0.0,0.0,0.0,...|  20884.0|\n",
            "|[6.0,0.0,0.0,0.0,...|  21145.0|\n",
            "|[6.0,0.0,0.0,0.0,...|  21245.0|\n",
            "|[6.0,0.0,0.0,0.0,...|  21490.0|\n",
            "|[6.0,0.0,0.0,0.0,...|  21490.0|\n",
            "|[6.0,0.0,0.0,0.0,...|  21544.0|\n",
            "|[6.0,0.0,0.0,0.0,...|  21544.0|\n",
            "|[6.0,0.0,0.0,0.0,...|  21544.0|\n",
            "|[6.0,0.0,0.0,0.0,...|  21644.0|\n",
            "+--------------------+---------+\n",
            "only showing top 20 rows\n",
            "\n"
          ]
        }
      ]
    },
    {
      "cell_type": "markdown",
      "source": [
        "**Implementing ML models**\n",
        "---- "
      ],
      "metadata": {
        "id": "ZtyYWFHKY1ih"
      }
    },
    {
      "cell_type": "code",
      "source": [
        "from pyspark.ml.classification import LogisticRegression, DecisionTreeClassifier"
      ],
      "metadata": {
        "id": "I-WwzwpnYzdF"
      },
      "execution_count": 138,
      "outputs": []
    },
    {
      "cell_type": "code",
      "source": [
        "from pyspark.ml.regression import LinearRegression, RandomForestRegressor, DecisionTreeRegressor"
      ],
      "metadata": {
        "id": "aEd210l1Y5_M"
      },
      "execution_count": 139,
      "outputs": []
    },
    {
      "cell_type": "markdown",
      "source": [
        "**1.Linear Regression**\n",
        "-----"
      ],
      "metadata": {
        "id": "1dvjRyQFY8vW"
      }
    },
    {
      "cell_type": "code",
      "source": [
        "Lregression = LinearRegression(featuresCol=\"features\",labelCol=\"price_eur\")"
      ],
      "metadata": {
        "id": "31BuuC6lY7Ej"
      },
      "execution_count": 140,
      "outputs": []
    },
    {
      "cell_type": "code",
      "source": [
        "Lregression =Lregression.fit(train_data)"
      ],
      "metadata": {
        "id": "48BLt5aJZARe"
      },
      "execution_count": 141,
      "outputs": []
    },
    {
      "cell_type": "code",
      "source": [
        "print(Lregression.coefficients)\n",
        "print(Lregression.intercept)\n"
      ],
      "metadata": {
        "colab": {
          "base_uri": "https://localhost:8080/"
        },
        "id": "1Ic1RRQEZBBc",
        "outputId": "e143c397-5717-4679-f735-e4176b7032f9"
      },
      "execution_count": 142,
      "outputs": [
        {
          "output_type": "stream",
          "name": "stdout",
          "text": [
            "[-472.7506029457637,36.676723317936826,-3.532086176878233,1699.5600167564978,-0.030419077862575798,-0.19648783816600005,156.6800345926658,-902.2976162258378,-142.9833275775955]\n",
            "10177.407120732867\n"
          ]
        }
      ]
    },
    {
      "cell_type": "code",
      "source": [
        "Lresults = Lregression.evaluate(test_data)"
      ],
      "metadata": {
        "id": "36J4Ua5sZB7D"
      },
      "execution_count": 143,
      "outputs": []
    },
    {
      "cell_type": "code",
      "source": [
        "Lresults.predictions.show()"
      ],
      "metadata": {
        "colab": {
          "base_uri": "https://localhost:8080/"
        },
        "id": "Oo5FDBlLZC2-",
        "outputId": "e91d360e-de7b-4372-8326-286f0ddbe055"
      },
      "execution_count": 144,
      "outputs": [
        {
          "output_type": "stream",
          "name": "stdout",
          "text": [
            "+--------------------+---------+------------------+\n",
            "|            features|price_eur|        prediction|\n",
            "+--------------------+---------+------------------+\n",
            "|[6.0,0.0,0.0,0.0,...| 17770.32|19977.499671218626|\n",
            "|[6.0,0.0,0.0,0.0,...| 17770.32|19977.499671218626|\n",
            "|[6.0,0.0,0.0,0.0,...| 18924.87|19977.499671218626|\n",
            "|[6.0,0.0,0.0,0.0,...|  19250.0|19977.499671218626|\n",
            "|[6.0,0.0,0.0,0.0,...|  20485.0|19977.499671218626|\n",
            "|[6.0,0.0,0.0,0.0,...| 20883.53|19977.499671218626|\n",
            "|[6.0,0.0,0.0,0.0,...|  21490.0|19977.499671218626|\n",
            "|[6.0,0.0,0.0,0.0,...|  21544.0|19977.499671218626|\n",
            "|[6.0,0.0,0.0,0.0,...|  21544.0|19977.499671218626|\n",
            "|[6.0,0.0,0.0,0.0,...|  21584.0|19977.499671218626|\n",
            "|[6.0,0.0,0.0,0.0,...|  21699.0|19977.499671218626|\n",
            "|[6.0,0.0,0.0,0.0,...|  22264.0|19977.499671218626|\n",
            "|[6.0,0.0,0.0,0.0,...|  22366.0|19977.499671218626|\n",
            "|[6.0,0.0,0.0,0.0,...|  19610.0|19075.202054992784|\n",
            "|[6.0,0.0,0.0,0.0,...|  19690.0|19075.202054992784|\n",
            "|[6.0,0.0,0.0,0.0,...| 21428.57|19075.202054992784|\n",
            "|[6.0,0.0,0.0,0.0,...| 17349.63|15393.891636883618|\n",
            "|[6.0,0.0,0.0,0.0,...| 17602.96|15393.891636883618|\n",
            "|[6.0,0.0,0.0,0.0,...| 21798.67| 14491.59402065778|\n",
            "|[6.0,0.0,0.0,0.0,...|  22910.0|22442.978217250537|\n",
            "+--------------------+---------+------------------+\n",
            "only showing top 20 rows\n",
            "\n"
          ]
        }
      ]
    },
    {
      "cell_type": "code",
      "source": [
        "Lresults.r2,Lresults.rootMeanSquaredError,Lresults.meanSquaredError"
      ],
      "metadata": {
        "colab": {
          "base_uri": "https://localhost:8080/"
        },
        "id": "cw-Lka4LZDyU",
        "outputId": "46e6fa18-2d34-4c1f-8596-83a898060fa6"
      },
      "execution_count": 145,
      "outputs": [
        {
          "output_type": "execute_result",
          "data": {
            "text/plain": [
              "(8.149501443344143e-06, 1652378.0586443427, 2730353248689.2466)"
            ]
          },
          "metadata": {},
          "execution_count": 145
        }
      ]
    },
    {
      "cell_type": "code",
      "source": [
        "#Lregression.save(\"LinearRegression_model23\")"
      ],
      "metadata": {
        "id": "kvrFLZEwZE3B"
      },
      "execution_count": 146,
      "outputs": []
    },
    {
      "cell_type": "markdown",
      "source": [
        "**Random Forest Regression**\n",
        "----"
      ],
      "metadata": {
        "id": "DPBOQ0yoZHnX"
      }
    },
    {
      "cell_type": "code",
      "source": [
        "Randomregression = RandomForestRegressor(featuresCol=\"features\",labelCol=\"price_eur\")"
      ],
      "metadata": {
        "id": "j8l9GuYaZGDl"
      },
      "execution_count": 147,
      "outputs": []
    },
    {
      "cell_type": "code",
      "source": [
        "\n",
        "model1 =Randomregression.fit(train_data)"
      ],
      "metadata": {
        "id": "tqG6GmzcZRX5"
      },
      "execution_count": 148,
      "outputs": []
    },
    {
      "cell_type": "code",
      "source": [
        "predictions = model1.transform(test_data)"
      ],
      "metadata": {
        "id": "EplT9DzDZSj0"
      },
      "execution_count": 149,
      "outputs": []
    },
    {
      "cell_type": "code",
      "source": [
        "predictions.show()"
      ],
      "metadata": {
        "colab": {
          "base_uri": "https://localhost:8080/"
        },
        "id": "qrcLDxHhZTjf",
        "outputId": "b4be1a66-259a-464c-a47b-7fae32172f1c"
      },
      "execution_count": 150,
      "outputs": [
        {
          "output_type": "stream",
          "name": "stdout",
          "text": [
            "+--------------------+---------+------------------+\n",
            "|            features|price_eur|        prediction|\n",
            "+--------------------+---------+------------------+\n",
            "|[6.0,0.0,0.0,0.0,...| 17770.32| 17142.08751468077|\n",
            "|[6.0,0.0,0.0,0.0,...| 17770.32| 17142.08751468077|\n",
            "|[6.0,0.0,0.0,0.0,...| 18924.87| 17142.08751468077|\n",
            "|[6.0,0.0,0.0,0.0,...|  19250.0| 17142.08751468077|\n",
            "|[6.0,0.0,0.0,0.0,...|  20485.0| 17142.08751468077|\n",
            "|[6.0,0.0,0.0,0.0,...| 20883.53| 17142.08751468077|\n",
            "|[6.0,0.0,0.0,0.0,...|  21490.0| 17142.08751468077|\n",
            "|[6.0,0.0,0.0,0.0,...|  21544.0| 17142.08751468077|\n",
            "|[6.0,0.0,0.0,0.0,...|  21544.0| 17142.08751468077|\n",
            "|[6.0,0.0,0.0,0.0,...|  21584.0| 17142.08751468077|\n",
            "|[6.0,0.0,0.0,0.0,...|  21699.0| 17142.08751468077|\n",
            "|[6.0,0.0,0.0,0.0,...|  22264.0| 17142.08751468077|\n",
            "|[6.0,0.0,0.0,0.0,...|  22366.0| 17142.08751468077|\n",
            "|[6.0,0.0,0.0,0.0,...|  19610.0|16993.035721612534|\n",
            "|[6.0,0.0,0.0,0.0,...|  19690.0|16993.035721612534|\n",
            "|[6.0,0.0,0.0,0.0,...| 21428.57|16993.035721612534|\n",
            "|[6.0,0.0,0.0,0.0,...| 17349.63|13326.849124890936|\n",
            "|[6.0,0.0,0.0,0.0,...| 17602.96|13326.849124890936|\n",
            "|[6.0,0.0,0.0,0.0,...| 21798.67|13326.849124890936|\n",
            "|[6.0,0.0,0.0,0.0,...|  22910.0| 22371.73250470932|\n",
            "+--------------------+---------+------------------+\n",
            "only showing top 20 rows\n",
            "\n"
          ]
        }
      ]
    },
    {
      "cell_type": "code",
      "source": [
        "from pyspark.ml.evaluation import RegressionEvaluator"
      ],
      "metadata": {
        "id": "zTcNdEaeZUVl"
      },
      "execution_count": 151,
      "outputs": []
    },
    {
      "cell_type": "code",
      "source": [
        "\n",
        "evalator = RegressionEvaluator(labelCol=\"price_eur\",predictionCol=\"prediction\",metricName=\"rmse\")\n",
        "print(\"RMSE =\", evalator.evaluate(predictions))"
      ],
      "metadata": {
        "colab": {
          "base_uri": "https://localhost:8080/"
        },
        "id": "WI0qOBaPZVQ4",
        "outputId": "391ac8f6-2e71-4817-ad51-db7a2f796f4e"
      },
      "execution_count": 152,
      "outputs": [
        {
          "output_type": "stream",
          "name": "stdout",
          "text": [
            "RMSE = 1652369.4289839591\n"
          ]
        }
      ]
    },
    {
      "cell_type": "code",
      "source": [
        "evalator = RegressionEvaluator(labelCol=\"price_eur\",predictionCol=\"prediction\",metricName=\"r2\")\n",
        "print(\"r2 =\",evalator.evaluate(predictions))"
      ],
      "metadata": {
        "colab": {
          "base_uri": "https://localhost:8080/"
        },
        "id": "kQUSGWnOZWIV",
        "outputId": "845f94e1-71a0-4fb8-bb59-dc15aaa4becc"
      },
      "execution_count": 153,
      "outputs": [
        {
          "output_type": "stream",
          "name": "stdout",
          "text": [
            "r2 = 1.8594529415660865e-05\n"
          ]
        }
      ]
    },
    {
      "cell_type": "markdown",
      "source": [
        "**Based on root mean squared error, Linear Regression model better fits the data.**\n",
        "----  "
      ],
      "metadata": {
        "id": "4PUwhYL3Zo3S"
      }
    },
    {
      "cell_type": "code",
      "source": [
        "Lregression.save(\"cars_prediction\")"
      ],
      "metadata": {
        "id": "-KnS8sSYby6l"
      },
      "execution_count": 199,
      "outputs": []
    },
    {
      "cell_type": "code",
      "source": [],
      "metadata": {
        "id": "BA0mBYzwdw-v"
      },
      "execution_count": null,
      "outputs": []
    }
  ]
}